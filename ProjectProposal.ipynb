{
 "cells": [
  {
   "cell_type": "markdown",
   "metadata": {},
   "source": [
    "# COGS 108 - Assignment 4: Project Proposal"
   ]
  },
  {
   "cell_type": "markdown",
   "metadata": {},
   "source": [
    "## Important\n",
    "\n",
    "- Make sure all group member (3-5 people) are listed in the group members section.\n",
    "- ONE, and only one, member of your group should upload this notebook to TritonED. \n",
    "- Each member of the group will receive the same grade on this assignment. \n",
    "- Keep the file name the same: submit the file 'A4_ProjectProposal.ipynb'"
   ]
  },
  {
   "cell_type": "markdown",
   "metadata": {},
   "source": [
    "## Overview"
   ]
  },
  {
   "cell_type": "markdown",
   "metadata": {},
   "source": [
    "Read the project description, and detailed instructions for this assignment, in the 'A4_ProjectOutlineAndProposal' pdf."
   ]
  },
  {
   "cell_type": "markdown",
   "metadata": {},
   "source": [
    "## Group Members: Fill in the Student ID's of each group member here\n",
    "- A12818225\n",
    "- A11346949\n",
    "- A53053719\n",
    "- A14266131\n",
    "- A13788705"
   ]
  },
  {
   "cell_type": "markdown",
   "metadata": {},
   "source": [
    "### Research Question\n",
    "\n",
    "What is your research question? (1-2 sentences)"
   ]
  },
  {
   "cell_type": "markdown",
   "metadata": {},
   "source": [
    "Our research question: Is UCSD providing enough financial aid to Students to support rising tuition and living costs in La Jolla?"
   ]
  },
  {
   "cell_type": "markdown",
   "metadata": {},
   "source": [
    "### Hypothesis\n",
    "\n",
    "What is your prediction (2-3 sentences)"
   ]
  },
  {
   "cell_type": "markdown",
   "metadata": {},
   "source": [
    "Depending on your income bracket we predict that overall UCSD doesn't provide enough financial aid to its students."
   ]
  },
  {
   "cell_type": "markdown",
   "metadata": {},
   "source": [
    "### Dataset(s)\n",
    "\n",
    "What data will you use to answer your question? Describe the dataset in terms of number of observations, what kind of features it contains, etc. You must use at least one dataset containing at least approximately 1000 observations (if your data are smaller but you feel they are sufficient, email Prof. Voytek). You are welcome (and in fact recommended) to find multiple datasets! If you do so, describe each one, and briefly explain how you will combine them together. "
   ]
  },
  {
   "cell_type": "markdown",
   "metadata": {},
   "source": [
    "*Fill in your dataset information here*\n",
    "\n",
    "(Copy this information for each dataset)\n",
    "- Dataset Name:\n",
    "- Link to the dataset:\n",
    "- Number of observations:\n",
    "\n",
    "1-2 sentences describing the dataset. \n",
    "\n",
    "If you plan to use multiple datasets, add 1-2 sentences about how you plan to combine these datasets.\n",
    "\n",
    "- Dataset Name: Zillow API\n",
    "- Link to the dataset: https://www.zillow.com/howto/api/APIOverview.htm\n",
    "- Number of observations: Past 30 days of La Jolla houses. Exact number unknown but higher than 2000\n",
    "\n",
    "The Zillow API Network turns member sites into mini real estate portals by offering fresh and provocative real estate and mortgage content to keep people coming back. There are four categories of APIs. \n",
    "1) Home Valuation API \n",
    "2) Property Details API\n",
    "3) Neighborhood Data API\n",
    "4) Zillow Neighborhood Boundaries API\n",
    "\n",
    "\n",
    "We are looking for more Datasets right now to add more to our search."
   ]
  },
  {
   "cell_type": "markdown",
   "metadata": {},
   "source": [
    "### Background & Prior Work\n",
    "\n",
    "Why is this question of interest, what background information led you to your hypothesis, and why is this important?\n",
    "\n",
    "Find some relevant prior work, and reference them. Even if you think you have a totally novel question, find the most similar prior work you can, and discuss how it relates to your project. \n",
    "\n",
    "References can be research publications, but they need not be: blogs, github repositories, company websites, etc., are viable references if they are relevant to your project.\n",
    "\n",
    "(2-3 paragraphs, including at least 2 references)"
   ]
  },
  {
   "cell_type": "markdown",
   "metadata": {},
   "source": [
    "*Fill in your background and prior work here* \n",
    "\n",
    "As a student living in UCSD area we are concern about the living situation and costs in La Jolla. Rent has been constantly increasing year to year. For example, it was about 1600 per month for a 2br and 2bathroom apartment 3 years ago and now it is close to 2600 per month for a 2br and 2bathroom apartment. Which is $12000 more expensive per year. As students that are interested in financial aid, we are concerned that with rising tuition and living costs that financial aid has not increased with it. So we want to see if UCSD is providing enough financial aid to its students.\n",
    "\n",
    "This is important because based on studies done on Financial aid if UCSD offers confortable amounts of financial aid to its students then it will see more students graduate and finish with higher gpa.\n",
    "\n",
    "\n",
    "Referencess (include a link):\n",
    "- 1) http://www.latimes.com/local/lanow/la-me-ln-uc-tuition-increase-20170103-story.html\n",
    "This is a LA Times article about Rising Tuition costs and rising housing costs poses a question if financial aid is rising appropriately\n",
    "- 2) https://link.springer.com/article/10.1007/BF00992025\n",
    "This is research called: Financial aid and student persistence: An application of causal modeling. It is research done into the effects of certain Financial aid on income brackets. It concluded if you are in a low income bracket you have a lower gpa on average, but if there is more financial aid students on average finish more credits and have a higher gpa."
   ]
  },
  {
   "cell_type": "markdown",
   "metadata": {},
   "source": [
    "### Proposed Methods\n",
    "\n",
    "What methods will you use to analyze your data?\n",
    "\n",
    "- How 'clean' is the data? To the extent that it requires cleaning, how will you do so?\n",
    "- How will you analyze the data? Be as specific as you can. Briefly mention any pre-processing steps that are required for your methods (for example, checking data distributions and performing any transformations that may be required). Include a brief outline of how you will apply your chosen method(s). \n",
    "- What do you plan to report? Briefly mention any key visualizations you plan to create, and/or the kind of result you will be able to report that addresses your question (this could be, for example, the outcome of some statistical test(s), prediction error on a model, a model fit parameter, etc.).\n",
    "- Include a list of packages you expect to use for you project. If you plan to use packages we have not used in class, add a very brief description about them (a few words is sufficient). "
   ]
  },
  {
   "cell_type": "markdown",
   "metadata": {},
   "source": [
    "*Fill in your proposed methods information here:*\n",
    "\n",
    "*Data Cleaning (2-3 sentences)*\n",
    "\n",
    "The data is fairly clean in the sense that it is organized but has extra data on neighboorhoods outside the UCSD area and extranous categories.  We will sort the data to certain neighborhoods like La Jolla, La Jolla Village and take out data categories we don't need.\n",
    "\n",
    "*Data Analysis (1-2 paragraphs)*\n",
    "\n",
    "Taking our data we will find the average monthly or yearly rent for each nearby neighborhood. And based on each income bracket of Financial aid we will check if Financial aid is increasing at a good rate with the living costs and tuition of UCSD. \n",
    "\n",
    "*What to report (2-3 sentences)*\n",
    "\n",
    "We plan to report whether or not Financial aid covers most of the living and tuition of UCSD and if it should be increased and how much. We will have Plots against Financial aid packages and Housing to see the difference between the two. Possible rent increases in the forseable future using linear regression. Tuition increasing and how it could affect our buying power(extra money for housing or others).\n",
    "\n",
    "Packages we plan to use:\n",
    "- panda\n",
    "- numpy\n",
    "- matlab"
   ]
  },
  {
   "cell_type": "markdown",
   "metadata": {},
   "source": [
    "### Discussion\n",
    "\n",
    "What are the pitfalls and potential confounds of your data and/or methods? For example, how might biases in your data sources or analyses influence your interpretations? What will you do if you methods don't work and/or your hypotheses are wrong?\n",
    "\n",
    "(2-3 paragraphs)"
   ]
  },
  {
   "cell_type": "markdown",
   "metadata": {},
   "source": [
    "Since we are looking at data for the past 30 days on Zillow right now,  we may overestimate or underestimate because there is a lot of demand for houses right now. There is also the fact that we are currently pulling data from one source some problems there. If our hypothesis is wrong, we congratuate UCSD Financial aid program and look to see if they can continue to do a good job in the future.\n",
    "\n",
    "If time permits we will look into factors that influence housing costs. La Jolla is known to be very safe so if we can do a analysis of crime and housing then we can determine how much of a factor crime is to monthly rent. How do Location to school or local areas, Amendities, and transportation affect housing costs. So if we look into the factors that influence housing we can create a model that could predict what you should pay for a certain house right now based on many different factors, and predict future house prices."
   ]
  }
 ],
 "metadata": {
  "kernelspec": {
   "display_name": "Python 3",
   "language": "python",
   "name": "python3"
  },
  "language_info": {
   "codemirror_mode": {
    "name": "ipython",
    "version": 3
   },
   "file_extension": ".py",
   "mimetype": "text/x-python",
   "name": "python",
   "nbconvert_exporter": "python",
   "pygments_lexer": "ipython3",
   "version": "3.6.0"
  }
 },
 "nbformat": 4,
 "nbformat_minor": 2
}
