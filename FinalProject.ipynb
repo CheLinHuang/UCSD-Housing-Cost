{
 "cells": [
  {
   "cell_type": "markdown",
   "metadata": {},
   "source": [
    "# Analysis of rising housing costs for UCSD students\n",
    "### By\n",
    "- Andrew T. Li, A12818225\n",
    "- Andrew Yoo, A11346949\n",
    "- Chelin Huang, A53053719\n",
    "- Alex LaBranche, A14266131\n",
    "- Matthias Baker, A13788705"
   ]
  },
  {
   "cell_type": "markdown",
   "metadata": {},
   "source": [
    "### Introduction and Background:\n",
    "As students we have to worry about whether or not we can graduate with good grades and without too much debt. Dealing with these things with so many unknowns can make a student's life more difficult than it has to be. So we wanted to explore one of those unknowns -- off campus housing. Many of us live off campus due to UCSD no longer offering 4 year guarunteed on-campus housing, and many of us rely on financial aid. So we wanted to explore the relationships between off-campus housing, rising tuition costs, and if financial aid is keeping up with both of them.\n",
    "\n",
    "Our group would like to determine if housing prices and tuiton costs are rising, but fincancial aid is not adjusting accordingly then financial aid packages should be adjusted.\n"
   ]
  },
  {
   "cell_type": "markdown",
   "metadata": {},
   "source": [
    "### DataSet: Zillow API\n",
    "- Link to the dataset: https://www.zillow.com/howto/api/APIOverview.htm\n",
    "\n",
    "From the Zillow API we are using the GetDeepSearchResults. This will allow us to get information such as rent price, when the home entered the market, location, region name, and much more. The specific fields our group is interested in are location, time the property entered the market, and rent per month. This will allow us to analyze the financial impact of housing relevant to students in the UCSD area. \n",
    "\n",
    "The Zillow API allows up to 1000 requests per day, and for the purposes of our project we will be using roughly 10,000 observations. These observations range from 2010 to 2017. \n",
    "\n",
    "### DataSet: UCSD Financial Aid\n",
    "- Link to data:\n"
   ]
  },
  {
   "cell_type": "markdown",
   "metadata": {},
   "source": [
    "### Data Cleaning\n",
    "\n",
    "In order to analyze housing prices in UCSD, data that was pulled from Zillow needed to be cleaned. Observations needed to be filtered so that the homes and apartments were in University City, and posted during the time period 2010 - 2017. "
   ]
  },
  {
   "cell_type": "code",
   "execution_count": 1,
   "metadata": {
    "collapsed": true
   },
   "outputs": [],
   "source": [
    "import urllib\n",
    "import json\n",
    "import requests\n",
    "import pprint\n",
    "\n",
    "# For XML -> json\n",
    "import xml.etree.ElementTree as ET\n",
    "from xmljson import badgerfish as bf"
   ]
  },
  {
   "cell_type": "code",
   "execution_count": 2,
   "metadata": {},
   "outputs": [
    {
     "name": "stdout",
     "output_type": "stream",
     "text": [
      "curl: option -d: requires parameter\r\n",
      "curl: try 'curl --help' or 'curl --manual' for more information\r\n"
     ]
    }
   ],
   "source": [
    "# For url -> json\n",
    "!curl -i -X PUT -H \"Content-Type: application/json\" -d"
   ]
  },
  {
   "cell_type": "code",
   "execution_count": 3,
   "metadata": {
    "collapsed": true
   },
   "outputs": [],
   "source": [
    "# Put in your zws_id here as a string\n",
    "zws_id=\"\""
   ]
  },
  {
   "cell_type": "code",
   "execution_count": null,
   "metadata": {
    "collapsed": true
   },
   "outputs": [],
   "source": [
    "# Use redirected request of zpid only url to get address on zillow\n",
    "import requests\n",
    "response = requests.get(\"https://www.zillow.com/homedetails/16842323_zpid/\")\n",
    "if response.history:\n",
    "    print (\"Request was redirected\")\n",
    "    for resp in response.history:\n",
    "        print (resp.status_code, resp.url)\n",
    "    print (\"Final destination:\")\n",
    "    print (response.status_code, response.url)\n",
    "else:\n",
    "    print (\"Request was not redirected\")"
   ]
  },
  {
   "cell_type": "code",
   "execution_count": null,
   "metadata": {
    "collapsed": true
   },
   "outputs": [],
   "source": [
    "def API_URL(zws_id, zpid):\n",
    "    response = requests.get(\"https://www.zillow.com/homedetails/\" + str(zpid) + \"_zpid/\")\n",
    "    address = response.url.split('/')[-3]\n",
    "    url = \"http://www.zillow.com/webservice/GetDeepSearchResults.htm?zws-id=\" + zws_id + \"&address=\"\n",
    "    street = address.split('-')[:-4]\n",
    "    for i in range(len(street)-1):\n",
    "        url += street[i]\n",
    "        url += \"+\"\n",
    "    url += street[-1] + \"&citystatezip=\" + address.split('-')[-4] + \"+\" + address.split('-')[-3]\n",
    "    url += \"%2C+CA&rentzestimate=true\"\n",
    "    return url\n",
    "\n",
    "\n",
    "def rentData_URL(zpid):\n",
    "    return \"https://www.zillow.com/ajax/homedetail/HomeValueChartData.htm?mt=9&zpid=\" + str(zpid) + \"&format=json\"\n",
    "\n",
    "result_str = '{http://www.zillow.com/static/xsd/SearchResults.xsd}searchresults'"
   ]
  },
  {
   "cell_type": "code",
   "execution_count": null,
   "metadata": {
    "collapsed": true
   },
   "outputs": [],
   "source": [
    "# 'a' for appending newly scraping data\n",
    "outfile = open('data.json', 'a')\n",
    "\n",
    "merged_json = dict()\n",
    "for zpid in range(16837859,(16837859+0)):\n",
    "    try:\n",
    "        json_property = json.loads(json.dumps(bf.data(ET.fromstring(urllib.request.urlopen(API_URL(zws_id,zpid)).read()))))\n",
    "    except IndexError:\n",
    "        continue\n",
    "    if json_property[result_str]['message']['code']['$'] != 0:\n",
    "        if json_property[result_str]['message']['code']['$'] == 7:\n",
    "            print(\"this account has reached is maximum number of calls for today\")\n",
    "            print(\"The last index\")\n",
    "            print(zpid)\n",
    "            break\n",
    "        else:\n",
    "            continue\n",
    "    json_propertyResponse = json_property[result_str]['response']\n",
    "    json_rentHistory = json.loads(urllib.request.urlopen(rentData_URL(zpid)).read())[0]\n",
    "    json_propertyResponse[\"HomeValueChartData\"] = json.dumps(json_rentHistory)\n",
    "    merged_json['zpid'] = zpid\n",
    "    merged_json['data'] = json_propertyResponse\n",
    "    json.dump(merged_json, outfile)\n",
    "    outfile.write('\\n')\n",
    "outfile.close()\n",
    "print(\"Done\")"
   ]
  },
  {
   "cell_type": "code",
   "execution_count": null,
   "metadata": {
    "collapsed": true
   },
   "outputs": [],
   "source": [
    "# Load the result json file to dest_json\n",
    "dest_json = dict()\n",
    "for line in open('data.json','r'):\n",
    "    temp = json.loads(line)\n",
    "    dest_json[temp['zpid']] = temp['data']"
   ]
  },
  {
   "cell_type": "code",
   "execution_count": null,
   "metadata": {
    "collapsed": true
   },
   "outputs": [],
   "source": [
    "pprint.pprint(dest_json[16842300])"
   ]
  }
 ],
 "metadata": {
  "kernelspec": {
   "display_name": "Python 3",
   "language": "python",
   "name": "python3"
  },
  "language_info": {
   "codemirror_mode": {
    "name": "ipython",
    "version": 3
   },
   "file_extension": ".py",
   "mimetype": "text/x-python",
   "name": "python",
   "nbconvert_exporter": "python",
   "pygments_lexer": "ipython3",
   "version": "3.6.0"
  }
 },
 "nbformat": 4,
 "nbformat_minor": 2
}
