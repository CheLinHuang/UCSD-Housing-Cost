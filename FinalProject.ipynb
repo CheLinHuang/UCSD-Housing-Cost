{
 "cells": [
  {
   "cell_type": "markdown",
   "metadata": {},
   "source": [
    "# Analysis of rising housing costs for UCSD students\n",
    "### By\n",
    "- Andrew T. Li, A12818225\n",
    "- Andrew Yoo, A11346949\n",
    "- Chelin Huang, A53053719\n",
    "- Alex LaBranche, A14266131\n",
    "- Matthias Baker, A13788705"
   ]
  },
  {
   "cell_type": "markdown",
   "metadata": {},
   "source": [
    "### Introduction and Background:\n",
    "As students we have to worry about whether or not we can graduate with good grades and without too much debt. Dealing with these things with so many unknowns can make a student's life more difficult than it has to be. So we wanted to explore one of those unknowns -- off campus housing. Many of us live off campus due to UCSD no longer offering 4 year guarunteed on-campus housing, and many of us rely on financial aid. So we wanted to explore the relationships between off-campus housing, rising tuition costs, and if financial aid is keeping up with both of them.\n",
    "\n",
    "Our group would like to determine if housing prices and tuiton costs are rising, but fincancial aid is not adjusting accordingly then financial aid packages should be adjusted.\n"
   ]
  },
  {
   "cell_type": "markdown",
   "metadata": {},
   "source": [
    "### DataSet: Zillow API\n",
    "- Link to the dataset: https://www.zillow.com/howto/api/APIOverview.htm\n",
    "\n",
    "From the Zillow API we are using the GetDeepSearchResults. This will allow us to get information such as rent price, when the home entered the market, location, region name, and much more. The specific fields our group is interested in are location, time the property entered the market, and rent per month. This will allow us to analyze the financial impact of housing relevant to students in the UCSD area. \n",
    "\n",
    "The Zillow API allows up to 1000 requests per day, and for the purposes of our project we will be using roughly 10,000 observations. These observations range from 2010 to 2017. \n",
    "\n",
    "### DataSet: UCSD Financial Aid\n",
    "- Link to data:\n"
   ]
  },
  {
   "cell_type": "code",
   "execution_count": 1,
   "metadata": {
    "collapsed": true
   },
   "outputs": [],
   "source": [
    "import urllib\n",
    "import json\n",
    "import requests\n",
    "import pprint\n",
    "\n",
    "# For XML -> json\n",
    "import xml.etree.ElementTree as ET\n",
    "from xmljson import badgerfish as bf"
   ]
  },
  {
   "cell_type": "code",
   "execution_count": 2,
   "metadata": {},
   "outputs": [
    {
     "name": "stdout",
     "output_type": "stream",
     "text": [
      "curl: option -d: requires parameter\r\n",
      "curl: try 'curl --help' or 'curl --manual' for more information\r\n"
     ]
    }
   ],
   "source": [
    "# For url -> json\n",
    "!curl -i -X PUT -H \"Content-Type: application/json\" -d"
   ]
  },
  {
   "cell_type": "code",
   "execution_count": 3,
   "metadata": {
    "collapsed": true
   },
   "outputs": [],
   "source": [
    "# Put in your zws_id here as a string\n",
    "zws_id=\"\""
   ]
  },
  {
   "cell_type": "code",
   "execution_count": null,
   "metadata": {
    "collapsed": true
   },
   "outputs": [],
   "source": [
    "# Use redirected request of zpid only url to get address on zillow\n",
    "import requests\n",
    "response = requests.get(\"https://www.zillow.com/homedetails/16842323_zpid/\")\n",
    "if response.history:\n",
    "    print (\"Request was redirected\")\n",
    "    for resp in response.history:\n",
    "        print (resp.status_code, resp.url)\n",
    "    print (\"Final destination:\")\n",
    "    print (response.status_code, response.url)\n",
    "else:\n",
    "    print (\"Request was not redirected\")"
   ]
  },
  {
   "cell_type": "code",
   "execution_count": null,
   "metadata": {
    "collapsed": true
   },
   "outputs": [],
   "source": [
    "def API_URL(zws_id, zpid):\n",
    "    response = requests.get(\"https://www.zillow.com/homedetails/\" + str(zpid) + \"_zpid/\")\n",
    "    address = response.url.split('/')[-3]\n",
    "    url = \"http://www.zillow.com/webservice/GetDeepSearchResults.htm?zws-id=\" + zws_id + \"&address=\"\n",
    "    street = address.split('-')[:-4]\n",
    "    for i in range(len(street)-1):\n",
    "        url += street[i]\n",
    "        url += \"+\"\n",
    "    url += street[-1] + \"&citystatezip=\" + address.split('-')[-4] + \"+\" + address.split('-')[-3]\n",
    "    url += \"%2C+CA&rentzestimate=true\"\n",
    "    return url\n",
    "\n",
    "\n",
    "def rentData_URL(zpid):\n",
    "    return \"https://www.zillow.com/ajax/homedetail/HomeValueChartData.htm?mt=9&zpid=\" + str(zpid) + \"&format=json\"\n",
    "\n",
    "result_str = '{http://www.zillow.com/static/xsd/SearchResults.xsd}searchresults'"
   ]
  },
  {
   "cell_type": "code",
   "execution_count": null,
   "metadata": {
    "collapsed": true
   },
   "outputs": [],
   "source": [
    "# 'a' for appending newly scraping data\n",
    "outfile = open('data.json', 'a')\n",
    "\n",
    "merged_json = dict()\n",
    "for zpid in range(16837859,(16837859+0)):\n",
    "    try:\n",
    "        json_property = json.loads(json.dumps(bf.data(ET.fromstring(urllib.request.urlopen(API_URL(zws_id,zpid)).read()))))\n",
    "    except IndexError:\n",
    "        continue\n",
    "    if json_property[result_str]['message']['code']['$'] != 0:\n",
    "        if json_property[result_str]['message']['code']['$'] == 7:\n",
    "            print(\"this account has reached is maximum number of calls for today\")\n",
    "            print(\"The last index\")\n",
    "            print(zpid)\n",
    "            break\n",
    "        else:\n",
    "            continue\n",
    "    json_propertyResponse = json_property[result_str]['response']\n",
    "    json_rentHistory = json.loads(urllib.request.urlopen(rentData_URL(zpid)).read())[0]\n",
    "    json_propertyResponse[\"HomeValueChartData\"] = json.dumps(json_rentHistory)\n",
    "    merged_json['zpid'] = zpid\n",
    "    merged_json['data'] = json_propertyResponse\n",
    "    json.dump(merged_json, outfile)\n",
    "    outfile.write('\\n')\n",
    "outfile.close()\n",
    "print(\"Done\")"
   ]
  },
  {
   "cell_type": "code",
   "execution_count": null,
   "metadata": {
    "collapsed": true
   },
   "outputs": [],
   "source": [
    "# Load the result json file to dest_json\n",
    "dest_json = dict()\n",
    "for line in open('data.json','r'):\n",
    "    temp = json.loads(line)\n",
    "    dest_json[temp['zpid']] = temp['data']"
   ]
  },
  {
   "cell_type": "code",
   "execution_count": null,
   "metadata": {
    "collapsed": true
   },
   "outputs": [],
   "source": [
    "pprint.pprint(dest_json[16842300])"
   ]
  },
  {
   "cell_type": "markdown",
   "metadata": {},
   "source": [
    "### Data Cleaning\n",
    "\n",
    "In order to analyze housing prices in UCSD, data that was pulled from Zillow needed to be cleaned. Observations needed to be filtered so that the homes and apartments were in University City, and posted during the time period 2010 - 2017. In the following code, the averages of the filtered posts on Zillow are calculated. Homes are categorized by the number of bathrooms and bedrooms. And these categories are averaged to find a trend from 2010 to 2017."
   ]
  },
  {
   "cell_type": "code",
   "execution_count": null,
   "metadata": {
    "collapsed": true
   },
   "outputs": [],
   "source": [
    "# we should create a cell at the top of all the imports \n",
    "import pandas as pd\n",
    "import json\n",
    "import time\n",
    "import statistics"
   ]
  },
  {
   "cell_type": "code",
   "execution_count": null,
   "metadata": {
    "collapsed": true
   },
   "outputs": [],
   "source": [
    "# read the json file\n",
    "\n",
    "df = pd.read_json('data.json',lines=True)"
   ]
  },
  {
   "cell_type": "code",
   "execution_count": null,
   "metadata": {
    "collapsed": true
   },
   "outputs": [],
   "source": [
    "# initialize dictionaries that will track year and price\n",
    "\n",
    "bedroom1_bathroom1 = {}\n",
    "bedroom1_bathroom15 = {}\n",
    "bedroom2_bathroom1 = {}\n",
    "bedroom2_bathroom15 = {}\n",
    "bedroom2_bathroom2 = {}\n",
    "bedroom2_bathroom25 = {}\n",
    "bedroom3_bathroom2 = {}\n",
    "bedroom3_bathroom25 = {}\n",
    "bedroom4 = {}\n",
    "bedroom5 = {}\n",
    "\n",
    "c = 0"
   ]
  },
  {
   "cell_type": "code",
   "execution_count": null,
   "metadata": {
    "collapsed": true
   },
   "outputs": [],
   "source": [
    "# helper function that will be used to update dictionaries with rent prices \n",
    "\n",
    "def update_bedroom_dict(num_bed, curr_zip, update_dict):\n",
    "    if num_bed == 1:\n",
    "        if bathroom == 1.0:\n",
    "            bedroom1_bathroom1[curr_zip] = update_dict\n",
    "        if bathroom == 1.5:\n",
    "            bedroom1_bathroom15[curr_zip] = update_dict\n",
    "    if num_bed == 2:\n",
    "        if bathroom == 1:\n",
    "            bedroom2_bathroom1[curr_zip] = update_dict\n",
    "        if bathroom == 1.0:\n",
    "            bedroom2_bathroom1[curr_zip] = update_dict\n",
    "        if bathroom == 1.5:\n",
    "            bedroom2_bathroom15[curr_zip] = update_dict\n",
    "        if bathroom == 2:\n",
    "            bedroom2_bathroom2[curr_zip] = update_dict\n",
    "        if bathroom == 2.0:\n",
    "            bedroom2_bathroom2[curr_zip] = update_dict\n",
    "        if bathroom == 2.5:\n",
    "            bedroom2_bathroom25[curr_zip] = update_dict\n",
    "    if num_bed == 3:\n",
    "        if bathroom == 2:\n",
    "            bedroom3_bathroom2[curr_zip] = update_dict\n",
    "        if bathroom == 2.0:\n",
    "            bedroom3_bathroom2[curr_zip] = update_dict\n",
    "        if bathroom == 2.5:\n",
    "            bedroom3_bathroom25[curr_zip] = update_dict\n",
    "    if num_bed == 4:\n",
    "        bedroom4[zpid] = new_dict\n",
    "    if num_bed == 5:\n",
    "        bedroom5[zpid] = new_dict"
   ]
  },
  {
   "cell_type": "code",
   "execution_count": null,
   "metadata": {
    "collapsed": true
   },
   "outputs": [],
   "source": [
    "# iterate the data to populate the dictionaries for each bedroom and bathroom type\n",
    "for zpid in df['zpid'].tolist():\n",
    "    homeValue = df.loc[df['zpid'] == zpid]['data'][c]['HomeValueChartData']\n",
    "    \n",
    "    try:\n",
    "        bedroom = df.loc[df['zpid'] == zpid]['data'][c]['results']['result']['bedrooms']['$']\n",
    "        bathroom = df.loc[df['zpid'] == zpid]['data'][c]['results']['result']['bathrooms']['$']\n",
    "    except (TypeError,KeyError):\n",
    "        c=c+1\n",
    "        continue\n",
    "    c = c + 1\n",
    "\n",
    "    chart = json.loads(homeValue)\n",
    "    y= {2010:[], 2011:[], 2012:[], 2013:[], 2014:[], 2015:[], 2016:[], 2017:[]}\n",
    "\n",
    "    # append rent so that it can be averaged later\n",
    "    # the key is the year from [-4:]\n",
    "    for i in chart['points']:\n",
    "        year = int(time.ctime(i['x']/1000)[-4:])\n",
    "        y[year].append(i['y'])\n",
    "  \n",
    "    # new_dict will have key: year,  value: average rent price\n",
    "    new_dict ={}\n",
    "    for key, value in y.items():\n",
    "        if (len(value) != 0):\n",
    "            new_dict[key] = statistics.mean(value)\n",
    "            \n",
    "    update_bedroom_dict(bedroom, zpid, new_dict)"
   ]
  },
  {
   "cell_type": "code",
   "execution_count": null,
   "metadata": {
    "collapsed": true
   },
   "outputs": [],
   "source": [
    "# Note that the logic here is repeated for the other bedroom options below\n",
    "\n",
    "print(\"Average rent: 1 bedroom 1 bathrooms\\n\")\n",
    "\n",
    "# need to create a new dict that will be the one printed for result\n",
    "# so that we don't modify the dictionary that we are iterating over \n",
    "\n",
    "rent_dict_1 = {2010:[],2011:[],2012:[],2013:[],2014:[],2015:[],2016:[],2017:[]}\n",
    "for key, value in bedroom1_bathroom1.items():\n",
    "    for year, rent in value.items():\n",
    "        rent_dict_1[year].append(rent)\n",
    "        \n",
    "# update the dictionary with same key but with value of averages     \n",
    "\n",
    "for key, value in rent_dict_1.items():\n",
    "    rent_dict_1[key] = statistics.mean(value)\n",
    "    \n",
    "    \n",
    "print(rent_dict_1)\n",
    "        \n",
    "print(\"\\nAverage rent: 1 bedroom 1.5 bathrooms\\n\")\n",
    "\n",
    "rent_dict_15 = {2010:[],2011:[],2012:[],2013:[],2014:[],2015:[],2016:[],2017:[]}\n",
    "for key, value in bedroom1_bathroom15.items():\n",
    "    for year, rent in value.items():\n",
    "        rent_dict_15[year].append(rent)\n",
    "        \n",
    "        \n",
    "for key, value in rent_dict_15.items():\n",
    "    rent_dict_15[key] = statistics.mean(value)\n",
    "    \n",
    "    \n",
    "print(rent_dict_15)\n"
   ]
  },
  {
   "cell_type": "code",
   "execution_count": null,
   "metadata": {
    "collapsed": true
   },
   "outputs": [],
   "source": [
    "print(\"Average rent: 2 bedroom 1 bathrooms\\n\")\n",
    "\n",
    "rent_dict_21 = {2010:[],2011:[],2012:[],2013:[],2014:[],2015:[],2016:[],2017:[]}\n",
    "for key, value in bedroom2_bathroom1.items():\n",
    "    for year, rent in value.items():\n",
    "        rent_dict_21[year].append(rent)\n",
    "        \n",
    "        \n",
    "for key, value in rent_dict_21.items():\n",
    "    rent_dict_21[key] = statistics.mean(value)\n",
    "    \n",
    "    \n",
    "print(rent_dict_21)\n",
    "\n",
    "print(\"\\nAverage rent: 2 bedroom 1.5 bathrooms\\n\")\n",
    "\n",
    "rent_dict_2 = {2010:[],2011:[],2012:[],2013:[],2014:[],2015:[],2016:[],2017:[]}\n",
    "for key, value in bedroom2_bathroom15.items():\n",
    "    for year, rent in value.items():\n",
    "        rent_dict_2[year].append(rent)\n",
    "        \n",
    "        \n",
    "for key, value in rent_dict_2.items():\n",
    "    rent_dict_2[key] = statistics.mean(value)\n",
    "    \n",
    "    \n",
    "print(rent_dict_2)\n",
    "\n",
    "print(\"\\nAverage rent: 2 bedroom 2 bathrooms\\n\")\n",
    "\n",
    "rent_dict_22 = {2010:[],2011:[],2012:[],2013:[],2014:[],2015:[],2016:[],2017:[]}\n",
    "for key, value in bedroom2_bathroom2.items():\n",
    "    for year, rent in value.items():\n",
    "        rent_dict_22[year].append(rent)\n",
    "        \n",
    "        \n",
    "for key, value in rent_dict_22.items():\n",
    "    rent_dict_22[key] = statistics.mean(value)\n",
    "    \n",
    "    \n",
    "print(rent_dict_22)\n",
    "\n",
    "print(\"\\nAverage rent: 2 bedroom 2.5 bathrooms\\n\")\n",
    "\n",
    "rent_dict_25 = {2010:[],2011:[],2012:[],2013:[],2014:[],2015:[],2016:[],2017:[]}\n",
    "for key, value in bedroom2_bathroom25.items():\n",
    "    for year, rent in value.items():\n",
    "        rent_dict_25[year].append(rent)\n",
    "        \n",
    "        \n",
    "for key, value in rent_dict_25.items():\n",
    "    rent_dict_25[key] = statistics.mean(value)\n",
    "    \n",
    "    \n",
    "print(rent_dict_25)"
   ]
  },
  {
   "cell_type": "code",
   "execution_count": null,
   "metadata": {
    "collapsed": true
   },
   "outputs": [],
   "source": [
    "print(\"Average rent: 3 bedroom 2 bathrooms\\n\")\n",
    "\n",
    "rent_dict_3 = {2010:[],2011:[],2012:[],2013:[],2014:[],2015:[],2016:[],2017:[]}\n",
    "for key, value in bedroom3_bathroom2.items():\n",
    "    for year, rent in value.items():\n",
    "        rent_dict_3[year].append(rent)\n",
    "        \n",
    "        \n",
    "for key, value in rent_dict_3.items():\n",
    "    rent_dict_3[key] = statistics.mean(value)\n",
    "    \n",
    "    \n",
    "print(rent_dict_3)\n",
    "\n",
    "print(\"\\nAverage rent: 3 bedroom 2.5 bathrooms\\n\")\n",
    "\n",
    "rent_dict_35 = {2010:[],2011:[],2012:[],2013:[],2014:[],2015:[],2016:[],2017:[]}\n",
    "for key, value in bedroom3_bathroom25.items():\n",
    "    for year, rent in value.items():\n",
    "        rent_dict_35[year].append(rent)\n",
    "        \n",
    "        \n",
    "for key, value in rent_dict_35.items():\n",
    "    rent_dict_35[key] = statistics.mean(value)\n",
    "    \n",
    "    \n",
    "print(rent_dict_35)"
   ]
  },
  {
   "cell_type": "code",
   "execution_count": null,
   "metadata": {
    "collapsed": true
   },
   "outputs": [],
   "source": [
    "print(\"Average rent: 4 bedroom\\n\")\n",
    "\n",
    "rent_dict_4 = {2010:[],2011:[],2012:[],2013:[],2014:[],2015:[],2016:[],2017:[]}\n",
    "for key, value in bedroom4.items():\n",
    "    for year, rent in value.items():\n",
    "        rent_dict_4[year].append(rent)\n",
    "        \n",
    "        \n",
    "for key, value in rent_dict_4.items():\n",
    "    rent_dict_4[key] = statistics.mean(value)\n",
    "    \n",
    "    \n",
    "print(rent_dict_4)\n",
    "\n",
    "print(\"\\nAverage rent: 5 bedroom\\n\")\n",
    "\n",
    "rent_dict_5 = {2010:[],2011:[],2012:[],2013:[],2014:[],2015:[],2016:[],2017:[]}\n",
    "for key, value in bedroom5.items():\n",
    "    for year, rent in value.items():\n",
    "        rent_dict_5[year].append(rent)\n",
    "        \n",
    "        \n",
    "for key, value in rent_dict_5.items():\n",
    "    rent_dict_5[key] = statistics.mean(value)\n",
    "    \n",
    "    \n",
    "print(rent_dict_5)"
   ]
  },
  {
   "cell_type": "code",
   "execution_count": null,
   "metadata": {
    "collapsed": true
   },
   "outputs": [],
   "source": [
    "import matplotlib.pyplot as plt\n",
    "%matplotlib inline\n",
    "\n",
    "fig, ax = plt.subplots(figsize=(15, 10))\n",
    "# ax.plot(list(rent_dict_5.keys()), list(rent_dict_5.values()), 'ro-', label='5 bedroom')\n",
    "# ax.plot(list(rent_dict_4.keys()),list(rent_dict_4.values()), 'o-', label='4 bedroom')\n",
    "ax.plot(list(rent_dict_35.keys()),list(rent_dict_35.values()), 'ro-', label='3 bedroom 2.5 bathrooms')\n",
    "ax.plot(list(rent_dict_3.keys()),list(rent_dict_3.values()), 'o-', label='3 bedroom 2 bathrooms')\n",
    "ax.plot(list(rent_dict_25.keys()),list(rent_dict_25.values()), 'o-', label='2 bedroom 2.5 bathrooms')\n",
    "ax.plot(list(rent_dict_22.keys()),list(rent_dict_22.values()), 'o-', label='2 bedroom 2 bathrooms')\n",
    "ax.plot(list(rent_dict_2.keys()),list(rent_dict_2.values()), 'o-', label='2 bedroom 1.5 bathrooms')\n",
    "ax.plot(list(rent_dict_21.keys()),list(rent_dict_21.values()), 'o-', label='2 bedroom 1 bathrooms')\n",
    "ax.plot(list(rent_dict_15.keys()),list(rent_dict_15.values()), 'o-', label='1 bedroom 1.5 bathrooms')\n",
    "ax.plot(list(rent_dict_1.keys()),list(rent_dict_1.values()), 'o-', label='1 bedroom 1 bathrooms')\n",
    "legend = ax.legend(loc='center left', bbox_to_anchor=(1, 0.5), shadow=True, fontsize='x-large')\n",
    "plt.title('rent history')\n",
    "plt.xlabel('Year')\n",
    "plt.ylabel('Rent')\n",
    "plt.grid(True)\n",
    "\n",
    "for item in ([ax.title, ax.xaxis.label, ax.yaxis.label] +\n",
    "             ax.get_xticklabels() + ax.get_yticklabels()):\n",
    "    item.set_fontsize(15)"
   ]
  },
  {
   "cell_type": "code",
   "execution_count": null,
   "metadata": {
    "collapsed": true
   },
   "outputs": [],
   "source": [
    "fig, ag = plt.subplots(figsize=(15, 10))\n",
    "ag.plot(list(rent_dict_5.keys()), list(rent_dict_5.values()), 'ro-', label='5 bedroom')\n",
    "ag.plot(list(rent_dict_4.keys()),list(rent_dict_4.values()), 'o-', label='4 bedroom')\n",
    "legend = ag.legend(loc='center left', bbox_to_anchor=(1, 0.5), shadow=True, fontsize='x-large')\n",
    "plt.title('rent history')\n",
    "plt.xlabel('Year')\n",
    "plt.ylabel('Rent')\n",
    "plt.grid(True)\n",
    "\n",
    "for item in ([ag.title, ag.xaxis.label, ag.yaxis.label] +\n",
    "             ag.get_xticklabels() + ag.get_yticklabels()):\n",
    "    item.set_fontsize(15)"
   ]
  }
 ],
 "metadata": {
  "kernelspec": {
   "display_name": "Python 3",
   "language": "python",
   "name": "python3"
  },
  "language_info": {
   "codemirror_mode": {
    "name": "ipython",
    "version": 3
   },
   "file_extension": ".py",
   "mimetype": "text/x-python",
   "name": "python",
   "nbconvert_exporter": "python",
   "pygments_lexer": "ipython3",
   "version": "3.6.0"
  }
 },
 "nbformat": 4,
 "nbformat_minor": 2
}
