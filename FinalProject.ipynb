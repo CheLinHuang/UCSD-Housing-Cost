{
 "cells": [
  {
   "cell_type": "markdown",
   "metadata": {},
   "source": [
    "Introduction and background:\n",
    "\n",
    "\n",
    "Data Description\n",
    "Data Cleaning/Pre-processing\n",
    "Data Visualization\n",
    "Data analysis and Results\n",
    "Conclusions/ Discussion"
   ]
  },
  {
   "cell_type": "markdown",
   "metadata": {},
   "source": [
    "# COGS 108 - Final Project"
   ]
  },
  {
   "cell_type": "markdown",
   "metadata": {},
   "source": [
    "## By\n",
    "- Andrew T. Li, A12818225\n",
    "- Andrew Yoo, A11346949\n",
    "- Chelin Huang, A53053719\n",
    "- Alex LaBranche, A14266131\n",
    "- Matthias Baker, A13788705"
   ]
  },
  {
   "cell_type": "markdown",
   "metadata": {},
   "source": [
    "## Introduction and Background:\n",
    "As students we have to worry about whether or not we can graduate with good grades and without too much debt. Dealing with these things with so many unknowns can make a student's life more difficult than it has to be. So we wanted to explore one of those unknowns. Many of us live off campus due to UCSD no longer offering 4 year guarunteed on-campus housing, and many of us rely on financial aid. So we wanted to explore the unknown relationships between\"off-campus housing\", rising tuition costs, and if financial aid is keeping up with both of them.\n",
    "\n",
    "### Research question: \n",
    "Is UCSD providing enough financial aid to Students to support rising tuition and living costs in La Jolla?\n",
    "\n",
    "### Hypothesis:\n",
    "We believe that UCSD is not providing enough financial aid to support the rising tuition and living costs."
   ]
  },
  {
   "cell_type": "markdown",
   "metadata": {},
   "source": [
    "## Data Description:\n",
    "### DataSet: Zillow API\n",
    "- Dataset Name: Zillow API\n",
    "- Link to the dataset: https://www.zillow.com/howto/api/APIOverview.htm\n",
    "- Number of observations: 10000 observations with each having data up to 2010\n",
    "\n",
    "From the Zillow API we are using the GetDeepSearchResults. This will allow us to get information such as rent price, when the home entered the market, location, region name, and much more. The specific fields our group is interested in are location, time the property entered the market, and rent per month. This will allow us to analyze the financial impact on students in the UCSD area. \n",
    "\n",
    "The Zillow API allows up to 1000 requests per day, for the purposes of our project we will be using about 10,000 observations. \n",
    "\n",
    "### DataSet: UCSD Financial Aid\n",
    "- Dataset Name: UCSD Financial Aid\n",
    "- Link to data:\n",
    "- Numbr of observations:"
   ]
  },
  {
   "cell_type": "code",
   "execution_count": null,
   "metadata": {
    "collapsed": true
   },
   "outputs": [],
   "source": []
  }
 ],
 "metadata": {
  "kernelspec": {
   "display_name": "Python 3",
   "language": "python",
   "name": "python3"
  },
  "language_info": {
   "codemirror_mode": {
    "name": "ipython",
    "version": 3
   },
   "file_extension": ".py",
   "mimetype": "text/x-python",
   "name": "python",
   "nbconvert_exporter": "python",
   "pygments_lexer": "ipython3",
   "version": "3.6.0"
  }
 },
 "nbformat": 4,
 "nbformat_minor": 2
}
