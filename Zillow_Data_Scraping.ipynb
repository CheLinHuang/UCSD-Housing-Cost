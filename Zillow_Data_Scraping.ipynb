{
 "cells": [
  {
   "cell_type": "code",
   "execution_count": 1,
   "metadata": {
    "collapsed": true
   },
   "outputs": [],
   "source": [
    "import urllib\n",
    "import json\n",
    "import requests\n",
    "import pprint\n",
    "\n",
    "# For XML -> json\n",
    "import xml.etree.ElementTree as ET\n",
    "from xmljson import badgerfish as bf"
   ]
  },
  {
   "cell_type": "code",
   "execution_count": 2,
   "metadata": {},
   "outputs": [
    {
     "name": "stdout",
     "output_type": "stream",
     "text": [
      "curl: option -d: requires parameter\r\n",
      "curl: try 'curl --help' or 'curl --manual' for more information\r\n"
     ]
    }
   ],
   "source": [
    "# For url -> json\n",
    "!curl -i -X PUT -H \"Content-Type: application/json\" -d"
   ]
  },
  {
   "cell_type": "markdown",
   "metadata": {},
   "source": [
    "Sign up zws_id here\n",
    "https://www.zillow.com/howto/api/APIOverview.htm?utm_source=email&utm_medium=email&utm_campaign=emo-apiregistration-api"
   ]
  },
  {
   "cell_type": "code",
   "execution_count": 3,
   "metadata": {},
   "outputs": [],
   "source": [
    "# Put in your zws_id here as a string\n",
    "zws_id=\"\""
   ]
  },
  {
   "cell_type": "code",
   "execution_count": 4,
   "metadata": {},
   "outputs": [
    {
     "name": "stdout",
     "output_type": "stream",
     "text": [
      "Request was redirected\n",
      "301 https://www.zillow.com/homedetails/16842323_zpid/\n",
      "Final destination:\n",
      "200 https://www.zillow.com/homedetails/4215-Porte-De-Palmas-UNIT-203-San-Diego-CA-92122/16842323_zpid/\n"
     ]
    }
   ],
   "source": [
    "# Use redirected request of zpid only url to get address on zillow\n",
    "import requests\n",
    "response = requests.get(\"https://www.zillow.com/homedetails/16842323_zpid/\")\n",
    "if response.history:\n",
    "    print (\"Request was redirected\")\n",
    "    for resp in response.history:\n",
    "        print (resp.status_code, resp.url)\n",
    "    print (\"Final destination:\")\n",
    "    print (response.status_code, response.url)\n",
    "else:\n",
    "    print (\"Request was not redirected\")"
   ]
  },
  {
   "cell_type": "code",
   "execution_count": 5,
   "metadata": {},
   "outputs": [],
   "source": [
    "def API_URL(zws_id, zpid):\n",
    "    response = requests.get(\"https://www.zillow.com/homedetails/\" + str(zpid) + \"_zpid/\")\n",
    "    address = response.url.split('/')[-3]\n",
    "    url = \"http://www.zillow.com/webservice/GetDeepSearchResults.htm?zws-id=\" + zws_id + \"&address=\"\n",
    "    street = address.split('-')[:-4]\n",
    "    for i in range(len(street)-1):\n",
    "        url += street[i]\n",
    "        url += \"+\"\n",
    "    url += street[-1] + \"&citystatezip=\" + address.split('-')[-4] + \"+\" + address.split('-')[-3]\n",
    "    url += \"%2C+CA&rentzestimate=true\"\n",
    "    return url\n",
    "\n",
    "\n",
    "def rentData_URL(zpid):\n",
    "    return \"https://www.zillow.com/ajax/homedetail/HomeValueChartData.htm?mt=9&zpid=\" + str(zpid) + \"&format=json\"\n",
    "\n",
    "result_str = '{http://www.zillow.com/static/xsd/SearchResults.xsd}searchresults'"
   ]
  },
  {
   "cell_type": "markdown",
   "metadata": {},
   "source": [
    "historical rent zestimate values reference\n",
    "\n",
    "https://www.zillow.com/advice-thread/Can-I-get-historical-zestimate-values-from-the-API/471215/\n",
    "\n",
    "https://www.zillow.com/ajax/homedetail/HomeValueChartData.htm?mt=9&zpid=16842322&format=json\n",
    "https://www.zillow.com/ajax/homedetail/HomeValueChartData.htm?mt=9&zpid=16842322\n",
    "\n",
    "The result json will contain only this home value."
   ]
  },
  {
   "cell_type": "code",
   "execution_count": 6,
   "metadata": {},
   "outputs": [
    {
     "name": "stdout",
     "output_type": "stream",
     "text": [
      "Done\n"
     ]
    }
   ],
   "source": [
    "# 'a' for appending newly scraping data\n",
    "outfile = open('data.json', 'a')\n",
    "\n",
    "merged_json = dict()\n",
    "for zpid in range(16837859,(16837859+0)):\n",
    "    try:\n",
    "        json_property = json.loads(json.dumps(bf.data(ET.fromstring(urllib.request.urlopen(API_URL(zws_id,zpid)).read()))))\n",
    "    except IndexError:\n",
    "        continue\n",
    "    if json_property[result_str]['message']['code']['$'] != 0:\n",
    "        if json_property[result_str]['message']['code']['$'] == 7:\n",
    "            print(\"this account has reached is maximum number of calls for today\")\n",
    "            print(\"The last index\")\n",
    "            print(zpid)\n",
    "            break\n",
    "        else:\n",
    "            continue\n",
    "    json_propertyResponse = json_property[result_str]['response']\n",
    "    json_rentHistory = json.loads(urllib.request.urlopen(rentData_URL(zpid)).read())[0]\n",
    "    json_propertyResponse[\"HomeValueChartData\"] = json.dumps(json_rentHistory)\n",
    "    merged_json['zpid'] = zpid\n",
    "    merged_json['data'] = json_propertyResponse\n",
    "    json.dump(merged_json, outfile)\n",
    "    outfile.write('\\n')\n",
    "outfile.close()\n",
    "print(\"Done\")"
   ]
  },
  {
   "cell_type": "markdown",
   "metadata": {},
   "source": [
    "University City 16842300 - 16845509\n",
    "\n",
    "La Jolla Village 16834400 - 16837859"
   ]
  },
  {
   "cell_type": "code",
   "execution_count": 7,
   "metadata": {},
   "outputs": [],
   "source": [
    "# Load the result json file to dest_json\n",
    "dest_json = dict()\n",
    "for line in open('data.json','r'):\n",
    "    temp = json.loads(line)\n",
    "    dest_json[temp['zpid']] = temp['data']\n"
   ]
  },
  {
   "cell_type": "code",
   "execution_count": 8,
   "metadata": {
    "scrolled": false
   },
   "outputs": [
    {
     "name": "stdout",
     "output_type": "stream",
     "text": [
      "{'HomeValueChartData': '{\"points\": [{\"x\": 1285830000000, \"y\": 2300.0}, {\"x\": '\n",
      "                       '1288508400000, \"y\": 2395.0}, {\"x\": 1291104000000, \"y\": '\n",
      "                       '2200.0}, {\"x\": 1293782400000, \"y\": 2200.0}, {\"x\": '\n",
      "                       '1296460800000, \"y\": 2175.0}, {\"x\": 1298880000000, \"y\": '\n",
      "                       '2195.0}, {\"x\": 1301554800000, \"y\": 2150.0}, {\"x\": '\n",
      "                       '1304146800000, \"y\": 2245.0}, {\"x\": 1306825200000, \"y\": '\n",
      "                       '2250.0}, {\"x\": 1309417200000, \"y\": 2200.0}, {\"x\": '\n",
      "                       '1312095600000, \"y\": 2195.0}, {\"x\": 1314774000000, \"y\": '\n",
      "                       '2200.0}, {\"x\": 1317366000000, \"y\": 2250.0}, {\"x\": '\n",
      "                       '1320044400000, \"y\": 2200.0}, {\"x\": 1322640000000, \"y\": '\n",
      "                       '2200.0}, {\"x\": 1325318400000, \"y\": 2200.0}, {\"x\": '\n",
      "                       '1327996800000, \"y\": 2250.0}, {\"x\": 1330502400000, \"y\": '\n",
      "                       '2250.0}, {\"x\": 1333177200000, \"y\": 2250.0}, {\"x\": '\n",
      "                       '1335769200000, \"y\": 2250.0}, {\"x\": 1338447600000, \"y\": '\n",
      "                       '2300.0}, {\"x\": 1341039600000, \"y\": 2200.0}, {\"x\": '\n",
      "                       '1343718000000, \"y\": 2211.0}, {\"x\": 1346396400000, \"y\": '\n",
      "                       '2345.0}, {\"x\": 1348988400000, \"y\": 2250.0}, {\"x\": '\n",
      "                       '1351666800000, \"y\": 2300.0}, {\"x\": 1354262400000, \"y\": '\n",
      "                       '2450.0}, {\"x\": 1356940800000, \"y\": 2450.0}, {\"x\": '\n",
      "                       '1359619200000, \"y\": 2400.0}, {\"x\": 1362038400000, \"y\": '\n",
      "                       '2295.0}, {\"x\": 1364713200000, \"y\": 2391.0}, {\"x\": '\n",
      "                       '1367305200000, \"y\": 2300.0}, {\"x\": 1369983600000, \"y\": '\n",
      "                       '2395.0}, {\"x\": 1372575600000, \"y\": 2300.0}, {\"x\": '\n",
      "                       '1375254000000, \"y\": 2450.0}, {\"x\": 1377932400000, \"y\": '\n",
      "                       '2400.0}, {\"x\": 1380524400000, \"y\": 2499.0}, {\"x\": '\n",
      "                       '1383202800000, \"y\": 2495.0}, {\"x\": 1385798400000, \"y\": '\n",
      "                       '2395.0}, {\"x\": 1388476800000, \"y\": 2350.0}, {\"x\": '\n",
      "                       '1391155200000, \"y\": 2300.0}, {\"x\": 1393574400000, \"y\": '\n",
      "                       '2400.0}, {\"x\": 1396249200000, \"y\": 2300.0}, {\"x\": '\n",
      "                       '1398841200000, \"y\": 2300.0}, {\"x\": 1401519600000, \"y\": '\n",
      "                       '2450.0}, {\"x\": 1404111600000, \"y\": 2500.0}, {\"x\": '\n",
      "                       '1406790000000, \"y\": 2500.0}, {\"x\": 1409468400000, \"y\": '\n",
      "                       '2500.0}, {\"x\": 1412060400000, \"y\": 2595.0}, {\"x\": '\n",
      "                       '1414738800000, \"y\": 2495.0}, {\"x\": 1417334400000, \"y\": '\n",
      "                       '2495.0}, {\"x\": 1420012800000, \"y\": 2600.0}, {\"x\": '\n",
      "                       '1422691200000, \"y\": 2575.0}, {\"x\": 1425110400000, \"y\": '\n",
      "                       '2650.0}, {\"x\": 1427785200000, \"y\": 2500.0}, {\"x\": '\n",
      "                       '1430377200000, \"y\": 2450.0}, {\"x\": 1433055600000, \"y\": '\n",
      "                       '2950.0}, {\"x\": 1435647600000, \"y\": 2850.0}, {\"x\": '\n",
      "                       '1438326000000, \"y\": 2695.0}, {\"x\": 1441004400000, \"y\": '\n",
      "                       '2750.0}, {\"x\": 1443596400000, \"y\": 2800.0}, {\"x\": '\n",
      "                       '1446274800000, \"y\": 2795.0}, {\"x\": 1448870400000, \"y\": '\n",
      "                       '2645.0}, {\"x\": 1451548800000, \"y\": 2600.0}, {\"x\": '\n",
      "                       '1454227200000, \"y\": 2700.0}, {\"x\": 1456732800000, \"y\": '\n",
      "                       '2700.0}, {\"x\": 1459407600000, \"y\": 2850.0}, {\"x\": '\n",
      "                       '1461999600000, \"y\": 2695.0}, {\"x\": 1464678000000, \"y\": '\n",
      "                       '2500.0}, {\"x\": 1467270000000, \"y\": 2600.0}, {\"x\": '\n",
      "                       '1469948400000, \"y\": 2600.0}, {\"x\": 1472626800000, \"y\": '\n",
      "                       '2650.0}, {\"x\": 1475218800000, \"y\": 2800.0}, {\"x\": '\n",
      "                       '1477897200000, \"y\": 2750.0}, {\"x\": 1480492800000, \"y\": '\n",
      "                       '2700.0}, {\"x\": 1483171200000, \"y\": 2700.0}, {\"x\": '\n",
      "                       '1485849600000, \"y\": 2800.0}, {\"x\": 1488268800000, \"y\": '\n",
      "                       '2850.0}, {\"x\": 1490943600000, \"y\": 2800.0}, {\"x\": '\n",
      "                       '1493535600000, \"y\": 2800.0}, {\"x\": 1495695600000, \"y\": '\n",
      "                       '2850.0}], \"name\": \"This home\", \"id\": 16842300, '\n",
      "                       '\"regionType\": \"Home\"}',\n",
      " 'results': {'result': {'FIPScounty': {'$': 6073},\n",
      "                        'address': {'city': {'$': 'San Diego'},\n",
      "                                    'latitude': {'$': 32.86037},\n",
      "                                    'longitude': {'$': -117.2247},\n",
      "                                    'state': {'$': 'CA'},\n",
      "                                    'street': {'$': '4135 Porte De Palmas UNIT '\n",
      "                                                    '213'},\n",
      "                                    'zipcode': {'$': 92122}},\n",
      "                        'bathrooms': {'$': 2.5},\n",
      "                        'bedrooms': {'$': 3},\n",
      "                        'finishedSqFt': {'$': 1394},\n",
      "                        'lastSoldDate': {'$': '06/29/2007'},\n",
      "                        'lastSoldPrice': {'$': 548000, '@currency': 'USD'},\n",
      "                        'links': {'comparables': {'$': 'http://www.zillow.com/homes/comps/16842300_zpid/'},\n",
      "                                  'graphsanddata': {'$': 'http://www.zillow.com/homedetails/4135-Porte-De-Palmas-UNIT-213-San-Diego-CA-92122/16842300_zpid/#charts-and-data'},\n",
      "                                  'homedetails': {'$': 'http://www.zillow.com/homedetails/4135-Porte-De-Palmas-UNIT-213-San-Diego-CA-92122/16842300_zpid/'},\n",
      "                                  'mapthishome': {'$': 'http://www.zillow.com/homes/16842300_zpid/'}},\n",
      "                        'localRealEstate': {'region': {'@id': 118673,\n",
      "                                                       '@name': 'University '\n",
      "                                                                'City',\n",
      "                                                       '@type': 'neighborhood',\n",
      "                                                       'links': {'forSale': {'$': 'http://www.zillow.com/university-city-san-diego-ca/'},\n",
      "                                                                 'forSaleByOwner': {'$': 'http://www.zillow.com/university-city-san-diego-ca/fsbo/'},\n",
      "                                                                 'overview': {'$': 'http://www.zillow.com/local-info/CA-San-Diego/University-City/r_118673/'}},\n",
      "                                                       'zindexValue': {'$': '560,400'}}},\n",
      "                        'lotSizeSqFt': {'$': 16205},\n",
      "                        'rentzestimate': {'amount': {'$': 2850,\n",
      "                                                     '@currency': 'USD'},\n",
      "                                          'last-updated': {'$': '05/25/2017'},\n",
      "                                          'oneWeekChange': {'@deprecated': True},\n",
      "                                          'valuationRange': {'high': {'$': 3277,\n",
      "                                                                      '@currency': 'USD'},\n",
      "                                                             'low': {'$': 2622,\n",
      "                                                                     '@currency': 'USD'}},\n",
      "                                          'valueChange': {'$': 50,\n",
      "                                                          '@currency': 'USD',\n",
      "                                                          '@duration': 30}},\n",
      "                        'taxAssessment': {'$': 550000.0},\n",
      "                        'taxAssessmentYear': {'$': 2016},\n",
      "                        'useCode': {'$': 'Condominium'},\n",
      "                        'yearBuilt': {'$': 1986},\n",
      "                        'zestimate': {'amount': {'$': 630791,\n",
      "                                                 '@currency': 'USD'},\n",
      "                                      'last-updated': {'$': '05/25/2017'},\n",
      "                                      'oneWeekChange': {'@deprecated': True},\n",
      "                                      'percentile': {'$': 0},\n",
      "                                      'valuationRange': {'high': {'$': 662331,\n",
      "                                                                  '@currency': 'USD'},\n",
      "                                                         'low': {'$': 599251,\n",
      "                                                                 '@currency': 'USD'}},\n",
      "                                      'valueChange': {'$': 9651,\n",
      "                                                      '@currency': 'USD',\n",
      "                                                      '@duration': 30}},\n",
      "                        'zpid': {'$': 16842300}}}}\n"
     ]
    }
   ],
   "source": [
    "# Print one result\n",
    "pprint.pprint(dest_json[16842300])"
   ]
  },
  {
   "cell_type": "code",
   "execution_count": null,
   "metadata": {
    "collapsed": true
   },
   "outputs": [],
   "source": []
  }
 ],
 "metadata": {
  "kernelspec": {
   "display_name": "Python 3",
   "language": "python",
   "name": "python3"
  },
  "language_info": {
   "codemirror_mode": {
    "name": "ipython",
    "version": 3
   },
   "file_extension": ".py",
   "mimetype": "text/x-python",
   "name": "python",
   "nbconvert_exporter": "python",
   "pygments_lexer": "ipython3",
   "version": "3.6.0"
  }
 },
 "nbformat": 4,
 "nbformat_minor": 2
}
