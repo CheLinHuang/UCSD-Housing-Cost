{
 "cells": [
  {
   "cell_type": "code",
   "execution_count": 32,
   "metadata": {
    "collapsed": true
   },
   "outputs": [],
   "source": [
    "import pandas as pd\n",
    "import json"
   ]
  },
  {
   "cell_type": "code",
   "execution_count": 2,
   "metadata": {
    "collapsed": true
   },
   "outputs": [],
   "source": [
    "df = pd.read_json('data.json',lines=True)"
   ]
  },
  {
   "cell_type": "code",
   "execution_count": 29,
   "metadata": {
    "collapsed": false
   },
   "outputs": [
    {
     "name": "stdout",
     "output_type": "stream",
     "text": [
      "{\"points\": [{\"x\": 1285830000000, \"y\": 2300.0}, {\"x\": 1288508400000, \"y\": 2395.0}, {\"x\": 1291104000000, \"y\": 2200.0}, {\"x\": 1293782400000, \"y\": 2200.0}, {\"x\": 1296460800000, \"y\": 2175.0}, {\"x\": 1298880000000, \"y\": 2195.0}, {\"x\": 1301554800000, \"y\": 2150.0}, {\"x\": 1304146800000, \"y\": 2245.0}, {\"x\": 1306825200000, \"y\": 2250.0}, {\"x\": 1309417200000, \"y\": 2200.0}, {\"x\": 1312095600000, \"y\": 2195.0}, {\"x\": 1314774000000, \"y\": 2200.0}, {\"x\": 1317366000000, \"y\": 2250.0}, {\"x\": 1320044400000, \"y\": 2200.0}, {\"x\": 1322640000000, \"y\": 2200.0}, {\"x\": 1325318400000, \"y\": 2200.0}, {\"x\": 1327996800000, \"y\": 2250.0}, {\"x\": 1330502400000, \"y\": 2250.0}, {\"x\": 1333177200000, \"y\": 2250.0}, {\"x\": 1335769200000, \"y\": 2250.0}, {\"x\": 1338447600000, \"y\": 2300.0}, {\"x\": 1341039600000, \"y\": 2200.0}, {\"x\": 1343718000000, \"y\": 2211.0}, {\"x\": 1346396400000, \"y\": 2345.0}, {\"x\": 1348988400000, \"y\": 2250.0}, {\"x\": 1351666800000, \"y\": 2300.0}, {\"x\": 1354262400000, \"y\": 2450.0}, {\"x\": 1356940800000, \"y\": 2450.0}, {\"x\": 1359619200000, \"y\": 2400.0}, {\"x\": 1362038400000, \"y\": 2295.0}, {\"x\": 1364713200000, \"y\": 2391.0}, {\"x\": 1367305200000, \"y\": 2300.0}, {\"x\": 1369983600000, \"y\": 2395.0}, {\"x\": 1372575600000, \"y\": 2300.0}, {\"x\": 1375254000000, \"y\": 2450.0}, {\"x\": 1377932400000, \"y\": 2400.0}, {\"x\": 1380524400000, \"y\": 2499.0}, {\"x\": 1383202800000, \"y\": 2495.0}, {\"x\": 1385798400000, \"y\": 2395.0}, {\"x\": 1388476800000, \"y\": 2350.0}, {\"x\": 1391155200000, \"y\": 2300.0}, {\"x\": 1393574400000, \"y\": 2400.0}, {\"x\": 1396249200000, \"y\": 2300.0}, {\"x\": 1398841200000, \"y\": 2300.0}, {\"x\": 1401519600000, \"y\": 2450.0}, {\"x\": 1404111600000, \"y\": 2500.0}, {\"x\": 1406790000000, \"y\": 2500.0}, {\"x\": 1409468400000, \"y\": 2500.0}, {\"x\": 1412060400000, \"y\": 2595.0}, {\"x\": 1414738800000, \"y\": 2495.0}, {\"x\": 1417334400000, \"y\": 2495.0}, {\"x\": 1420012800000, \"y\": 2600.0}, {\"x\": 1422691200000, \"y\": 2575.0}, {\"x\": 1425110400000, \"y\": 2650.0}, {\"x\": 1427785200000, \"y\": 2500.0}, {\"x\": 1430377200000, \"y\": 2450.0}, {\"x\": 1433055600000, \"y\": 2950.0}, {\"x\": 1435647600000, \"y\": 2850.0}, {\"x\": 1438326000000, \"y\": 2695.0}, {\"x\": 1441004400000, \"y\": 2750.0}, {\"x\": 1443596400000, \"y\": 2800.0}, {\"x\": 1446274800000, \"y\": 2795.0}, {\"x\": 1448870400000, \"y\": 2645.0}, {\"x\": 1451548800000, \"y\": 2600.0}, {\"x\": 1454227200000, \"y\": 2700.0}, {\"x\": 1456732800000, \"y\": 2700.0}, {\"x\": 1459407600000, \"y\": 2850.0}, {\"x\": 1461999600000, \"y\": 2695.0}, {\"x\": 1464678000000, \"y\": 2500.0}, {\"x\": 1467270000000, \"y\": 2600.0}, {\"x\": 1469948400000, \"y\": 2600.0}, {\"x\": 1472626800000, \"y\": 2650.0}, {\"x\": 1475218800000, \"y\": 2800.0}, {\"x\": 1477897200000, \"y\": 2750.0}, {\"x\": 1480492800000, \"y\": 2700.0}, {\"x\": 1483171200000, \"y\": 2700.0}, {\"x\": 1485849600000, \"y\": 2800.0}, {\"x\": 1488268800000, \"y\": 2850.0}, {\"x\": 1490943600000, \"y\": 2800.0}, {\"x\": 1493535600000, \"y\": 2800.0}, {\"x\": 1495695600000, \"y\": 2850.0}], \"name\": \"This home\", \"id\": 16842300, \"regionType\": \"Home\"}\n"
     ]
    }
   ],
   "source": [
    "homeValue = df.loc[df['zpid'] == 16842300]['data'][0]['HomeValueChartData']\n",
    "print(homeValue)"
   ]
  },
  {
   "cell_type": "code",
   "execution_count": null,
   "metadata": {
    "collapsed": true
   },
   "outputs": [],
   "source": []
  },
  {
   "cell_type": "code",
   "execution_count": 23,
   "metadata": {
    "collapsed": false
   },
   "outputs": [
    {
     "name": "stdout",
     "output_type": "stream",
     "text": [
      "University City\n"
     ]
    }
   ],
   "source": [
    "regionName = df.loc[df['zpid'] == 16842300]['data'][0]['results']['result']['localRealEstate']['region']['@name']\n",
    "print (regionName)"
   ]
  },
  {
   "cell_type": "code",
   "execution_count": 24,
   "metadata": {
    "collapsed": true
   },
   "outputs": [],
   "source": [
    "def extract_region(df):\n",
    "    return  df.loc[df['zpid'] == 16842300]['data'][0]['results']['result']['localRealEstate']['region']['@name']\n",
    "\n"
   ]
  },
  {
   "cell_type": "code",
   "execution_count": 27,
   "metadata": {
    "collapsed": false
   },
   "outputs": [
    {
     "name": "stdout",
     "output_type": "stream",
     "text": [
      "University City\n"
     ]
    }
   ],
   "source": [
    "assert extract_region(df) == \"University City\"\n",
    "print (extract_region(df))"
   ]
  },
  {
   "cell_type": "code",
   "execution_count": 36,
   "metadata": {
    "collapsed": false
   },
   "outputs": [
    {
     "name": "stdout",
     "output_type": "stream",
     "text": [
      "1285830000000\n"
     ]
    },
    {
     "data": {
      "text/plain": [
       "'Thu Sep 30 00:00:00 2010'"
      ]
     },
     "execution_count": 36,
     "metadata": {},
     "output_type": "execute_result"
    }
   ],
   "source": [
    "import time\n",
    "chart = json.loads(homeValue)\n",
    "x = chart['points'][0]['x']\n",
    "print (x)\n",
    "time.ctime(x / 1000)"
   ]
  },
  {
   "cell_type": "code",
   "execution_count": 39,
   "metadata": {
    "collapsed": true
   },
   "outputs": [],
   "source": [
    "# homeValue = df.loc[df['zpid'] == 16842300]['data'][0]['HomeValueChartData']\n",
    "\n",
    "def extract_date(homeValue, index):\n",
    "    date = json.loads(homeValue)\n",
    "    x = date['points'][index]['x']\n",
    "    return time.ctime(x / 1000)"
   ]
  },
  {
   "cell_type": "code",
   "execution_count": 42,
   "metadata": {
    "collapsed": false
   },
   "outputs": [
    {
     "data": {
      "text/plain": [
       "'Thu Sep 30 00:00:00 2010'"
      ]
     },
     "execution_count": 42,
     "metadata": {},
     "output_type": "execute_result"
    }
   ],
   "source": [
    "for i to\n",
    "extract_date(homeValue, 0)"
   ]
  },
  {
   "cell_type": "code",
   "execution_count": null,
   "metadata": {
    "collapsed": true
   },
   "outputs": [],
   "source": []
  }
 ],
 "metadata": {
  "kernelspec": {
   "display_name": "Python 3",
   "language": "python",
   "name": "python3"
  },
  "language_info": {
   "codemirror_mode": {
    "name": "ipython",
    "version": 3
   },
   "file_extension": ".py",
   "mimetype": "text/x-python",
   "name": "python",
   "nbconvert_exporter": "python",
   "pygments_lexer": "ipython3",
   "version": "3.6.0"
  }
 },
 "nbformat": 4,
 "nbformat_minor": 2
}
