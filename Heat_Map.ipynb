{
 "cells": [
  {
   "cell_type": "code",
   "execution_count": 1,
   "metadata": {
    "collapsed": true
   },
   "outputs": [],
   "source": [
    "import json\n",
    "import pandas as pd\n",
    "import gmaps"
   ]
  },
  {
   "cell_type": "code",
   "execution_count": 2,
   "metadata": {
    "collapsed": true
   },
   "outputs": [],
   "source": [
    "# Load the data.json file to dest_json with error handling\n",
    "dest_json = dict()\n",
    "for line in open('data.json','r'):\n",
    "    try:\n",
    "        temp = json.loads(line)\n",
    "        dest_json[temp['zpid']] = temp['data']\n",
    "    except ValueError:\n",
    "        continue"
   ]
  },
  {
   "cell_type": "code",
   "execution_count": 3,
   "metadata": {
    "collapsed": true
   },
   "outputs": [],
   "source": [
    "# Load json object to dataframe\n",
    "df = pd.DataFrame(dest_json).transpose()"
   ]
  },
  {
   "cell_type": "code",
   "execution_count": 4,
   "metadata": {
    "collapsed": true
   },
   "outputs": [],
   "source": [
    "# Create list for location and rent with error handling\n",
    "location = []\n",
    "rents = []\n",
    "for i in range(len(df)):\n",
    "    try:\n",
    "        lat = df.iloc[i]['results']['result']['address']['latitude']['$']\n",
    "        lon = df.iloc[i]['results']['result']['address']['longitude']['$']\n",
    "        rent = df.iloc[i]['results']['result']['rentzestimate']['amount']['$']\n",
    "    except (TypeError,KeyError):\n",
    "        continue\n",
    "    location.append([lat,lon])\n",
    "    rents.append(rent)"
   ]
  },
  {
   "cell_type": "markdown",
   "metadata": {},
   "source": [
    "## Getting a Google Maps JavaScript API Key:\n",
    "\n",
    "https://developers.google.com/maps/documentation/javascript/"
   ]
  },
  {
   "cell_type": "code",
   "execution_count": 5,
   "metadata": {
    "collapsed": true
   },
   "outputs": [],
   "source": [
    "Google_API_key = \"Your Key\""
   ]
  },
  {
   "cell_type": "markdown",
   "metadata": {},
   "source": [
    "Reference:\n",
    "\n",
    "http://jupyter-gmaps.readthedocs.io/en/latest/gmaps.html#heatmaps\n",
    "\n",
    "https://github.com/pbugnion/gmaps"
   ]
  },
  {
   "cell_type": "code",
   "execution_count": 6,
   "metadata": {},
   "outputs": [
    {
     "data": {
      "application/vnd.jupyter.widget-view+json": {
       "model_id": "e370a8cad74a45d0913d850a7d537157"
      }
     },
     "metadata": {},
     "output_type": "display_data"
    }
   ],
   "source": [
    "# Create the heat map\n",
    "gmaps.configure(api_key=Google_API_key)\n",
    "fig = gmaps.figure()\n",
    "fig.add_layer(gmaps.heatmap_layer(location, weights=rents))\n",
    "fig"
   ]
  }
 ],
 "metadata": {
  "kernelspec": {
   "display_name": "Python 3",
   "language": "python",
   "name": "python3"
  },
  "language_info": {
   "codemirror_mode": {
    "name": "ipython",
    "version": 3
   },
   "file_extension": ".py",
   "mimetype": "text/x-python",
   "name": "python",
   "nbconvert_exporter": "python",
   "pygments_lexer": "ipython3",
   "version": "3.6.0"
  }
 },
 "nbformat": 4,
 "nbformat_minor": 2
}
