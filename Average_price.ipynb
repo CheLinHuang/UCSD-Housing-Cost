{
 "cells": [
  {
   "cell_type": "code",
   "execution_count": 1,
   "metadata": {
    "collapsed": true
   },
   "outputs": [],
   "source": [
    "# import correct packages\n",
    "import pandas as pd\n",
    "import json"
   ]
  },
  {
   "cell_type": "code",
   "execution_count": 2,
   "metadata": {
    "collapsed": true
   },
   "outputs": [],
   "source": [
    "# read the json file\n",
    "df = pd.read_json('data.json',lines=True)"
   ]
  },
  {
   "cell_type": "code",
   "execution_count": 38,
   "metadata": {},
   "outputs": [],
   "source": [
    "# in work function to \n",
    "df = pd.read_json('data.json',lines=True)\n",
    "import statistics\n",
    "bedroom1_bathroom1 = {}\n",
    "bedroom1_bathroom15 = {}\n",
    "bedroom2_bathroom1 = {}\n",
    "bedroom2_bathroom15 = {}\n",
    "bedroom2_bathroom2 = {}\n",
    "bedroom2_bathroom25 = {}\n",
    "bedroom3_bathroom2 = {}\n",
    "bedroom3_bathroom25 = {}\n",
    "bedroom4 = {}\n",
    "bedroom5 = {}\n",
    "c = 0\n",
    "for zpid in df['zpid'].tolist():\n",
    "    homeValue = df.loc[df['zpid'] == zpid]['data'][c]['HomeValueChartData']\n",
    "    try:\n",
    "        bedroom = df.loc[df['zpid'] == zpid]['data'][c]['results']['result']['bedrooms']['$']\n",
    "        bathroom = df.loc[df['zpid'] == zpid]['data'][c]['results']['result']['bathrooms']['$']\n",
    "    except (TypeError,KeyError):\n",
    "        c=c+1\n",
    "        continue\n",
    "\n",
    "    \n",
    "    c = c + 1\n",
    "    chart = json.loads(homeValue)\n",
    "    y= {2010:[],2011:[],2012:[],2013:[],2014:[],2015:[],2016:[],2017:[]}\n",
    "\n",
    "    for i in chart['points']:\n",
    "        year = int(time.ctime(i['x']/1000)[-4:])\n",
    "        y[year].append(i['y'])\n",
    "    \n",
    "    new_dict ={}\n",
    "    \n",
    "    for key, value in y.items():\n",
    "        if (len(value) != 0):\n",
    "            new_dict[key] = statistics.mean(value)\n",
    "    \n",
    "    if bedroom == 1:\n",
    "        \n",
    "        if bathroom == 1.0:\n",
    "            bedroom1_bathroom1[zpid] = new_dict\n",
    "        if bathroom == 1.5:\n",
    "            bedroom1_bathroom15[zpid] = new_dict\n",
    "    if bedroom == 2:\n",
    "        if bathroom == 1:\n",
    "            bedroom2_bathroom1[zpid] = new_dict\n",
    "        if bathroom == 1.0:\n",
    "            bedroom2_bathroom1[zpid] = new_dict\n",
    "        if bathroom == 1.5:\n",
    "            bedroom2_bathroom15[zpid] = new_dict\n",
    "        if bathroom == 2:\n",
    "            bedroom2_bathroom2[zpid] = new_dict\n",
    "        if bathroom == 2.0:\n",
    "            bedroom2_bathroom2[zpid] = new_dict\n",
    "        if bathroom == 2.5:\n",
    "            bedroom2_bathroom25[zpid] = new_dict\n",
    "    if bedroom == 3:\n",
    "        if bathroom == 2:\n",
    "            bedroom3_bathroom2[zpid] = new_dict\n",
    "        if bathroom == 2.0:\n",
    "            bedroom3_bathroom2[zpid] = new_dict\n",
    "        if bathroom == 2.5:\n",
    "            bedroom3_bathroom25[zpid] = new_dict\n",
    "    if bedroom == 4:\n",
    "        bedroom4[zpid] = new_dict\n",
    "    if bedroom == 5:\n",
    "        bedroom5[zpid] = new_dict\n",
    "# bedroom = df.loc[df['zpid'] == 16842300]['data'][0]['results']['result']['bedrooms']['$']\n",
    "# bathroom = df.loc[df['zpid'] == 16842300]['data'][0]['results']['result']['bathrooms']['$']\n"
   ]
  },
  {
   "cell_type": "code",
   "execution_count": 17,
   "metadata": {},
   "outputs": [
    {
     "name": "stdout",
     "output_type": "stream",
     "text": [
      "1 bedroom 1 bathrooms\n",
      "number:\n",
      "1224\n",
      "sum:\n",
      "2348373.0\n",
      "average:\n",
      "1918.6053921568628\n",
      "\n",
      "1 bedroom 1.5 bathrooms\n",
      "number:\n",
      "75\n",
      "sum:\n",
      "175103.0\n",
      "average:\n",
      "2334.7066666666665\n"
     ]
    }
   ],
   "source": [
    "print(\"1 bedroom 1 bathrooms\")\n",
    "sum = 0\n",
    "number = 0\n",
    "for key, value in bedroom1_bathroom1.items():\n",
    "    sum = sum + value\n",
    "    number = number + 1\n",
    "print(\"number:\")\n",
    "print(number)\n",
    "print (\"sum:\") \n",
    "print(sum)\n",
    "average = sum / number\n",
    "print(\"average:\")\n",
    "print (average)\n",
    "\n",
    "print(\"\\n1 bedroom 1.5 bathrooms\")\n",
    "sum = 0\n",
    "number = 0\n",
    "for key, value in bedroom1_bathroom15.items():\n",
    "    sum = sum + value\n",
    "    number = number + 1\n",
    "print(\"number:\")\n",
    "print(number)\n",
    "print (\"sum:\") \n",
    "print(sum)\n",
    "average = sum / number\n",
    "print(\"average:\")\n",
    "print (average)\n",
    "\n"
   ]
  },
  {
   "cell_type": "code",
   "execution_count": 18,
   "metadata": {},
   "outputs": [
    {
     "name": "stdout",
     "output_type": "stream",
     "text": [
      "2 bedroom 1 bathrooms\n",
      "number:\n",
      "752\n",
      "sum:\n",
      "1715680.0\n",
      "average:\n",
      "2281.4893617021276\n",
      "\n",
      "2 bedroom 1.5 bathrooms\n",
      "number:\n",
      "378\n",
      "sum:\n",
      "871185.0\n",
      "average:\n",
      "2304.722222222222\n",
      "\n",
      "2 bedroom 2 bathrooms\n",
      "number:\n",
      "2421\n",
      "sum:\n",
      "7433956.0\n",
      "average:\n",
      "3070.613795952086\n",
      "\n",
      "2 bedroom 2.5 bathrooms\n",
      "number:\n",
      "967\n",
      "sum:\n",
      "2967246.0\n",
      "average:\n",
      "3068.506721820062\n"
     ]
    }
   ],
   "source": [
    "print(\"2 bedroom 1 bathrooms\")\n",
    "sum = 0\n",
    "number = 0\n",
    "for key, value in bedroom2_bathroom1.items():\n",
    "    sum = sum + value\n",
    "    number = number + 1\n",
    "print(\"number:\")\n",
    "print(number)\n",
    "print (\"sum:\") \n",
    "print(sum)\n",
    "average = sum / number\n",
    "print(\"average:\")\n",
    "print (average)\n",
    "\n",
    "print(\"\\n2 bedroom 1.5 bathrooms\")\n",
    "sum = 0\n",
    "number = 0\n",
    "for key, value in bedroom2_bathroom15.items():\n",
    "    sum = sum + value\n",
    "    number = number + 1\n",
    "print(\"number:\")\n",
    "print(number)\n",
    "print (\"sum:\") \n",
    "print(sum)\n",
    "average = sum / number\n",
    "print(\"average:\")\n",
    "print (average)\n",
    "\n",
    "print(\"\\n2 bedroom 2 bathrooms\")\n",
    "sum = 0\n",
    "number = 0\n",
    "for key, value in bedroom2_bathroom2.items():\n",
    "    sum = sum + value\n",
    "    number = number + 1\n",
    "print(\"number:\")\n",
    "print(number)\n",
    "print (\"sum:\") \n",
    "print(sum)\n",
    "average = sum / number\n",
    "print(\"average:\")\n",
    "print (average)\n",
    "\n",
    "print(\"\\n2 bedroom 2.5 bathrooms\")\n",
    "sum = 0\n",
    "number = 0\n",
    "for key, value in bedroom2_bathroom25.items():\n",
    "    sum = sum + value\n",
    "    number = number + 1\n",
    "print(\"number:\")\n",
    "print(number)\n",
    "print (\"sum:\") \n",
    "print(sum)\n",
    "average = sum / number\n",
    "print(\"average:\")\n",
    "print (average)\n",
    "# print(bedroom2)"
   ]
  },
  {
   "cell_type": "code",
   "execution_count": 19,
   "metadata": {
    "scrolled": true
   },
   "outputs": [
    {
     "name": "stdout",
     "output_type": "stream",
     "text": [
      "3 bedroom 2 bathrooms\n",
      "number:\n",
      "2050\n",
      "sum:\n",
      "8074009.0\n",
      "average:\n",
      "3938.540975609756\n",
      "\n",
      "3 bedroom 2.5 bathrooms\n",
      "number:\n",
      "1484\n",
      "sum:\n",
      "5366821.0\n",
      "average:\n",
      "3616.4561994609167\n"
     ]
    }
   ],
   "source": [
    "print(\"3 bedroom 2 bathrooms\")\n",
    "sum = 0\n",
    "number = 0\n",
    "for key, value in bedroom3_bathroom2.items():\n",
    "    sum = sum + value\n",
    "    number = number + 1\n",
    "print(\"number:\")\n",
    "print(number)\n",
    "print (\"sum:\") \n",
    "print(sum)\n",
    "average = sum / number\n",
    "print(\"average:\")\n",
    "print (average)\n",
    "\n",
    "print(\"\\n3 bedroom 2.5 bathrooms\")\n",
    "sum = 0\n",
    "number = 0\n",
    "for key, value in bedroom3_bathroom25.items():\n",
    "    sum = sum + value\n",
    "    number = number + 1\n",
    "print(\"number:\")\n",
    "print(number)\n",
    "print (\"sum:\") \n",
    "print(sum)\n",
    "average = sum / number\n",
    "print(\"average:\")\n",
    "print (average)"
   ]
  },
  {
   "cell_type": "code",
   "execution_count": 20,
   "metadata": {},
   "outputs": [
    {
     "name": "stdout",
     "output_type": "stream",
     "text": [
      "4 bedroom \n",
      "number:\n",
      "2818\n",
      "sum:\n",
      "19335754.0\n",
      "average:\n",
      "6861.516678495387\n",
      "\n",
      "5 bedroom \n",
      "number:\n",
      "1038\n",
      "sum:\n",
      "10092724.0\n",
      "average:\n",
      "9723.2408477842\n"
     ]
    }
   ],
   "source": [
    "print(\"4 bedroom \")\n",
    "sum = 0\n",
    "number = 0\n",
    "for key, value in bedroom4.items():\n",
    "    sum = sum + value\n",
    "    number = number + 1\n",
    "print(\"number:\")\n",
    "print(number)\n",
    "print (\"sum:\") \n",
    "print(sum)\n",
    "average = sum / number\n",
    "print(\"average:\")\n",
    "print (average)\n",
    "\n",
    "print(\"\\n5 bedroom \")\n",
    "sum = 0\n",
    "number = 0\n",
    "for key, value in bedroom5.items():\n",
    "    sum = sum + value\n",
    "    number = number + 1\n",
    "print(\"number:\")\n",
    "print(number)\n",
    "print (\"sum:\") \n",
    "print(sum)\n",
    "average = sum / number\n",
    "print(\"average:\")\n",
    "print (average)"
   ]
  },
  {
   "cell_type": "code",
   "execution_count": 44,
   "metadata": {
    "collapsed": true
   },
   "outputs": [],
   "source": [
    "rent_dict = {2010:[],2011:[],2012:[],2013:[],2014:[],2015:[],2016:[],2017:[]}\n",
    "for key, value in bedroom1_bathroom1.items():\n",
    "    for year, rent in value.items():\n",
    "        rent_dict[year].append(rent)"
   ]
  },
  {
   "cell_type": "code",
   "execution_count": 45,
   "metadata": {},
   "outputs": [],
   "source": [
    "for key, value in rent_dict.items():\n",
    "    rent_dict[key] = statistics.mean(value)"
   ]
  },
  {
   "cell_type": "code",
   "execution_count": 46,
   "metadata": {},
   "outputs": [
    {
     "name": "stdout",
     "output_type": "stream",
     "text": [
      "{2010: 1602.5821078431372, 2011: 1459.3792892156862, 2012: 1485.254153050109, 2013: 1529.7781862745098, 2014: 1614.2878540305012, 2015: 1715.2486383442265, 2016: 1856.859477124183, 2017: 1915.3445261437907}\n"
     ]
    }
   ],
   "source": [
    "print(rent_dict)"
   ]
  },
  {
   "cell_type": "code",
   "execution_count": null,
   "metadata": {
    "collapsed": true
   },
   "outputs": [],
   "source": []
  }
 ],
 "metadata": {
  "kernelspec": {
   "display_name": "Python 3",
   "language": "python",
   "name": "python3"
  },
  "language_info": {
   "codemirror_mode": {
    "name": "ipython",
    "version": 3
   },
   "file_extension": ".py",
   "mimetype": "text/x-python",
   "name": "python",
   "nbconvert_exporter": "python",
   "pygments_lexer": "ipython3",
   "version": "3.6.0"
  }
 },
 "nbformat": 4,
 "nbformat_minor": 2
}
