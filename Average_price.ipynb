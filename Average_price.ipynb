{
 "cells": [
  {
   "cell_type": "code",
   "execution_count": 4,
   "metadata": {
    "collapsed": true
   },
   "outputs": [],
   "source": [
    "# import correct packages\n",
    "\n",
    "import pandas as pd\n",
    "import json\n",
    "import time\n",
    "import statistics"
   ]
  },
  {
   "cell_type": "code",
   "execution_count": 5,
   "metadata": {
    "collapsed": true
   },
   "outputs": [],
   "source": [
    "# read the json file\n",
    "\n",
    "df = pd.read_json('data.json',lines=True)"
   ]
  },
  {
   "cell_type": "code",
   "execution_count": 26,
   "metadata": {
    "collapsed": true
   },
   "outputs": [],
   "source": [
    "# initialize dictionaries that will track year and price\n",
    "\n",
    "bedroom1_bathroom1 = {}\n",
    "bedroom1_bathroom15 = {}\n",
    "bedroom2_bathroom1 = {}\n",
    "bedroom2_bathroom15 = {}\n",
    "bedroom2_bathroom2 = {}\n",
    "bedroom2_bathroom25 = {}\n",
    "bedroom3_bathroom2 = {}\n",
    "bedroom3_bathroom25 = {}\n",
    "bedroom4 = {}\n",
    "bedroom5 = {}\n",
    "\n",
    "c = 0"
   ]
  },
  {
   "cell_type": "code",
   "execution_count": 27,
   "metadata": {
    "collapsed": true
   },
   "outputs": [],
   "source": [
    "# helper function that will be used to update dictionaries with rent prices \n",
    "\n",
    "def update_bedroom_dict(num_bed, curr_zip, update_dict):\n",
    "    if num_bed == 1:\n",
    "        if bathroom == 1.0:\n",
    "            bedroom1_bathroom1[curr_zip] = update_dict\n",
    "        if bathroom == 1.5:\n",
    "            bedroom1_bathroom15[curr_zip] = update_dict\n",
    "    if num_bed == 2:\n",
    "        if bathroom == 1:\n",
    "            bedroom2_bathroom1[curr_zip] = update_dict\n",
    "        if bathroom == 1.0:\n",
    "            bedroom2_bathroom1[curr_zip] = update_dict\n",
    "        if bathroom == 1.5:\n",
    "            bedroom2_bathroom15[curr_zip] = update_dict\n",
    "        if bathroom == 2:\n",
    "            bedroom2_bathroom2[curr_zip] = update_dict\n",
    "        if bathroom == 2.0:\n",
    "            bedroom2_bathroom2[curr_zip] = update_dict\n",
    "        if bathroom == 2.5:\n",
    "            bedroom2_bathroom25[curr_zip] = update_dict\n",
    "    if num_bed == 3:\n",
    "        if bathroom == 2:\n",
    "            bedroom3_bathroom2[curr_zip] = update_dict\n",
    "        if bathroom == 2.0:\n",
    "            bedroom3_bathroom2[curr_zip] = update_dict\n",
    "        if bathroom == 2.5:\n",
    "            bedroom3_bathroom25[curr_zip] = update_dict\n",
    "    if num_bed == 4:\n",
    "        bedroom4[zpid] = new_dict\n",
    "    if num_bed == 5:\n",
    "        bedroom5[zpid] = new_dict"
   ]
  },
  {
   "cell_type": "code",
   "execution_count": 28,
   "metadata": {},
   "outputs": [],
   "source": [
    "# iterate the data to populate the dictionaries for each bedroom and bathroom type\n",
    "for zpid in df['zpid'].tolist():\n",
    "    homeValue = df.loc[df['zpid'] == zpid]['data'][c]['HomeValueChartData']\n",
    "    \n",
    "    try:\n",
    "        bedroom = df.loc[df['zpid'] == zpid]['data'][c]['results']['result']['bedrooms']['$']\n",
    "        bathroom = df.loc[df['zpid'] == zpid]['data'][c]['results']['result']['bathrooms']['$']\n",
    "    except (TypeError,KeyError):\n",
    "        c=c+1\n",
    "        continue\n",
    "    c = c + 1\n",
    "\n",
    "    chart = json.loads(homeValue)\n",
    "    y= {2010:[], 2011:[], 2012:[], 2013:[], 2014:[], 2015:[], 2016:[], 2017:[]}\n",
    "\n",
    "    # append rent so that it can be averaged later\n",
    "    # the key is the year from [-4:]\n",
    "    for i in chart['points']:\n",
    "        year = int(time.ctime(i['x']/1000)[-4:])\n",
    "        y[year].append(i['y'])\n",
    "  \n",
    "    # new_dict will have key: year,  value: average rent price\n",
    "    new_dict ={}\n",
    "    for key, value in y.items():\n",
    "        if (len(value) != 0):\n",
    "            new_dict[key] = statistics.mean(value)\n",
    "            \n",
    "    update_bedroom_dict(bedroom, zpid, new_dict)"
   ]
  },
  {
   "cell_type": "code",
   "execution_count": 29,
   "metadata": {},
   "outputs": [
    {
     "name": "stdout",
     "output_type": "stream",
     "text": [
      "1 bedroom 1 bathrooms\n",
      "\n",
      "{2010: 1602.5821078431372, 2011: 1459.3792892156862, 2012: 1485.254153050109, 2013: 1529.7781862745098, 2014: 1614.2878540305012, 2015: 1715.2486383442265, 2016: 1856.859477124183, 2017: 1915.3445261437907}\n",
      "\n",
      "1 bedroom 1.5 bathrooms\n",
      "\n",
      "{2010: 1913.2966666666666, 2011: 1784.92, 2012: 1806.8555555555556, 2013: 1826.6966666666667, 2014: 1973.3622222222223, 2015: 2072.8933333333334, 2016: 2234.0266666666666, 2017: 2279.7533333333336}\n"
     ]
    }
   ],
   "source": [
    "# Note that the logic here is repeated for the other bedroom options below\n",
    "\n",
    "print(\"Average rent: 1 bedroom 1 bathrooms\\n\")\n",
    "\n",
    "# need to create a new dict that will be the one printed for result\n",
    "# so that we don't modify the dictionary that we are iterating over \n",
    "\n",
    "rent_dict_1 = {2010:[],2011:[],2012:[],2013:[],2014:[],2015:[],2016:[],2017:[]}\n",
    "for key, value in bedroom1_bathroom1.items():\n",
    "    for year, rent in value.items():\n",
    "        rent_dict_1[year].append(rent)\n",
    "        \n",
    "# update the dictionary with same key but with value of averages     \n",
    "\n",
    "for key, value in rent_dict_1.items():\n",
    "    rent_dict_1[key] = statistics.mean(value)\n",
    "    \n",
    "    \n",
    "print(rent_dict_1)\n",
    "        \n",
    "print(\"\\nAverage rent: 1 bedroom 1.5 bathrooms\\n\")\n",
    "\n",
    "rent_dict_15 = {2010:[],2011:[],2012:[],2013:[],2014:[],2015:[],2016:[],2017:[]}\n",
    "for key, value in bedroom1_bathroom15.items():\n",
    "    for year, rent in value.items():\n",
    "        rent_dict_15[year].append(rent)\n",
    "        \n",
    "        \n",
    "for key, value in rent_dict_15.items():\n",
    "    rent_dict_15[key] = statistics.mean(value)\n",
    "    \n",
    "    \n",
    "print(rent_dict_15)\n"
   ]
  },
  {
   "cell_type": "code",
   "execution_count": 32,
   "metadata": {},
   "outputs": [
    {
     "name": "stdout",
     "output_type": "stream",
     "text": [
      "Average rent: 2 bedroom 1 bathrooms\n",
      "\n",
      "{2010: 1874.2815824468084, 2011: 1748.9835992907801, 2012: 1783.9268617021276, 2013: 1830.3303413120568, 2014: 1916.893395390071, 2015: 2033.5085328014184, 2016: 2203.934840425532, 2017: 2244.13594858156}\n",
      "\n",
      "Average rent: 2 bedroom 1.5 bathrooms\n",
      "\n",
      "{2010: 1874.2815824468084, 2011: 1748.9835992907801, 2012: 1783.9268617021276, 2013: 1830.3303413120568, 2014: 1916.893395390071, 2015: 2033.5085328014184, 2016: 2203.934840425532, 2017: 2244.13594858156}\n",
      "\n",
      "Average rent: 2 bedroom 2 bathrooms\n",
      "\n",
      "{2010: 2486.368752581578, 2011: 2411.971189591078, 2012: 2403.559307448713, 2013: 2436.6067740603057, 2014: 2525.238055899766, 2015: 2754.8317155445407, 2016: 3017.9807930607185, 2017: 3035.82832163018}\n",
      "\n",
      "Average rent: 2 bedroom 2.5 bathrooms\n",
      "\n",
      "{2010: 2471.8686659772493, 2011: 2441.309376077215, 2012: 2439.8522923129954, 2013: 2463.272233712513, 2014: 2560.823767666322, 2015: 2764.201999310583, 2016: 2997.874698379869, 2017: 3013.891761461565}\n"
     ]
    }
   ],
   "source": [
    "# if this is confusing check bedroom 1 layout for doc\n",
    "\n",
    "print(\"Average rent: 2 bedroom 1 bathrooms\\n\")\n",
    "\n",
    "rent_dict_2 = {2010:[],2011:[],2012:[],2013:[],2014:[],2015:[],2016:[],2017:[]}\n",
    "for key, value in bedroom2_bathroom1.items():\n",
    "    for year, rent in value.items():\n",
    "        rent_dict_2[year].append(rent)\n",
    "        \n",
    "        \n",
    "for key, value in rent_dict_2.items():\n",
    "    rent_dict_2[key] = statistics.mean(value)\n",
    "    \n",
    "    \n",
    "print(rent_dict_2)\n",
    "\n",
    "print(\"\\nAverage rent: 2 bedroom 1.5 bathrooms\\n\")\n",
    "\n",
    "rent_dict_2 = {2010:[],2011:[],2012:[],2013:[],2014:[],2015:[],2016:[],2017:[]}\n",
    "for key, value in bedroom2_bathroom1.items():\n",
    "    for year, rent in value.items():\n",
    "        rent_dict_2[year].append(rent)\n",
    "        \n",
    "        \n",
    "for key, value in rent_dict_2.items():\n",
    "    rent_dict_2[key] = statistics.mean(value)\n",
    "    \n",
    "    \n",
    "print(rent_dict_2)\n",
    "\n",
    "print(\"\\nAverage rent: 2 bedroom 2 bathrooms\\n\")\n",
    "\n",
    "rent_dict_22 = {2010:[],2011:[],2012:[],2013:[],2014:[],2015:[],2016:[],2017:[]}\n",
    "for key, value in bedroom2_bathroom2.items():\n",
    "    for year, rent in value.items():\n",
    "        rent_dict_22[year].append(rent)\n",
    "        \n",
    "        \n",
    "for key, value in rent_dict_22.items():\n",
    "    rent_dict_22[key] = statistics.mean(value)\n",
    "    \n",
    "    \n",
    "print(rent_dict_22)\n",
    "\n",
    "print(\"\\nAverage rent: 2 bedroom 2.5 bathrooms\\n\")\n",
    "\n",
    "rent_dict_25 = {2010:[],2011:[],2012:[],2013:[],2014:[],2015:[],2016:[],2017:[]}\n",
    "for key, value in bedroom2_bathroom25.items():\n",
    "    for year, rent in value.items():\n",
    "        rent_dict_25[year].append(rent)\n",
    "        \n",
    "        \n",
    "for key, value in rent_dict_25.items():\n",
    "    rent_dict_25[key] = statistics.mean(value)\n",
    "    \n",
    "    \n",
    "print(rent_dict_25)"
   ]
  },
  {
   "cell_type": "code",
   "execution_count": 34,
   "metadata": {
    "scrolled": true
   },
   "outputs": [
    {
     "name": "stdout",
     "output_type": "stream",
     "text": [
      "Average rent: 3 bedroom 2 bathrooms\n",
      "\n",
      "{2010: 3065.0253658536585, 2011: 3017.8716666666664, 2012: 3060.8613414634146, 2013: 3108.3878455284553, 2014: 3261.297357723577, 2015: 3577.366544715447, 2016: 3911.6779268292685, 2017: 3931.981707317073}\n",
      "\n",
      "Average rent: 3 bedroom 2.5 bathrooms\n",
      "\n",
      "{2010: 2882.768194070081, 2011: 2900.142632524708, 2012: 2912.651673405211, 2013: 2949.5921495956873, 2014: 3040.0537398921833, 2015: 3306.705188679245, 2016: 3531.3641060197665, 2017: 3540.7237646001795}\n"
     ]
    }
   ],
   "source": [
    "# if this is confusing check bedroom 1 layout for doc\n",
    "\n",
    "print(\"Average rent: 3 bedroom 2 bathrooms\\n\")\n",
    "\n",
    "rent_dict_3 = {2010:[],2011:[],2012:[],2013:[],2014:[],2015:[],2016:[],2017:[]}\n",
    "for key, value in bedroom3_bathroom2.items():\n",
    "    for year, rent in value.items():\n",
    "        rent_dict_3[year].append(rent)\n",
    "        \n",
    "        \n",
    "for key, value in rent_dict_3.items():\n",
    "    rent_dict_3[key] = statistics.mean(value)\n",
    "    \n",
    "    \n",
    "print(rent_dict_3)\n",
    "\n",
    "print(\"\\nAverage rent: 3 bedroom 2.5 bathrooms\\n\")\n",
    "\n",
    "rent_dict_35 = {2010:[],2011:[],2012:[],2013:[],2014:[],2015:[],2016:[],2017:[]}\n",
    "for key, value in bedroom3_bathroom25.items():\n",
    "    for year, rent in value.items():\n",
    "        rent_dict_35[year].append(rent)\n",
    "        \n",
    "        \n",
    "for key, value in rent_dict_35.items():\n",
    "    rent_dict_35[key] = statistics.mean(value)\n",
    "    \n",
    "    \n",
    "print(rent_dict_35)"
   ]
  },
  {
   "cell_type": "code",
   "execution_count": 35,
   "metadata": {},
   "outputs": [
    {
     "name": "stdout",
     "output_type": "stream",
     "text": [
      "Average rent: 4 bedroom\n",
      "\n",
      "{2010: 5497.665365507452, 2011: 5490.27321386326, 2012: 5487.2232375207, 2013: 5691.393452803407, 2014: 5868.164833215046, 2015: 6489.642565649397, 2016: 6873.528624695617, 2017: 6769.838565340909}\n",
      "\n",
      "Average rent: 5 bedroom\n",
      "\n",
      "{2010: 8103.489161849711, 2011: 8091.694765574824, 2012: 7997.637202954399, 2013: 8306.388005780347, 2014: 8487.456165703275, 2015: 9349.516538214515, 2016: 9697.88688182402, 2017: 9638.8856775851}\n"
     ]
    }
   ],
   "source": [
    "# if this is confusing check bedroom 1 layout for doc\n",
    "\n",
    "print(\"Average rent: 4 bedroom\\n\")\n",
    "\n",
    "rent_dict_4 = {2010:[],2011:[],2012:[],2013:[],2014:[],2015:[],2016:[],2017:[]}\n",
    "for key, value in bedroom4.items():\n",
    "    for year, rent in value.items():\n",
    "        rent_dict_4[year].append(rent)\n",
    "        \n",
    "        \n",
    "for key, value in rent_dict_4.items():\n",
    "    rent_dict_4[key] = statistics.mean(value)\n",
    "    \n",
    "    \n",
    "print(rent_dict_4)\n",
    "\n",
    "print(\"\\nAverage rent: 5 bedroom\\n\")\n",
    "\n",
    "rent_dict_5 = {2010:[],2011:[],2012:[],2013:[],2014:[],2015:[],2016:[],2017:[]}\n",
    "for key, value in bedroom5.items():\n",
    "    for year, rent in value.items():\n",
    "        rent_dict_5[year].append(rent)\n",
    "        \n",
    "        \n",
    "for key, value in rent_dict_5.items():\n",
    "    rent_dict_5[key] = statistics.mean(value)\n",
    "    \n",
    "    \n",
    "print(rent_dict_5)"
   ]
  }
 ],
 "metadata": {
  "kernelspec": {
   "display_name": "Python 3",
   "language": "python",
   "name": "python3"
  },
  "language_info": {
   "codemirror_mode": {
    "name": "ipython",
    "version": 3
   },
   "file_extension": ".py",
   "mimetype": "text/x-python",
   "name": "python",
   "nbconvert_exporter": "python",
   "pygments_lexer": "ipython3",
   "version": "3.6.0"
  }
 },
 "nbformat": 4,
 "nbformat_minor": 2
}
