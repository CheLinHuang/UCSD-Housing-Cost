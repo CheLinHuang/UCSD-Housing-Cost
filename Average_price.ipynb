{
 "cells": [
  {
   "cell_type": "code",
   "execution_count": 1,
   "metadata": {
    "collapsed": true
   },
   "outputs": [],
   "source": [
    "# import correct packages\n",
    "\n",
    "import pandas as pd\n",
    "import json\n",
    "import time\n",
    "import statistics"
   ]
  },
  {
   "cell_type": "code",
   "execution_count": 2,
   "metadata": {
    "collapsed": true
   },
   "outputs": [],
   "source": [
    "# read the json file\n",
    "\n",
    "df = pd.read_json('data.json',lines=True)"
   ]
  },
  {
   "cell_type": "code",
   "execution_count": 3,
   "metadata": {
    "collapsed": true
   },
   "outputs": [],
   "source": [
    "# initialize dictionaries that will track year and price\n",
    "\n",
    "bedroom1_bathroom1 = {}\n",
    "bedroom1_bathroom15 = {}\n",
    "bedroom2_bathroom1 = {}\n",
    "bedroom2_bathroom15 = {}\n",
    "bedroom2_bathroom2 = {}\n",
    "bedroom2_bathroom25 = {}\n",
    "bedroom3_bathroom2 = {}\n",
    "bedroom3_bathroom25 = {}\n",
    "bedroom4 = {}\n",
    "bedroom5 = {}\n",
    "\n",
    "c = 0"
   ]
  },
  {
   "cell_type": "code",
   "execution_count": 4,
   "metadata": {
    "collapsed": true
   },
   "outputs": [],
   "source": [
    "# helper function that will be used to update dictionaries with rent prices \n",
    "\n",
    "def update_bedroom_dict(num_bed, curr_zip, update_dict):\n",
    "    if num_bed == 1:\n",
    "        if bathroom == 1.0:\n",
    "            bedroom1_bathroom1[curr_zip] = update_dict\n",
    "        if bathroom == 1.5:\n",
    "            bedroom1_bathroom15[curr_zip] = update_dict\n",
    "    if num_bed == 2:\n",
    "        if bathroom == 1:\n",
    "            bedroom2_bathroom1[curr_zip] = update_dict\n",
    "        if bathroom == 1.0:\n",
    "            bedroom2_bathroom1[curr_zip] = update_dict\n",
    "        if bathroom == 1.5:\n",
    "            bedroom2_bathroom15[curr_zip] = update_dict\n",
    "        if bathroom == 2:\n",
    "            bedroom2_bathroom2[curr_zip] = update_dict\n",
    "        if bathroom == 2.0:\n",
    "            bedroom2_bathroom2[curr_zip] = update_dict\n",
    "        if bathroom == 2.5:\n",
    "            bedroom2_bathroom25[curr_zip] = update_dict\n",
    "    if num_bed == 3:\n",
    "        if bathroom == 2:\n",
    "            bedroom3_bathroom2[curr_zip] = update_dict\n",
    "        if bathroom == 2.0:\n",
    "            bedroom3_bathroom2[curr_zip] = update_dict\n",
    "        if bathroom == 2.5:\n",
    "            bedroom3_bathroom25[curr_zip] = update_dict\n",
    "    if num_bed == 4:\n",
    "        bedroom4[zpid] = new_dict\n",
    "    if num_bed == 5:\n",
    "        bedroom5[zpid] = new_dict"
   ]
  },
  {
   "cell_type": "code",
   "execution_count": 5,
   "metadata": {
    "collapsed": true
   },
   "outputs": [],
   "source": [
    "monthly_rent = []\n",
    "\n",
    "for i in range(8):\n",
    "    monthly_rent.append({'Jan':[], 'Feb':[], 'Mar':[], 'Apr':[], 'May':[], 'Jun':[], 'Jul':[], 'Aug':[], 'Sep':[], 'Oct':[], 'Nov':[],'Dec':[]})"
   ]
  },
  {
   "cell_type": "code",
   "execution_count": 6,
   "metadata": {},
   "outputs": [
    {
     "data": {
      "text/plain": [
       "dict"
      ]
     },
     "execution_count": 6,
     "metadata": {},
     "output_type": "execute_result"
    }
   ],
   "source": [
    "type(monthly_rent[1])"
   ]
  },
  {
   "cell_type": "code",
   "execution_count": 7,
   "metadata": {
    "collapsed": true
   },
   "outputs": [],
   "source": [
    "# iterate the data to populate the dictionaries for each bedroom and bathroom type\n",
    "monthly_rent = []\n",
    "for i in range(8):\n",
    "    monthly_rent.append({'Jan':[], 'Feb':[], 'Mar':[], 'Apr':[], 'May':[], 'Jun':[], 'Jul':[], 'Aug':[], 'Sep':[], 'Oct':[], 'Nov':[],'Dec':[]})\n",
    "\n",
    "\n",
    "for zpid in df['zpid'].tolist():\n",
    "    homeValue = df.loc[df['zpid'] == zpid]['data'][c]['HomeValueChartData']\n",
    "    \n",
    "    try:\n",
    "        bedroom = df.loc[df['zpid'] == zpid]['data'][c]['results']['result']['bedrooms']['$']\n",
    "        bathroom = df.loc[df['zpid'] == zpid]['data'][c]['results']['result']['bathrooms']['$']\n",
    "    except (TypeError,KeyError):\n",
    "        c=c+1\n",
    "        continue\n",
    "    c = c + 1\n",
    "\n",
    "    chart = json.loads(homeValue)\n",
    "    y= {2010:[], 2011:[], 2012:[], 2013:[], 2014:[], 2015:[], 2016:[], 2017:[]}\n",
    "\n",
    "    # append rent so that it can be averaged later\n",
    "    # the key is the year from [-4:]\n",
    "    for i in chart['points']:\n",
    "        year = int(time.ctime(i['x']/1000)[-4:])\n",
    "        month = time.ctime(i['x']/1000)[4:7]\n",
    "        y[year].append(i['y'])\n",
    "        if bedroom == 1 or bedroom == 2 or bedroom == 3:\n",
    "            monthly_rent[year%10][month].append(i['y'])\n",
    "            \n",
    "    # new_dict will have key: year,  value: average rent price\n",
    "    new_dict ={}\n",
    "    for key, value in y.items():\n",
    "        if (len(value) != 0):\n",
    "            new_dict[key] = statistics.mean(value)\n",
    "            \n",
    "    update_bedroom_dict(bedroom, zpid, new_dict)"
   ]
  },
  {
   "cell_type": "code",
   "execution_count": 8,
   "metadata": {},
   "outputs": [
    {
     "data": {
      "text/plain": [
       "dict_keys(['points', 'name', 'id', 'regionType'])"
      ]
     },
     "execution_count": 8,
     "metadata": {},
     "output_type": "execute_result"
    }
   ],
   "source": [
    "chart.keys()"
   ]
  },
  {
   "cell_type": "code",
   "execution_count": 9,
   "metadata": {
    "collapsed": true
   },
   "outputs": [],
   "source": [
    "for i in range(8):\n",
    "    for key, value in monthly_rent[i].items():\n",
    "        if (len(value) != 0):\n",
    "            monthly_rent[i][key] = statistics.mean(value)\n"
   ]
  },
  {
   "cell_type": "code",
   "execution_count": 10,
   "metadata": {},
   "outputs": [
    {
     "name": "stdout",
     "output_type": "stream",
     "text": [
      "dict_values([[], [], [], [], [], [], [], [], 2797.649703757812, 2758.2647512377243, 2712.9294929006087, 2735.8978498985803])\n",
      "dict_values([2656.476835699797, 2670.536064908722, 2689.2901419878294, 2688.099148073022, 2705.0994726166327, 2731.6253144016227, 2728.1511561866128, 2704.1483164300203, 2697.289817444219, 2678.824259634888, 2686.1348478701825, 2683.047221095335])\n",
      "dict_values([2695.6792697768765, 2662.34677484787, 2666.8320486815414, 2684.59724137931, 2720.8338336713996, 2742.9243002028397, 2772.7088032454362, 2763.4478701825556, 2741.8521703853953, 2716.5568356997974, 2698.084543610548, 2669.526572008114])\n",
      "dict_values([2683.4633671399592, 2697.10645030426, 2728.6094929006085, 2751.5015821501015, 2777.637809330629, 2778.9125354969574, 2816.885436105477, 2821.6418661257608, 2806.917322515213, 2823.5051521298174, 2812.5724137931034, 2789.4644219066936])\n",
      "dict_values([2759.4923326572007, 2782.8168762677483, 2811.3433671399594, 2798.075050709939, 2794.1114807302233, 2806.912129817444, 2893.202515212982, 2927.814117647059, 2963.3475862068967, 2950.0293711967547, 2949.061014198783, 2972.0048681541584])\n",
      "dict_values([2973.2396754563893, 3026.224178498986, 3058.556186612576, 3081.3651926977686, 3083.4923326572007, 3118.7580527383366, 3146.8005679513185, 3165.523326572008, 3152.1686815415824, 3201.6042190669373, 3192.04154158215, 3189.3315212981743])\n",
      "dict_values([3266.6678296146047, 3307.8670993914807, 3537.7594320486814, 3558.298255578093, 3393.1189452332655, 3361.229290060852, 3377.7540770791074, 3392.8343204868156, 3412.644949290061, 3350.1213793103448, 3330.958215010142, 3329.1741987829614])\n",
      "dict_values([3340.708559837728, 3365.3359026369167, 3393.9403651115617, 3405.1916430020283, 3358.84336177219, 4116.189229396013, [], [], [], [], [], []])\n"
     ]
    }
   ],
   "source": [
    "for i in range(8):\n",
    "    print(monthly_rent[i].values())"
   ]
  },
  {
   "cell_type": "markdown",
   "metadata": {
    "collapsed": true
   },
   "source": [
    "## Rent Prices Over Time\n",
    "\n",
    "The goal of this visual is to find the month that is most expensive relative to the year that it is in. This way we can make determine which month is the worst month to sign a lease. In our data, looking at the past 6 years, we plotted each rent price for each month seperated by year. From the visual you can estimate a trend that around June to August, rent prices were higher than other months relative to each year."
   ]
  },
  {
   "cell_type": "code",
   "execution_count": 11,
   "metadata": {
    "scrolled": false
   },
   "outputs": [
    {
     "data": {
      "text/plain": [
       "<matplotlib.text.Text at 0x14a8675c0>"
      ]
     },
     "execution_count": 11,
     "metadata": {},
     "output_type": "execute_result"
    },
    {
     "data": {
      "image/png": "[encoded data removed]",
      "text/plain": [
       "<matplotlib.figure.Figure at 0x1443d1f28>"
      ]
     },
     "metadata": {},
     "output_type": "display_data"
    }
   ],
   "source": [
    "import matplotlib.pyplot as plt\n",
    "%matplotlib inline\n",
    "fig, ax = plt.subplots(figsize=(15, 10))\n",
    "for i in range(1,7):\n",
    "    ax.plot(range(1,13),list((monthly_rent[i]).values()), 'o-', label= (2010+i))\n",
    "legend = ax.legend(loc='center left', bbox_to_anchor=(1, 0.5), shadow=True, fontsize='x-large')\n",
    "plt.title('rent history')"
   ]
  },
  {
   "cell_type": "markdown",
   "metadata": {},
   "source": [
    "## Rent Price Over Time Cont.\n",
    "\n",
    "In order to determine which month was the most expensive for the year, we had to adjust the data shown above. The monthly rent needs to be adjusted for the year because each year there is a distinct difference in average price. Therefore, the data visual below shows how far that month's rent was from the average rent price over the past 6 years. So, the farther the data point is from 0 the more standard deviations it is away from the mean. This shows that the months from June to December start to become more expensive times to rent in comparison to the months January to June."
   ]
  },
  {
   "cell_type": "code",
   "execution_count": 12,
   "metadata": {},
   "outputs": [
    {
     "ename": "NameError",
     "evalue": "name 'month_rent_dev' is not defined",
     "output_type": "error",
     "traceback": [
      "\u001b[0;31m---------------------------------------------------------------------------\u001b[0m",
      "\u001b[0;31mNameError\u001b[0m                                 Traceback (most recent call last)",
      "\u001b[0;32m<ipython-input-12-0f02f9ca8638>\u001b[0m in \u001b[0;36m<module>\u001b[0;34m()\u001b[0m\n\u001b[0;32m----> 1\u001b[0;31m \u001b[0mplt\u001b[0m\u001b[0;34m.\u001b[0m\u001b[0mplot\u001b[0m\u001b[0;34m(\u001b[0m\u001b[0mrange\u001b[0m\u001b[0;34m(\u001b[0m\u001b[0;36m1\u001b[0m\u001b[0;34m,\u001b[0m\u001b[0;36m13\u001b[0m\u001b[0;34m)\u001b[0m\u001b[0;34m,\u001b[0m\u001b[0mmonth_rent_dev\u001b[0m\u001b[0;34m)\u001b[0m\u001b[0;34m\u001b[0m\u001b[0m\n\u001b[0m",
      "\u001b[0;31mNameError\u001b[0m: name 'month_rent_dev' is not defined"
     ]
    }
   ],
   "source": [
    "plt.plot(range(1,13),month_rent_dev)"
   ]
  },
  {
   "cell_type": "code",
   "execution_count": null,
   "metadata": {},
   "outputs": [],
   "source": [
    "# Note that the logic here is repeated for the other bedroom options below\n",
    "\n",
    "print(\"Average rent: 1 bedroom 1 bathrooms\\n\")\n",
    "\n",
    "# need to create a new dict that will be the one printed for result\n",
    "# so that we don't modify the dictionary that we are iterating over \n",
    "\n",
    "rent_dict_1_monthly = {}\n",
    "\n",
    "rent_dict_1 = {2010:[],2011:[],2012:[],2013:[],2014:[],2015:[],2016:[],2017:[]}\n",
    "for key, value in bedroom1_bathroom1.items():\n",
    "    for year, rent in value.items():\n",
    "        rent_dict_1[year].append(rent)\n",
    "\n",
    "        \n",
    "# update the dictionary with same key but with value of averages     \n",
    "\n",
    "for key, value in rent_dict_1.items():\n",
    "    rent_dict_1[key] = statistics.mean(value)\n",
    "    \n",
    "    \n",
    "print(rent_dict_1)\n",
    "        \n",
    "print(\"\\nAverage rent: 1 bedroom 1.5 bathrooms\\n\")\n",
    "\n",
    "rent_dict_15 = {2010:[],2011:[],2012:[],2013:[],2014:[],2015:[],2016:[],2017:[]}\n",
    "for key, value in bedroom1_bathroom15.items():\n",
    "    for year, rent in value.items():\n",
    "        rent_dict_15[year].append(rent)\n",
    "        \n",
    "        \n",
    "for key, value in rent_dict_15.items():\n",
    "    rent_dict_15[key] = statistics.mean(value)\n",
    "    \n",
    "    \n",
    "print(rent_dict_15)\n"
   ]
  },
  {
   "cell_type": "code",
   "execution_count": null,
   "metadata": {},
   "outputs": [],
   "source": [
    "# if this is confusing check bedroom 1 layout for doc\n",
    "\n",
    "print(\"Average rent: 2 bedroom 1 bathrooms\\n\")\n",
    "\n",
    "rent_dict_21 = {2010:[],2011:[],2012:[],2013:[],2014:[],2015:[],2016:[],2017:[]}\n",
    "for key, value in bedroom2_bathroom1.items():\n",
    "    for year, rent in value.items():\n",
    "        rent_dict_21[year].append(rent)\n",
    "        \n",
    "        \n",
    "for key, value in rent_dict_21.items():\n",
    "    rent_dict_21[key] = statistics.mean(value)\n",
    "    \n",
    "    \n",
    "print(rent_dict_21)\n",
    "\n",
    "print(\"\\nAverage rent: 2 bedroom 1.5 bathrooms\\n\")\n",
    "\n",
    "rent_dict_2 = {2010:[],2011:[],2012:[],2013:[],2014:[],2015:[],2016:[],2017:[]}\n",
    "for key, value in bedroom2_bathroom15.items():\n",
    "    for year, rent in value.items():\n",
    "        rent_dict_2[year].append(rent)\n",
    "        \n",
    "        \n",
    "for key, value in rent_dict_2.items():\n",
    "    rent_dict_2[key] = statistics.mean(value)\n",
    "    \n",
    "    \n",
    "print(rent_dict_2)\n",
    "\n",
    "print(\"\\nAverage rent: 2 bedroom 2 bathrooms\\n\")\n",
    "\n",
    "rent_dict_22 = {2010:[],2011:[],2012:[],2013:[],2014:[],2015:[],2016:[],2017:[]}\n",
    "for key, value in bedroom2_bathroom2.items():\n",
    "    for year, rent in value.items():\n",
    "        rent_dict_22[year].append(rent)\n",
    "        \n",
    "        \n",
    "for key, value in rent_dict_22.items():\n",
    "    rent_dict_22[key] = statistics.mean(value)\n",
    "    \n",
    "    \n",
    "print(rent_dict_22)\n",
    "\n",
    "print(\"\\nAverage rent: 2 bedroom 2.5 bathrooms\\n\")\n",
    "\n",
    "rent_dict_25 = {2010:[],2011:[],2012:[],2013:[],2014:[],2015:[],2016:[],2017:[]}\n",
    "for key, value in bedroom2_bathroom25.items():\n",
    "    for year, rent in value.items():\n",
    "        rent_dict_25[year].append(rent)\n",
    "        \n",
    "        \n",
    "for key, value in rent_dict_25.items():\n",
    "    rent_dict_25[key] = statistics.mean(value)\n",
    "    \n",
    "    \n",
    "print(rent_dict_25)"
   ]
  },
  {
   "cell_type": "code",
   "execution_count": null,
   "metadata": {
    "scrolled": true
   },
   "outputs": [],
   "source": [
    "# if this is confusing check bedroom 1 layout for doc\n",
    "\n",
    "print(\"Average rent: 3 bedroom 2 bathrooms\\n\")\n",
    "\n",
    "rent_dict_3 = {2010:[],2011:[],2012:[],2013:[],2014:[],2015:[],2016:[],2017:[]}\n",
    "for key, value in bedroom3_bathroom2.items():\n",
    "    for year, rent in value.items():\n",
    "        rent_dict_3[year].append(rent)\n",
    "        \n",
    "        \n",
    "for key, value in rent_dict_3.items():\n",
    "    rent_dict_3[key] = statistics.mean(value)\n",
    "    \n",
    "    \n",
    "print(rent_dict_3)\n",
    "\n",
    "print(\"\\nAverage rent: 3 bedroom 2.5 bathrooms\\n\")\n",
    "\n",
    "rent_dict_35 = {2010:[],2011:[],2012:[],2013:[],2014:[],2015:[],2016:[],2017:[]}\n",
    "for key, value in bedroom3_bathroom25.items():\n",
    "    for year, rent in value.items():\n",
    "        rent_dict_35[year].append(rent)\n",
    "        \n",
    "        \n",
    "for key, value in rent_dict_35.items():\n",
    "    rent_dict_35[key] = statistics.mean(value)\n",
    "    \n",
    "    \n",
    "print(rent_dict_35)"
   ]
  },
  {
   "cell_type": "code",
   "execution_count": null,
   "metadata": {},
   "outputs": [],
   "source": [
    "# if this is confusing check bedroom 1 layout for doc\n",
    "\n",
    "print(\"Average rent: 4 bedroom\\n\")\n",
    "\n",
    "rent_dict_4 = {2010:[],2011:[],2012:[],2013:[],2014:[],2015:[],2016:[],2017:[]}\n",
    "for key, value in bedroom4.items():\n",
    "    for year, rent in value.items():\n",
    "        rent_dict_4[year].append(rent)\n",
    "        \n",
    "        \n",
    "for key, value in rent_dict_4.items():\n",
    "    rent_dict_4[key] = statistics.mean(value)\n",
    "    \n",
    "    \n",
    "print(rent_dict_4)\n",
    "\n",
    "print(\"\\nAverage rent: 5 bedroom\\n\")\n",
    "\n",
    "rent_dict_5 = {2010:[],2011:[],2012:[],2013:[],2014:[],2015:[],2016:[],2017:[]}\n",
    "for key, value in bedroom5.items():\n",
    "    for year, rent in value.items():\n",
    "        rent_dict_5[year].append(rent)\n",
    "        \n",
    "        \n",
    "for key, value in rent_dict_5.items():\n",
    "    rent_dict_5[key] = statistics.mean(value)\n",
    "    \n",
    "    \n",
    "print(rent_dict_5)"
   ]
  },
  {
   "cell_type": "code",
   "execution_count": null,
   "metadata": {},
   "outputs": [],
   "source": [
    "import matplotlib.pyplot as plt\n",
    "%matplotlib inline\n",
    "\n",
    "fig, ax = plt.subplots(figsize=(15, 10))\n",
    "# ax.plot(list(rent_dict_5.keys()), list(rent_dict_5.values()), 'ro-', label='5 bedroom')\n",
    "# ax.plot(list(rent_dict_4.keys()),list(rent_dict_4.values()), 'o-', label='4 bedroom')\n",
    "ax.plot(list(rent_dict_35.keys()),list(rent_dict_35.values()), 'ro-', label='3 bedroom 2.5 bathrooms')\n",
    "ax.plot(list(rent_dict_3.keys()),list(rent_dict_3.values()), 'o-', label='3 bedroom 2 bathrooms')\n",
    "ax.plot(list(rent_dict_25.keys()),list(rent_dict_25.values()), 'o-', label='2 bedroom 2.5 bathrooms')\n",
    "ax.plot(list(rent_dict_22.keys()),list(rent_dict_22.values()), 'o-', label='2 bedroom 2 bathrooms')\n",
    "ax.plot(list(rent_dict_2.keys()),list(rent_dict_2.values()), 'o-', label='2 bedroom 1.5 bathrooms')\n",
    "ax.plot(list(rent_dict_21.keys()),list(rent_dict_21.values()), 'o-', label='2 bedroom 1 bathrooms')\n",
    "ax.plot(list(rent_dict_15.keys()),list(rent_dict_15.values()), 'o-', label='1 bedroom 1.5 bathrooms')\n",
    "ax.plot(list(rent_dict_1.keys()),list(rent_dict_1.values()), 'o-', label='1 bedroom 1 bathrooms')\n",
    "legend = ax.legend(loc='center left', bbox_to_anchor=(1, 0.5), shadow=True, fontsize='x-large')\n",
    "plt.title('rent history')\n",
    "plt.xlabel('Year')\n",
    "plt.ylabel('Rent')\n",
    "plt.grid(True)\n",
    "\n",
    "for item in ([ax.title, ax.xaxis.label, ax.yaxis.label] +\n",
    "             ax.get_xticklabels() + ax.get_yticklabels()):\n",
    "    item.set_fontsize(15)"
   ]
  },
  {
   "cell_type": "code",
   "execution_count": null,
   "metadata": {},
   "outputs": [],
   "source": [
    "fig, ag = plt.subplots(figsize=(15, 10))\n",
    "ag.plot(list(rent_dict_5.keys()), list(rent_dict_5.values()), 'ro-', label='5 bedroom')\n",
    "ag.plot(list(rent_dict_4.keys()),list(rent_dict_4.values()), 'o-', label='4 bedroom')\n",
    "legend = ag.legend(loc='center left', bbox_to_anchor=(1, 0.5), shadow=True, fontsize='x-large')\n",
    "plt.title('rent history')\n",
    "plt.xlabel('Year')\n",
    "plt.ylabel('Rent')\n",
    "plt.grid(True)\n",
    "\n",
    "for item in ([ag.title, ag.xaxis.label, ag.yaxis.label] +\n",
    "             ag.get_xticklabels() + ag.get_yticklabels()):\n",
    "    item.set_fontsize(15)"
   ]
  }
 ],
 "metadata": {
  "kernelspec": {
   "display_name": "Python 3",
   "language": "python",
   "name": "python3"
  },
  "language_info": {
   "codemirror_mode": {
    "name": "ipython",
    "version": 3
   },
   "file_extension": ".py",
   "mimetype": "text/x-python",
   "name": "python",
   "nbconvert_exporter": "python",
   "pygments_lexer": "ipython3",
   "version": "3.6.0"
  }
 },
 "nbformat": 4,
 "nbformat_minor": 2
}
