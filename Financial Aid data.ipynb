{
 "cells": [
  {
   "cell_type": "code",
   "execution_count": 1,
   "metadata": {
    "collapsed": true
   },
   "outputs": [],
   "source": [
    "# import correct packages\n",
    "\n",
    "import pandas as pd\n",
    "import json\n",
    "import time\n",
    "import statistics\n",
    "import matplotlib\n",
    "import numpy as np\n",
    "%matplotlib inline\n",
    "\n",
    "import pandas as pd\n",
    "import numpy as np\n",
    "import matplotlib.pyplot as plt\n",
    "import patsy\n",
    "import statsmodels.api as sm\n",
    "from scipy.stats import ttest_ind\n",
    "import scipy.stats as stats\n",
    "from scipy.stats import normaltest\n",
    "from sklearn.cluster import KMeans\n",
    "from scipy.cluster.vq import whiten\n",
    "from sklearn.decomposition import PCA"
   ]
  },
  {
   "cell_type": "code",
   "execution_count": 2,
   "metadata": {
    "collapsed": true
   },
   "outputs": [],
   "source": [
    "# read the json file\n",
    "\n",
    "df = pd.read_json('data.json',lines=True)"
   ]
  },
  {
   "cell_type": "code",
   "execution_count": 5,
   "metadata": {},
   "outputs": [
    {
     "name": "stdout",
     "output_type": "stream",
     "text": [
      "1199120\n"
     ]
    }
   ],
   "source": [
    "# separate data by year and zpid\n",
    "# the key is the year from [-4:]\n",
    "data = {2009:{}, 2010:{}, 2011:{}, 2012:{}, 2013:{}, 2014:{}, 2015:{}, 2016:{}}\n",
    "c = 0\n",
    "count = 0\n",
    "for zpid in df['zpid'].tolist():\n",
    "    homeValue = df.loc[df['zpid'] == zpid]['data'][c]['HomeValueChartData']\n",
    "    chart = json.loads(homeValue)\n",
    "    for i in chart['points']:\n",
    "        year = int(time.ctime(i['x']/1000)[-4:])\n",
    "        if year in data:\n",
    "            if zpid in data[year]:\n",
    "                data[year][zpid] = (i['y'] + data[year][zpid]) * 0.5\n",
    "                count = count+1\n",
    "            else:\n",
    "                data[year][zpid] = (i['y'])\n",
    "    c = c+1\n",
    "print(count)"
   ]
  },
  {
   "cell_type": "code",
   "execution_count": 6,
   "metadata": {},
   "outputs": [
    {
     "name": "stdout",
     "output_type": "stream",
     "text": [
      "added data point from  2015\n",
      "added data point from  2015\n"
     ]
    }
   ],
   "source": [
    "# add any missing values from a following year\n",
    "for year in [2010,2011,2012,2013,2014,2015]:\n",
    "    for zpid in data[year]:\n",
    "        if zpid not in data[year+1]:\n",
    "            data[year+1][zpid] = data[year][zpid]\n",
    "            print(\"added data point from \", year)"
   ]
  },
  {
   "cell_type": "code",
   "execution_count": 37,
   "metadata": {
    "collapsed": true
   },
   "outputs": [],
   "source": [
    "# initialize difference lists for each year pair\n",
    "# tot refers to the total range of years that we have grant \n",
    "# data for, 2011-2016\n",
    "diff_data = {\"10_11\":[], \"11_12\":[], \"12_13\":[], \"13_14\":[], \"14_15\":[], \"15_16\":[], \"tot\":[]}\n",
    "for zpid in data[2015]:\n",
    "    diff_data[\"15_16\"].append((data[2016][zpid] - data[2015][zpid]) / data[2015][zpid])\n",
    "for zpid in data[2014]:\n",
    "    diff_data[\"14_15\"].append((data[2015][zpid] - data[2014][zpid]) / data[2014][zpid])\n",
    "for zpid in data[2013]:\n",
    "    diff_data[\"13_14\"].append((data[2014][zpid] - data[2013][zpid]) / data[2013][zpid])\n",
    "for zpid in data[2012]:\n",
    "    diff_data[\"12_13\"].append((data[2013][zpid] - data[2012][zpid]) / data[2012][zpid])\n",
    "for zpid in data[2011]:\n",
    "    diff_data[\"11_12\"].append((data[2012][zpid] - data[2011][zpid]) / data[2011][zpid])\n",
    "for zpid in data[2010]:\n",
    "    diff_data[\"10_11\"].append((data[2011][zpid] - data[2010][zpid]) / data[2010][zpid])\n",
    "for zpid in data[2011]:\n",
    "    diff_data[\"tot\"].append((data[2016][zpid]- data[2011][zpid]) / data[2011][zpid])"
   ]
  },
  {
   "cell_type": "code",
   "execution_count": 38,
   "metadata": {},
   "outputs": [
    {
     "name": "stdout",
     "output_type": "stream",
     "text": [
      "15870\n",
      "-1.92750120824%\n",
      "7.72994379027%\n",
      " \n",
      "15870\n",
      "0.380393977054%\n",
      "6.38393663319%\n",
      " \n",
      "15870\n",
      "4.79556550722%\n",
      "8.43546629985%\n",
      " \n",
      "15870\n",
      "6.97962084036%\n",
      "12.4318866857%\n",
      " \n",
      "15870\n",
      "6.681767177%\n",
      "12.0545541496%\n",
      " \n",
      "15870\n",
      "4.81149409595%\n",
      "11.8075901919%\n",
      " \n",
      "15870\n",
      "24.1966382215%\n",
      "18.1589109088%\n",
      " \n"
     ]
    }
   ],
   "source": [
    "for key in diff_data:\n",
    "    print(len(diff_data[key]))\n",
    "    print(str(np.mean(diff_data[key])*100) + \"%\")\n",
    "    print(str(np.std(diff_data[key])*100) + \"%\")\n",
    "    print(' ')"
   ]
  },
  {
   "cell_type": "markdown",
   "metadata": {
    "collapsed": true
   },
   "source": [
    "Financial Aid Data (Hand Scraped) Provided by Vonda Garcia director of the UCSD Financial Aid Office, These numbers were provided to us already rounded."
   ]
  },
  {
   "cell_type": "code",
   "execution_count": 39,
   "metadata": {
    "scrolled": true
   },
   "outputs": [
    {
     "name": "stdout",
     "output_type": "stream",
     "text": [
      "2011-2012 Total Money Given: 223.7 Million Dollars\n",
      "2011-2012 Total Recepients: 32200 Students - Assuming no Overlap\n",
      "2011-2012 Total Recepients: 13700 Students - Assuming maximum Overlap\n",
      "\n",
      "20y12-2013 Total Money Given: 215.9 Million Dollars\n",
      "20y12-2013 Total Recepients: 29700 Students - Assuming no Overlap\n",
      "20y12-2013 Total Recepients: 12600 Students - Assuming maximum Overlap\n",
      "\n",
      "2013-2014 Total Money Given: 221.70000000000002 Million Dollars\n",
      "2013-2014 Total Recepients: 29500 Students - Assuming no Overlap\n",
      "2013-2014 Total Recepients: 12300 Students - Assuming maximum Overlap\n",
      "\n",
      "2014-2015 Total Money Given: 222.2 Million Dollars\n",
      "2014-2015 Total Recepients: 29800 Students - Assuming no Overlap\n",
      "2014-2015 Total Recepients: 12600 Students - Assuming maximum Overlap\n",
      "\n",
      "2015-2016 Total Money Given: 228.5 Million Dollars\n",
      "2015-2016 Total Recepients: 29900 Students - Assuming no Overlap\n",
      "2015-2016 Total Recepients: 12700 Students - Assuming maximum Overlap\n",
      "\n"
     ]
    }
   ],
   "source": [
    "# Numbers entered are in millions of $\n",
    "y11_y12_Pell = 48.1\n",
    "y11_y12_UCOP = 81.3\n",
    "y11_y12_Cal = 94.3\n",
    "y12_y13_Pell = 44\n",
    "y12_y13_UCOP = 84.5\n",
    "y12_y13_Cal = 87.4\n",
    "y13_y14_Pell = 43.6\n",
    "y13_y14_UCOP = 87.7\n",
    "y13_y14_Cal = 90.4\n",
    "y14_y15_Pell = 44.1\n",
    "y14_y15_UCOP = 90.3\n",
    "y14_y15_Cal = 87.8\n",
    "y15_y16_Pell = 43.2\n",
    "y15_y16_UCOP = 92.5\n",
    "y15_y16_Cal = 92.8\n",
    "y11_y12_Total = y11_y12_Pell + y11_y12_UCOP + y11_y12_Cal\n",
    "y12_y13_Total = y12_y13_Pell + y12_y13_UCOP + y12_y13_Cal\n",
    "y13_y14_Total = y13_y14_Pell + y13_y14_UCOP + y13_y14_Cal\n",
    "y14_y15_Total = y14_y15_Pell + y14_y15_UCOP + y14_y15_Cal\n",
    "y15_y16_Total = y15_y16_Pell + y15_y16_UCOP + y15_y16_Cal\n",
    "\n",
    "# Numbers entered represent the number of students granted money from the listed source\n",
    "y11_y12_Pell_Recepients = 10800\n",
    "y11_y12_UCOP_Recepients = 13700\n",
    "y11_y12_Cal_Recepients = 7700\n",
    "y12_y13_Pell_Recepients = 9900\n",
    "y12_y13_UCOP_Recepients = 12600\n",
    "y12_y13_Cal_Recepients = 7200\n",
    "y13_y14_Pell_Recepients = 9700\n",
    "y13_y14_UCOP_Recepients = 12300\n",
    "y13_y14_Cal_Recepients = 7500\n",
    "y14_y15_Pell_Recepients = 9700\n",
    "y14_y15_UCOP_Recepients = 12600\n",
    "y14_y15_Cal_Recepients = 7500\n",
    "y15_y16_Pell_Recepients = 9500\n",
    "y15_y16_UCOP_Recepients = 12700\n",
    "y15_y16_Cal_Recepients = 7700\n",
    "\n",
    "# Calculating Total Reciepients Without any Overlap (Assuming each student only recieved one Grant)\n",
    "y11_y12_Total_Recepients_Noverlap = y11_y12_Pell_Recepients + y11_y12_UCOP_Recepients + y11_y12_Cal_Recepients\n",
    "y12_y13_Total_Recepients_Noverlap = y12_y13_Pell_Recepients + y12_y13_UCOP_Recepients + y12_y13_Cal_Recepients\n",
    "y13_y14_Total_Recepients_Noverlap = y13_y14_Pell_Recepients + y13_y14_UCOP_Recepients + y13_y14_Cal_Recepients\n",
    "y14_y15_Total_Recepients_Noverlap = y14_y15_Pell_Recepients + y14_y15_UCOP_Recepients + y14_y15_Cal_Recepients\n",
    "y15_y16_Total_Recepients_Noverlap = y15_y16_Pell_Recepients + y15_y16_UCOP_Recepients + y15_y16_Cal_Recepients\n",
    "\n",
    "# Calculating Total Recipients With Maximum Overlap (Assuming each students received as many grant types as possible)\n",
    "y11_y12_Total_Recepients_Overlap = y11_y12_UCOP_Recepients\n",
    "y12_y13_Total_Recepients_Overlap = y12_y13_UCOP_Recepients\n",
    "y13_y14_Total_Recepients_Overlap = y13_y14_UCOP_Recepients\n",
    "y14_y15_Total_Recepients_Overlap = y14_y15_UCOP_Recepients\n",
    "y15_y16_Total_Recepients_Overlap = y15_y16_UCOP_Recepients\n",
    "\n",
    "# Displays the totals\n",
    "print (\"2011-2012 Total Money Given:\", y11_y12_Total, \"Million Dollars\") \n",
    "print(\"2011-2012 Total Recepients:\", y11_y12_Total_Recepients_Noverlap, \"Students - Assuming no Overlap\")\n",
    "print(\"2011-2012 Total Recepients:\", y11_y12_Total_Recepients_Overlap, \"Students - Assuming maximum Overlap\\n\")\n",
    "print (\"20y12-2013 Total Money Given:\", y12_y13_Total, \"Million Dollars\") \n",
    "print(\"20y12-2013 Total Recepients:\", y12_y13_Total_Recepients_Noverlap, \"Students - Assuming no Overlap\")\n",
    "print(\"20y12-2013 Total Recepients:\", y12_y13_Total_Recepients_Overlap, \"Students - Assuming maximum Overlap\\n\")\n",
    "print (\"2013-2014 Total Money Given:\", y13_y14_Total, \"Million Dollars\") \n",
    "print(\"2013-2014 Total Recepients:\", y13_y14_Total_Recepients_Noverlap, \"Students - Assuming no Overlap\")\n",
    "print(\"2013-2014 Total Recepients:\", y13_y14_Total_Recepients_Overlap, \"Students - Assuming maximum Overlap\\n\")\n",
    "print (\"2014-2015 Total Money Given:\", y14_y15_Total, \"Million Dollars\") \n",
    "print(\"2014-2015 Total Recepients:\", y14_y15_Total_Recepients_Noverlap, \"Students - Assuming no Overlap\")\n",
    "print(\"2014-2015 Total Recepients:\", y14_y15_Total_Recepients_Overlap, \"Students - Assuming maximum Overlap\\n\")\n",
    "print (\"2015-2016 Total Money Given:\", y15_y16_Total, \"Million Dollars\") \n",
    "print(\"2015-2016 Total Recepients:\", y15_y16_Total_Recepients_Noverlap, \"Students - Assuming no Overlap\")\n",
    "print(\"2015-2016 Total Recepients:\", y15_y16_Total_Recepients_Overlap, \"Students - Assuming maximum Overlap\\n\")\n",
    "\n"
   ]
  },
  {
   "cell_type": "code",
   "execution_count": 40,
   "metadata": {},
   "outputs": [
    {
     "name": "stdout",
     "output_type": "stream",
     "text": [
      "Average amount of money given to a student reciving aid assuming no overlap: $ 7366.07\n",
      "Average amount of money given to a student reciving aid assuming maximum overlap: $ 17422.96\n",
      "Average amount of money given to a student reciving aid averaged: $ 12394.51\n"
     ]
    }
   ],
   "source": [
    "# Calculating average grant amount per student assuming no overlap\n",
    "y11_y12_Average_Noverlap = (y11_y12_Total * 1000000) / y11_y12_Total_Recepients_Noverlap\n",
    "y12_y13_Average_Noverlap = (y12_y13_Total * 1000000) / y12_y13_Total_Recepients_Noverlap\n",
    "y13_y14_Average_Noverlap = (y13_y14_Total * 1000000) / y13_y14_Total_Recepients_Noverlap\n",
    "y14_y15_Average_Noverlap = (y14_y15_Total * 1000000) / y14_y15_Total_Recepients_Noverlap\n",
    "y15_y16_Average_Noverlap = (y15_y16_Total * 1000000) / y15_y16_Total_Recepients_Noverlap\n",
    "Total_Average_Noverlap = (y11_y12_Average_Noverlap + y12_y13_Average_Noverlap + y13_y14_Average_Noverlap + y14_y15_Average_Noverlap + y15_y16_Average_Noverlap) / 5\n",
    "Total_Average_Noverlap = round(Total_Average_Noverlap, 2)\n",
    "\n",
    "# Calculating average Grant amount per student assuming maximum overlap\n",
    "y11_y12_Average_Overlap = (y11_y12_Total * 1000000) / y11_y12_Total_Recepients_Overlap\n",
    "y12_y13_Average_Overlap = (y12_y13_Total * 1000000) / y12_y13_Total_Recepients_Overlap\n",
    "y13_y14_Average_Overlap = (y13_y14_Total * 1000000) / y13_y14_Total_Recepients_Overlap\n",
    "y14_y15_Average_Overlap = (y14_y15_Total * 1000000) / y14_y15_Total_Recepients_Overlap\n",
    "y15_y16_Average_Overlap = (y15_y16_Total * 1000000) / y15_y16_Total_Recepients_Overlap\n",
    "Total_Average_Overlap = (y11_y12_Average_Overlap + y12_y13_Average_Overlap + y13_y14_Average_Overlap + y14_y15_Average_Overlap + y15_y16_Average_Overlap) / 5\n",
    "Total_Average_Overlap = round(Total_Average_Overlap, 2)\n",
    "\n",
    "# Calculateing the average of the full overlap and no overlap\n",
    "y11_y12_Average  = (y11_y12_Average_Noverlap + y11_y12_Average_Overlap) / 2 \n",
    "y12_y13_Average = (y12_y13_Average_Noverlap + y12_y13_Average_Overlap) / 2\n",
    "y13_y14_Average = (y13_y14_Average_Noverlap + y13_y14_Average_Overlap) / 2\n",
    "y14_y15_Average = (y14_y15_Average_Noverlap + y14_y15_Average_Overlap) / 2\n",
    "y15_y16_Average = (y15_y16_Average_Noverlap + y15_y16_Average_Overlap) / 2\n",
    "Total_Average = (Total_Average_Noverlap + Total_Average_Overlap) / 2\n",
    "Total_Average = round(Total_Average, 2)\n",
    "\n",
    "# Printing final results\n",
    "print(\"Average amount of money given to a student reciving aid assuming no overlap: $\", Total_Average_Noverlap)\n",
    "print(\"Average amount of money given to a student reciving aid assuming maximum overlap: $\", Total_Average_Overlap)\n",
    "print(\"Average amount of money given to a student reciving aid averaged: $\", Total_Average)\n"
   ]
  },
  {
   "cell_type": "code",
   "execution_count": 75,
   "metadata": {
    "collapsed": true
   },
   "outputs": [],
   "source": [
    "# Calculating the percent increase of financial aid given from year to year (no overlap)\n",
    "y11y12_y12y13_PIncrease_No = ((y12_y13_Average_Noverlap - y11_y12_Average_Noverlap) / y11_y12_Average_Noverlap) \n",
    "y12y13_y13y14_PIncrease_No = ((y13_y14_Average_Noverlap - y12_y13_Average_Noverlap) / y12_y13_Average_Noverlap)\n",
    "y13y14_y14y15_PIncrease_No = ((y14_y15_Average_Noverlap - y13_y14_Average_Noverlap) / y13_y14_Average_Noverlap)\n",
    "y14y15_y15y16_PIncrease_No = ((y15_y16_Average_Noverlap - y14_y15_Average_Noverlap) / y14_y15_Average_Noverlap)\n",
    "#total\n",
    "ytot_PIncrease_No = ((y15_y16_Average_Noverlap - y11_y12_Average_Noverlap) / y11_y12_Average_Noverlap)\n",
    "\n",
    "# Calculating the percent increase of financial aid given from year to year (max overlap)\n",
    "y11y12_y12y13_PIncrease_O = ((y12_y13_Average_Overlap - y11_y12_Average_Overlap) / y11_y12_Average_Overlap)\n",
    "y12y13_y13y14_PIncrease_O = ((y13_y14_Average_Overlap - y12_y13_Average_Overlap) / y12_y13_Average_Overlap)\n",
    "y13y14_y14y15_PIncrease_O = ((y14_y15_Average_Overlap - y13_y14_Average_Overlap) / y13_y14_Average_Overlap)\n",
    "y14y15_y15y16_PIncrease_O = ((y15_y16_Average_Overlap - y14_y15_Average_Overlap) / y14_y15_Average_Overlap)\n",
    "#total\n",
    "ytot_PIncrease_O = ((y15_y16_Average_Noverlap - y11_y12_Average_Noverlap) / y11_y12_Average_Noverlap)\n",
    "\n",
    "\n",
    "# Calculating the percent increase of financial aid givin from year to year (averaged)\n",
    "y11y12_y12y13_PIncrease = ((y12_y13_Average - y11_y12_Average) / y11_y12_Average)\n",
    "y12y13_y13y14_PIncrease = ((y13_y14_Average - y12_y13_Average) / y12_y13_Average)\n",
    "y13y14_y14y15_PIncrease = ((y14_y15_Average - y13_y14_Average) / y13_y14_Average)\n",
    "y14y15_y15y16_PIncrease = ((y15_y16_Average - y14_y15_Average) / y14_y15_Average)\n",
    "#total\n",
    "ytot_PIncrease = ((y15_y16_Average_Noverlap - y11_y12_Average_Noverlap) / y11_y12_Average_Noverlap)\n"
   ]
  },
  {
   "cell_type": "code",
   "execution_count": 42,
   "metadata": {},
   "outputs": [
    {
     "name": "stdout",
     "output_type": "stream",
     "text": [
      "0.0\n",
      "0.0\n",
      "0.0\n",
      "0.0\n",
      "0.0\n",
      "0.0\n"
     ]
    }
   ],
   "source": [
    "# Running a normality test on Home Data\n",
    "st_y11y12, p_y11y12 = normaltest(diff_data[\"11_12\"])\n",
    "st_y12y13, p_y12y13 = normaltest(diff_data[\"12_13\"])\n",
    "st_y13y14, p_y13y14 = normaltest(diff_data[\"13_14\"])\n",
    "st_y14y15, p_y14y15 = normaltest(diff_data[\"14_15\"])\n",
    "st_y15y16, p_y15y16 = normaltest(diff_data[\"15_16\"])\n",
    "st_tot, p_tot = normaltest(diff_data[\"tot\"])\n",
    "print(p_y11y12)\n",
    "print(p_y12y13)\n",
    "print(p_y13y14)\n",
    "print(p_y14y15)\n",
    "print(p_y15y16)\n",
    "print(p_tot)"
   ]
  },
  {
   "cell_type": "markdown",
   "metadata": {},
   "source": [
    "A value of 0.0 indicates that these distributions are very not normal, and thus we cannot use z-test analysis.\n",
    "We plot histograms to investigate how to extract a normal representation of this data."
   ]
  },
  {
   "cell_type": "code",
   "execution_count": 43,
   "metadata": {},
   "outputs": [
    {
     "data": {
      "image/png": "[encoded data removed]",
      "text/plain": [
       "<matplotlib.figure.Figure at 0x20b434b7b38>"
      ]
     },
     "metadata": {},
     "output_type": "display_data"
    }
   ],
   "source": [
    "# Plotting histograms of the distrobution of the percent change in the price of houses from 2011 - 2012\n",
    "plt.hist(diff_data[\"11_12\"], 1000, facecolor = 'orange') \n",
    "f2 = plt.gcf()"
   ]
  },
  {
   "cell_type": "code",
   "execution_count": 44,
   "metadata": {
    "scrolled": true
   },
   "outputs": [
    {
     "data": {
      "image/png": "[encoded data removed]",
      "text/plain": [
       "<matplotlib.figure.Figure at 0x20b47ddfc88>"
      ]
     },
     "metadata": {},
     "output_type": "display_data"
    }
   ],
   "source": [
    "# Plotting histograms of the distrobution of the percent change in the price of houses from 2012 - 2013\n",
    "plt.hist(diff_data[\"12_13\"], 1000, facecolor = 'purple') \n",
    "f2 = plt.gcf()"
   ]
  },
  {
   "cell_type": "code",
   "execution_count": 45,
   "metadata": {},
   "outputs": [
    {
     "data": {
      "image/png": "[encoded data removed]",
      "text/plain": [
       "<matplotlib.figure.Figure at 0x20b26694c88>"
      ]
     },
     "metadata": {},
     "output_type": "display_data"
    }
   ],
   "source": [
    "# Plotting histograms of the distrobution of the percent change in the price of houses from 2013 - 2014\n",
    "plt.hist(diff_data[\"13_14\"], 1000, facecolor = 'red') \n",
    "f2 = plt.gcf()"
   ]
  },
  {
   "cell_type": "code",
   "execution_count": 46,
   "metadata": {},
   "outputs": [
    {
     "data": {
      "image/png": "[encoded data removed]",
      "text/plain": [
       "<matplotlib.figure.Figure at 0x20b2084dac8>"
      ]
     },
     "metadata": {},
     "output_type": "display_data"
    }
   ],
   "source": [
    "# Plotting histograms of the distrobution of the percent change in the price of houses from 2014 - 2015\n",
    "plt.hist(diff_data[\"14_15\"], 1000, facecolor = 'blue') \n",
    "f2 = plt.gcf()"
   ]
  },
  {
   "cell_type": "code",
   "execution_count": 47,
   "metadata": {},
   "outputs": [
    {
     "data": {
      "image/png": "[encoded data removed]",
      "text/plain": [
       "<matplotlib.figure.Figure at 0x20b20ecc5c0>"
      ]
     },
     "metadata": {},
     "output_type": "display_data"
    }
   ],
   "source": [
    "# Plotting histograms of the distrobution of the percent change in the price of houses from 2015 - 2016\n",
    "plt.hist(diff_data[\"15_16\"], 1000, facecolor = 'green') \n",
    "f2 = plt.gcf()"
   ]
  },
  {
   "cell_type": "code",
   "execution_count": 64,
   "metadata": {},
   "outputs": [
    {
     "data": {
      "image/png": "[encoded data removed]",
      "text/plain": [
       "<matplotlib.figure.Figure at 0x20b473ff9b0>"
      ]
     },
     "metadata": {},
     "output_type": "display_data"
    }
   ],
   "source": [
    "# Plotting histograms of the distrobution of the percent change in the price of houses from 2011 - 2016\n",
    "plt.hist(diff_data[\"tot\"], 1000, facecolor = 'gold') \n",
    "f2 = plt.gcf()"
   ]
  },
  {
   "cell_type": "markdown",
   "metadata": {},
   "source": [
    "Obviously the plots above are far from normal because of there are huge outliers. Otherwise, the distributions look somewhat normal and are at least unimodal. Using statistical methods, we will remove outliers from the data to see if this yields a normal distribution.\n",
    "We can ignore these outliers for two reasons. First of all, the average student budget would not be able to keep up with a significant increase in housing cost as seen above (up to 400%), thus students cannot be the target market of that housing unit and it is not relevant to our analysis. Second, Zillow uses data scraping methods to pull list prices from web pages that are not always correct, and does not fix those values. This would account for some of the more extreme price increases (up to 400% increase), and thus is not useful data. "
   ]
  },
  {
   "cell_type": "code",
   "execution_count": 52,
   "metadata": {},
   "outputs": [
    {
     "name": "stdout",
     "output_type": "stream",
     "text": [
      "10_11\n",
      "11_12\n",
      "12_13\n",
      "13_14\n",
      "14_15\n",
      "15_16\n",
      "tot\n"
     ]
    }
   ],
   "source": [
    "# Calculating what dictates an outlier for each set of years\n",
    "\n",
    "pos_outliers = {\"10_11\":0, \"11_12\":0, \"12_13\":0, \"13_14\":0, \"14_15\":0, \"15_16\":0, \"tot\":0}\n",
    "neg_outliers = {\"10_11\":0, \"11_12\":0, \"12_13\":0, \"13_14\":0, \"14_15\":0, \"15_16\":0, \"tot\":0}\n",
    "for year in [\"10_11\", \"11_12\", \"12_13\", \"13_14\", \"14_15\", \"15_16\", \"tot\"]:\n",
    "    print(year)\n",
    "    pos_out = (stats.iqr(diff_data[year]) * 1.5) + (np.median(diff_data[year]) + ((stats.iqr(diff_data[year])) * .5))\n",
    "    neg_out = ((np.median(diff_data[year]) - (stats.iqr(diff_data[year]) * .5)) - (stats.iqr(diff_data[year]) * 1.5))\n",
    "    \n",
    "    pos_outliers[year] = pos_out\n",
    "    neg_outliers[year] = neg_out"
   ]
  },
  {
   "cell_type": "code",
   "execution_count": 77,
   "metadata": {},
   "outputs": [
    {
     "name": "stdout",
     "output_type": "stream",
     "text": [
      "761\n",
      "1318\n"
     ]
    }
   ],
   "source": [
    "# this is just to switch between an integer value of year and the corresponding year range key\n",
    "key_swp = {2011:\"10_11\",2012:\"11_12\",2013:\"12_13\",2014:\"13_14\",2015:\"14_15\",2016:\"15_16\"}\n",
    "key_swp_rvrs = {\"10_11\":2011,\"11_12\":2012,\"12_13\":2013,\"13_14\":2014,\"14_15\":2015,\"15_16\":2016}\n",
    "\n",
    "#the below outlier zpids are for the previous year to the year of entry: 2011 = 10-11\n",
    "outlier_zpids = {2011:[],2012:[],2013:[],2014:[],2015:[],2016:[],\"tot\":[]}\n",
    "for year in [2011,2012,2013,2014,2015,2016]:\n",
    "    for zpid in data[year]:\n",
    "        if zpid in data[year-1]:\n",
    "            if (data[year][zpid] - data[year-1][zpid])/ data[year-1][zpid] >= pos_outliers[key_swp[year]]:\n",
    "                outlier_zpids[year].append(zpid)\n",
    "            elif (data[year][zpid] - data[year-1][zpid])/ data[year-1][zpid] <= neg_outliers[key_swp[year]]:\n",
    "                outlier_zpids[year].append(zpid)\n",
    "print(len(outlier_zpids[2011]))\n",
    "\n",
    "for zpid in data[2011]:\n",
    "    if ((data[2016][zpid] - data[2011][zpid]) / data[2011][zpid] >= pos_outliers[\"tot\"]) or ((data[2016][zpid] - data[2011][zpid]) / data[2011][zpid] <= neg_outliers[\"tot\"]):\n",
    "        outlier_zpids[\"tot\"].append(zpid)\n",
    "print(len(outlier_zpids[\"tot\"]))\n"
   ]
  },
  {
   "cell_type": "markdown",
   "metadata": {},
   "source": [
    "This method of finding outliers classifies approximately 4.8% of our data as outliers, and 8.3% for the difference across the entire 2011-2016 range."
   ]
  },
  {
   "cell_type": "code",
   "execution_count": 56,
   "metadata": {
    "collapsed": true
   },
   "outputs": [],
   "source": [
    "# initialize difference lists\n",
    "diff_data_out = {\"10_11\":[], \"11_12\":[], \"12_13\":[], \"13_14\":[], \"14_15\":[], \"15_16\":[]}\n",
    "\n",
    "diff_data_full_out = []\n",
    "\n",
    "#get difference data with outliers removed\n",
    "for zpid in data[2015]:\n",
    "    if zpid not in outlier_zpids[2016]:\n",
    "        diff_data_out[\"15_16\"].append((data[2016][zpid] - data[2015][zpid]) / data[2015][zpid])\n",
    "for zpid in data[2014]:\n",
    "    if zpid not in outlier_zpids[2015]:\n",
    "        diff_data_out[\"14_15\"].append((data[2015][zpid] - data[2014][zpid]) / data[2014][zpid])\n",
    "for zpid in data[2013]:\n",
    "    if zpid not in outlier_zpids[2014]:\n",
    "        diff_data_out[\"13_14\"].append((data[2014][zpid] - data[2013][zpid]) / data[2013][zpid])\n",
    "for zpid in data[2012]:\n",
    "    if zpid not in outlier_zpids[2013]:\n",
    "        diff_data_out[\"12_13\"].append((data[2013][zpid] - data[2012][zpid]) / data[2012][zpid])\n",
    "for zpid in data[2011]:\n",
    "    if zpid not in outlier_zpids[2012]:\n",
    "        diff_data_out[\"11_12\"].append((data[2012][zpid] - data[2011][zpid]) / data[2011][zpid])\n",
    "for zpid in data[2010]:\n",
    "    if zpid not in outlier_zpids[2011]:\n",
    "        diff_data_out[\"10_11\"].append((data[2011][zpid] - data[2010][zpid]) / data[2010][zpid])\n",
    "        \n",
    "for zpid in data[2010]:\n",
    "    if zpid not in outlier_zpids[\"tot\"]:\n",
    "        diff_data_full_out.append((data[2016][zpid] - data[2011][zpid]) / data[2011][zpid])\n"
   ]
  },
  {
   "cell_type": "markdown",
   "metadata": {},
   "source": [
    "After removing the outliers, we check to see if the distribution is more normal."
   ]
  },
  {
   "cell_type": "code",
   "execution_count": 65,
   "metadata": {},
   "outputs": [
    {
     "name": "stdout",
     "output_type": "stream",
     "text": [
      "2.22068222886e-09\n",
      "0.30985407754\n",
      "8.58999612547e-11\n",
      "5.71673604085e-08\n",
      "0.00042838784471\n",
      "0.00135820957158\n"
     ]
    }
   ],
   "source": [
    "# Running a normality test on Home Data after removing the outliers\n",
    "st_y11y12, p_y11y12 = normaltest(diff_data_out[\"11_12\"])\n",
    "st_y12y13, p_y12y13 = normaltest(diff_data_out[\"12_13\"])\n",
    "st_y13y14, p_y13y14 = normaltest(diff_data_out[\"13_14\"])\n",
    "st_y14y15, p_y14y15 = normaltest(diff_data_out[\"14_15\"])\n",
    "st_y15y16, p_y15y16 = normaltest(diff_data_out[\"15_16\"])\n",
    "st_ytot, p_ytot = normaltest(diff_data_full_out)\n",
    "print(p_y11y12)\n",
    "print(p_y12y13)\n",
    "print(p_y13y14)\n",
    "print(p_y14y15)\n",
    "print(p_y15y16)\n",
    "print(p_ytot)"
   ]
  },
  {
   "cell_type": "code",
   "execution_count": 30,
   "metadata": {},
   "outputs": [
    {
     "data": {
      "image/png": "[encoded data removed]",
      "text/plain": [
       "<matplotlib.figure.Figure at 0x20b494d0668>"
      ]
     },
     "metadata": {},
     "output_type": "display_data"
    }
   ],
   "source": [
    "# Plotting histograms of the distrobution of the percent change in the price of houses from 2011 - 2012 with outliers\n",
    "plt.hist(diff_data_out[\"11_12\"], 100, facecolor = 'orange') \n",
    "f2 = plt.gcf()"
   ]
  },
  {
   "cell_type": "code",
   "execution_count": 31,
   "metadata": {},
   "outputs": [
    {
     "data": {
      "image/png": "[encoded data removed]",
      "text/plain": [
       "<matplotlib.figure.Figure at 0x20b207ec828>"
      ]
     },
     "metadata": {},
     "output_type": "display_data"
    }
   ],
   "source": [
    "# Plotting histograms of the distrobution of the percent change in the price of houses from 2012 - 2013 with outliers removed\n",
    "plt.hist(diff_data_out[\"12_13\"], 100, facecolor = 'purple') \n",
    "f2 = plt.gcf()"
   ]
  },
  {
   "cell_type": "code",
   "execution_count": 32,
   "metadata": {},
   "outputs": [
    {
     "data": {
      "image/png": "[encoded data removed]",
      "text/plain": [
       "<matplotlib.figure.Figure at 0x20b207cc518>"
      ]
     },
     "metadata": {},
     "output_type": "display_data"
    }
   ],
   "source": [
    "# Plotting histograms of the distrobution of the percent change in the price of houses from 2013 - 2014 with outliers removed\n",
    "plt.hist(diff_data_out[\"13_14\"], 100, facecolor = 'red') \n",
    "f2 = plt.gcf()"
   ]
  },
  {
   "cell_type": "code",
   "execution_count": 33,
   "metadata": {},
   "outputs": [
    {
     "data": {
      "image/png": "[encoded data removed]",
      "text/plain": [
       "<matplotlib.figure.Figure at 0x20b470bfe10>"
      ]
     },
     "metadata": {},
     "output_type": "display_data"
    }
   ],
   "source": [
    "# Plotting histograms of the distrobution of the percent change in the price of houses from 2014 - 2015 with outliers removed\n",
    "plt.hist(diff_data_out[\"14_15\"], 100, facecolor = 'blue') \n",
    "f2 = plt.gcf()"
   ]
  },
  {
   "cell_type": "code",
   "execution_count": 63,
   "metadata": {},
   "outputs": [
    {
     "data": {
      "image/png": "[encoded data removed]",
      "text/plain": [
       "<matplotlib.figure.Figure at 0x20b27a257b8>"
      ]
     },
     "metadata": {},
     "output_type": "display_data"
    }
   ],
   "source": [
    "# Plotting histograms of the distrobution of the percent change in the price of houses from 2015 - 2016 with outliers removed\n",
    "plt.hist(diff_data_out[\"15_16\"], 100, facecolor = 'green') \n",
    "f2 = plt.gcf()"
   ]
  },
  {
   "cell_type": "code",
   "execution_count": 62,
   "metadata": {},
   "outputs": [
    {
     "data": {
      "image/png": "[encoded data removed]",
      "text/plain": [
       "<matplotlib.figure.Figure at 0x20b41698b70>"
      ]
     },
     "metadata": {},
     "output_type": "display_data"
    }
   ],
   "source": [
    "# Plotting histograms of the distrobution of the percent change in the price of houses from 2011 - 2016 with outliers removed\n",
    "plt.hist(diff_data_full_out, 100, facecolor = 'gold') \n",
    "f2 = plt.gcf()"
   ]
  },
  {
   "cell_type": "markdown",
   "metadata": {},
   "source": [
    "Though the normaltest p_values still indicate that these distributions are mostly not normal, the values returned are decimals instead of 0.0 so we are getting closer. In the case of 2012-2013, the distribution is normal. \n",
    "We can at least proceed with analysis on the 2012-2013 year range. For the remaining years, we will do analysis as if they are normal, keeping in mind that any results are unreliable. \n",
    "In the future, more data would likely yield a more normal distribution, since what we are seeing is rough but close to normal. "
   ]
  },
  {
   "cell_type": "code",
   "execution_count": 78,
   "metadata": {},
   "outputs": [
    {
     "name": "stdout",
     "output_type": "stream",
     "text": [
      "10_11\n",
      "15109\n",
      "-1.36905082643%\n",
      "5.5019769938%\n",
      " \n",
      "11_12\n",
      "15296\n",
      "0.278126399354%\n",
      "4.3458393305%\n",
      " \n",
      "12_13\n",
      "15099\n",
      "4.29233542456%\n",
      "5.01695293852%\n",
      " \n",
      "13_14\n",
      "14604\n",
      "6.93286761259%\n",
      "7.2255698971%\n",
      " \n",
      "14_15\n",
      "14357\n",
      "5.18170572355%\n",
      "6.26846628267%\n",
      " \n",
      "15_16\n",
      "14632\n",
      "4.46716151491%\n",
      "6.82647657191%\n",
      " \n",
      "tot\n",
      "14552\n",
      "22.8895371778%\n",
      "9.64622060438%\n"
     ]
    }
   ],
   "source": [
    "# calculate the average and std dev for the distributions with no outliers\n",
    "mu = {2011:0,2012:0,2013:0,2014:0}\n",
    "stdDev = {2011:0,2012:0,2013:0,2014:0}\n",
    "mu_tot = 0\n",
    "stdDev_tot = 0\n",
    "\n",
    "\n",
    "for key in diff_data_out:\n",
    "    print(key)\n",
    "    print(len(diff_data_out[key]))\n",
    "    mu[key_swp_rvrs[key]] = np.mean(diff_data_out[key])\n",
    "    print(str(np.mean(diff_data_out[key])*100) + \"%\")\n",
    "    stdDev[key_swp_rvrs[key]] = np.std(diff_data_out[key])\n",
    "    print(str(np.std(diff_data_out[key])*100) + \"%\")\n",
    "    print(' ')\n",
    "    \n",
    "print(\"tot\")\n",
    "print(len(diff_data_full_out))\n",
    "mu_tot = np.mean(diff_data_full_out)\n",
    "print(str(np.mean(diff_data_full_out)*100) + \"%\")\n",
    "stdDev_tot = np.std(diff_data_full_out)\n",
    "print(str(np.std(diff_data_full_out)*100) + \"%\")"
   ]
  },
  {
   "cell_type": "markdown",
   "metadata": {},
   "source": [
    "The std dev values for the distributions with outliers removed are slightly lower than before.\n",
    "Now, we will get z-scores for the percent increase in grant money based on the percent increase in housing costs to see if grants are increasing in proportion to housing costs. \n",
    "Z = X-mu/stdDev"
   ]
  },
  {
   "cell_type": "code",
   "execution_count": 84,
   "metadata": {},
   "outputs": [
    {
     "name": "stdout",
     "output_type": "stream",
     "text": [
      "1.14649562969\n",
      "1.13047197001\n",
      "-1.28626432237\n",
      "-0.679158986222\n",
      "-1.33590583319\n"
     ]
    }
   ],
   "source": [
    "# z-score for grant increase values, max overlap\n",
    "z_score_max = {2011:0,2012:0,2013:0,2014:0}\n",
    "\n",
    "#creates a dictionary for X values, for simple iteration\n",
    "x_tot_max = ytot_PIncrease_O\n",
    "x_max = {2011:y11y12_y12y13_PIncrease_O, 2012:y12y13_y13y14_PIncrease_O,2013:y13y14_y14y15_PIncrease_O,\n",
    "         2014:y14y15_y15y16_PIncrease_O}\n",
    "\n",
    "for year in z_score_max:\n",
    "    z_score_max[year] = (x_max[year] - mu[year]) / stdDev[year]\n",
    "\n",
    "z_tot_max = (x_tot_max - mu_tot) / stdDev_tot\n",
    "for year in z_score_max:\n",
    "    print( z_score_max[year])\n",
    "print(z_tot_max)\n"
   ]
  },
  {
   "cell_type": "markdown",
   "metadata": {},
   "source": [
    "We reject the null hypothesis at a z score of +- 1.645. Thus, for these values, we fail to reject the null hypothesis for any year range, and conclude that we have insufficient evidence that grant aid is not increasing at the same rate as rent prices. "
   ]
  },
  {
   "cell_type": "code",
   "execution_count": 86,
   "metadata": {},
   "outputs": [
    {
     "name": "stdout",
     "output_type": "stream",
     "text": [
      "1.09165192857\n",
      "0.714357215216\n",
      "-1.01172710545\n",
      "-0.614694046508\n",
      "-1.33590583319\n"
     ]
    }
   ],
   "source": [
    "# z-score for grant increase values, no overlap\n",
    "z_score_none = {2011:0,2012:0,2013:0,2014:0}\n",
    "\n",
    "#creates a dictionary for X values, for simple iteration\n",
    "x_tot_none = ytot_PIncrease_No\n",
    "x_none = {2011:y11y12_y12y13_PIncrease_No, 2012:y12y13_y13y14_PIncrease_No,2013:y13y14_y14y15_PIncrease_No,\n",
    "         2014:y14y15_y15y16_PIncrease_No}\n",
    "\n",
    "for year in z_score_none:\n",
    "    z_score_none[year] = (x_none[year] - mu[year]) / stdDev[year]\n",
    "\n",
    "z_tot_none = (x_tot_none - mu_tot) / stdDev_tot\n",
    "for year in z_score_none:\n",
    "    print( z_score_none[year])\n",
    "print(z_tot_none)"
   ]
  },
  {
   "cell_type": "code",
   "execution_count": 90,
   "metadata": {},
   "outputs": [
    {
     "name": "stdout",
     "output_type": "stream",
     "text": [
      "1.13012615899\n",
      "1.00652289412\n",
      "-1.20547944753\n",
      "-0.660001952251\n",
      "-1.33590583319\n"
     ]
    }
   ],
   "source": [
    "# z-score for grant increase values, averaged\n",
    "z_score_avg = {2011:0,2012:0,2013:0,2014:0}\n",
    "z_tot_avg = 0\n",
    "\n",
    "\n",
    "#creates a dictionary for X values, for simple iteration\n",
    "x_tot_avg = ytot_PIncrease\n",
    "x_avg = {2011:y11y12_y12y13_PIncrease, 2012:y12y13_y13y14_PIncrease,2013:y13y14_y14y15_PIncrease,\n",
    "         2014:y14y15_y15y16_PIncrease}\n",
    "\n",
    "for year in z_score_avg:\n",
    "    z_score_avg[year] = (x_avg[year] - mu[year]) / stdDev[year]\n",
    "\n",
    "z_tot_avg = (x_tot_avg - mu_tot) / stdDev_tot\n",
    "for year in z_score_avg:\n",
    "    print( z_score_avg[year])\n",
    "print(z_tot_avg)"
   ]
  },
  {
   "cell_type": "code",
   "execution_count": null,
   "metadata": {
    "collapsed": true
   },
   "outputs": [],
   "source": []
  }
 ],
 "metadata": {
  "anaconda-cloud": {},
  "kernelspec": {
   "display_name": "Python 3",
   "language": "python",
   "name": "python3"
  },
  "language_info": {
   "codemirror_mode": {
    "name": "ipython",
    "version": 3
   },
   "file_extension": ".py",
   "mimetype": "text/x-python",
   "name": "python",
   "nbconvert_exporter": "python",
   "pygments_lexer": "ipython3",
   "version": "3.6.0"
  }
 },
 "nbformat": 4,
 "nbformat_minor": 1
}
