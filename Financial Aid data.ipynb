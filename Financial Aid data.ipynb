{
 "cells": [
  {
   "cell_type": "code",
   "execution_count": 1,
   "metadata": {
    "collapsed": false
   },
   "outputs": [],
   "source": [
    "# import correct packages\n",
    "\n",
    "import pandas as pd\n",
    "import json\n",
    "import time\n",
    "import statistics\n",
    "import matplotlib\n",
    "import numpy as np"
   ]
  },
  {
   "cell_type": "code",
   "execution_count": 2,
   "metadata": {
    "collapsed": true
   },
   "outputs": [],
   "source": [
    "# read the json file\n",
    "\n",
    "df = pd.read_json('data.json',lines=True)"
   ]
  },
  {
   "cell_type": "code",
   "execution_count": 3,
   "metadata": {
    "collapsed": true
   },
   "outputs": [],
   "source": [
    "# initialize dictionaries that will track year and price\n",
    "\n",
    "\n",
    "#bed_bath keys/categories\n",
    "#bed1_bath1\n",
    "#bed1_bath15\n",
    "#bed2_bath1\n",
    "#bed2_bath15\n",
    "#bed2_bath2\n",
    "#bed2_bath25\n",
    "#bed3_bath2\n",
    "#bed3_bath25\n",
    "\n",
    "\n",
    "\n",
    "\n",
    "#bedroom4 = {}\n",
    "#bedroom5 = {}\n",
    "\n",
    "\n",
    "#the large dictionary\n",
    "#this splits the data by year, and then by room type, and makes it searchable by zpid\n",
    "#the data will be stored at the lowest level as zpid:avg_cost (over the year)\n",
    "#we are assuming that there are no more than 2 price updates per year and that they are equally weighted\n",
    "#OR that price updates are not significantly larger\n",
    "\n",
    "\n",
    "# data = {2010:{bed1_bath1:{},bed1_bath15:{},bed2_bath1:{},bed2_bath15:{},bed2_bath2:{},bed2_bath25:{},\n",
    "#             bed3_bath2:{}, bed3_bath25:{}},\n",
    "#         2011:{bed1_bath1:{},bed1_bath15:{},bed2_bath1:{},bed2_bath15:{},\n",
    "#             bed2_bath2:{},bed2_bath25:{},bed3_bath2:{}, bed3_bath25:{}},\n",
    "#         2012:{bed1_bath1:{},bed1_bath15:{},\n",
    "#             bed2_bath1:{},bed2_bath15:{},bed2_bath2:{},bed2_bath25:{},bed3_bath2:{}, bed3_bath25:{}},\n",
    "#         2013:{bed1_bath1:{},bed1_bath15:{},bed2_bath1:{},bed2_bath15:{},bed2_bath2:{},bed2_bath25:{},\n",
    "#               bed3_bath2:{}, bed3_bath25:{}},\n",
    "#         2014:{bed1_bath1:{},bed1_bath15:{},bed2_bath1:{},bed2_bath15:{},bed2_bath2:{},bed2_bath25:{},\n",
    "#               bed3_bath2:{}, bed3_bath25:{}},\n",
    "#         2015:{bed1_bath1:{},bed1_bath15:{},bed2_bath1:{},bed2_bath15:{},bed2_bath2:{},bed2_bath25:{},\n",
    "#               bed3_bath2:{}, bed3_bath25:{}},\n",
    "#         2016:{bed1_bath1:{},bed1_bath15:{},bed2_bath1:{},bed2_bath15:{},bed2_bath2:{},bed2_bath25:{},\n",
    "#               bed3_bath2:{}, bed3_bath25:{}}}\n",
    "\n",
    "\n",
    "data = {2009:{}, 2010:{}, 2011:{}, 2012:{}, 2013:{}, 2014:{}, 2015:{}, 2016:{}}\n",
    "\n",
    "\n",
    "\n",
    "c = 0"
   ]
  },
  {
   "cell_type": "code",
   "execution_count": 4,
   "metadata": {
    "collapsed": true
   },
   "outputs": [],
   "source": [
    "#what I want to do\n",
    "#for now, we will do this with no bed_bath breakdowns\n",
    "\n",
    "#iterate through all of the data points by zpid (because that's the format that we have)\n",
    "#for each data point, get the year\n",
    "#CHECK IF YEAR IS WITHIN RANGE\n",
    "#call up the subdictionary of that year\n",
    "                                                                    #get the bed_bath values\n",
    "                                                                    #CHECK IF BED_BATH IS WITHIN RANGE\n",
    "                                                                    #call up the subdictionary of that bed_bath\n",
    "#get the zpid (we have this already)\n",
    "#search the subdictionary for that zpid\n",
    "    #if zpid found, average existing value and new value of cost\n",
    "    #else, add zpid:cost\n",
    "\n",
    "#THEN\n",
    "#go through each dictionary year for each bed_bath type\n",
    "#if zpid in current year and not in following year\n",
    "    #append zpid:previous average to following year\n",
    "\n",
    "#THEN\n",
    "#using a try-catch block, make lists of housing price changes"
   ]
  },
  {
   "cell_type": "code",
   "execution_count": 5,
   "metadata": {
    "collapsed": false
   },
   "outputs": [
    {
     "name": "stdout",
     "output_type": "stream",
     "text": [
      "1199120\n"
     ]
    }
   ],
   "source": [
    "# separate data by year and zpid\n",
    "# the key is the year from [-4:]\n",
    "c = 0\n",
    "count = 0\n",
    "for zpid in df['zpid'].tolist():\n",
    "    homeValue = df.loc[df['zpid'] == zpid]['data'][c]['HomeValueChartData']\n",
    "    chart = json.loads(homeValue)\n",
    "    for i in chart['points']:\n",
    "        year = int(time.ctime(i['x']/1000)[-4:])\n",
    "        if year in data:\n",
    "            if zpid in data[year]:\n",
    "                data[year][zpid] = (i['y'] + data[year][zpid]) * 0.5\n",
    "                count = count+1\n",
    "            else:\n",
    "                data[year][zpid] = (i['y'])\n",
    "    c = c+1\n",
    "print(count)"
   ]
  },
  {
   "cell_type": "code",
   "execution_count": 6,
   "metadata": {
    "collapsed": false
   },
   "outputs": [],
   "source": [
    "# add any missing values from a following year\n",
    "for year in [2010,2011,2012,2013,2014,2015]:\n",
    "    for zpid in data[year]:\n",
    "        if zpid not in data[year+1]:\n",
    "            data[year+1][zpid] = data[year][zpid]\n",
    "#            print(\"added data point from \", year)"
   ]
  },
  {
   "cell_type": "code",
   "execution_count": 7,
   "metadata": {
    "collapsed": false
   },
   "outputs": [],
   "source": [
    "# initialize difference lists\n",
    "diff_data = {\"10_11\":[], \"11_12\":[], \"12_13\":[], \"13_14\":[], \"14_15\":[], \"15_16\":[]}\n",
    "for zpid in data[2015]:\n",
    "    diff_data[\"15_16\"].append((data[2016][zpid] - data[2015][zpid]) / data[2015][zpid])\n",
    "for zpid in data[2014]:\n",
    "    diff_data[\"14_15\"].append((data[2015][zpid] - data[2014][zpid]) / data[2014][zpid])\n",
    "for zpid in data[2013]:\n",
    "    diff_data[\"13_14\"].append((data[2014][zpid] - data[2013][zpid]) / data[2013][zpid])\n",
    "for zpid in data[2012]:\n",
    "    diff_data[\"12_13\"].append((data[2013][zpid] - data[2012][zpid]) / data[2012][zpid])\n",
    "for zpid in data[2011]:\n",
    "    diff_data[\"11_12\"].append((data[2012][zpid] - data[2011][zpid]) / data[2011][zpid])\n",
    "for zpid in data[2010]:\n",
    "    diff_data[\"10_11\"].append((data[2011][zpid] - data[2010][zpid]) / data[2010][zpid])"
   ]
  },
  {
   "cell_type": "code",
   "execution_count": 12,
   "metadata": {
    "collapsed": false
   },
   "outputs": [
    {
     "name": "stdout",
     "output_type": "stream",
     "text": [
      "15870\n",
      "-1.92750120824%\n",
      "7.72994379027%\n",
      " \n",
      "15870\n",
      "4.81149409595%\n",
      "11.8075901919%\n",
      " \n",
      "15870\n",
      "6.97962084036%\n",
      "12.4318866857%\n",
      " \n",
      "15870\n",
      "4.79556550722%\n",
      "8.43546629985%\n",
      " \n",
      "15870\n",
      "0.380393977054%\n",
      "6.38393663319%\n",
      " \n",
      "15870\n",
      "6.681767177%\n",
      "12.0545541496%\n",
      " \n"
     ]
    }
   ],
   "source": [
    "for key in diff_data:\n",
    "    print(len(diff_data[key]))\n",
    "    print(str(np.mean(diff_data[key])*100) + \"%\")\n",
    "    print(str(np.std(diff_data[key])*100) + \"%\")\n",
    "    print(' ')"
   ]
  },
  {
   "cell_type": "code",
   "execution_count": null,
   "metadata": {
    "collapsed": true
   },
   "outputs": [],
   "source": []
  }
 ],
 "metadata": {
  "anaconda-cloud": {},
  "kernelspec": {
   "display_name": "Python [conda root]",
   "language": "python",
   "name": "conda-root-py"
  },
  "language_info": {
   "codemirror_mode": {
    "name": "ipython",
    "version": 2
   },
   "file_extension": ".py",
   "mimetype": "text/x-python",
   "name": "python",
   "nbconvert_exporter": "python",
   "pygments_lexer": "ipython2",
   "version": "2.7.12"
  }
 },
 "nbformat": 4,
 "nbformat_minor": 1
}
