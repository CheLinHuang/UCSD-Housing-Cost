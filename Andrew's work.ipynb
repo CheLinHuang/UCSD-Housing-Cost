{
 "cells": [
  {
   "cell_type": "code",
   "execution_count": 1,
   "metadata": {
    "collapsed": true
   },
   "outputs": [],
   "source": [
    "# import correct packages\n",
    "import pandas as pd\n",
    "import json"
   ]
  },
  {
   "cell_type": "code",
   "execution_count": 2,
   "metadata": {
    "collapsed": true
   },
   "outputs": [],
   "source": [
    "# read the json file\n",
    "df = pd.read_json('data.json',lines=True)"
   ]
  },
  {
   "cell_type": "code",
   "execution_count": 3,
   "metadata": {
    "collapsed": false
   },
   "outputs": [
    {
     "name": "stdout",
     "output_type": "stream",
     "text": [
      "{\"points\": [{\"x\": 1285830000000, \"y\": 2300.0}, {\"x\": 1288508400000, \"y\": 2395.0}, {\"x\": 1291104000000, \"y\": 2200.0}, {\"x\": 1293782400000, \"y\": 2200.0}, {\"x\": 1296460800000, \"y\": 2175.0}, {\"x\": 1298880000000, \"y\": 2195.0}, {\"x\": 1301554800000, \"y\": 2150.0}, {\"x\": 1304146800000, \"y\": 2245.0}, {\"x\": 1306825200000, \"y\": 2250.0}, {\"x\": 1309417200000, \"y\": 2200.0}, {\"x\": 1312095600000, \"y\": 2195.0}, {\"x\": 1314774000000, \"y\": 2200.0}, {\"x\": 1317366000000, \"y\": 2250.0}, {\"x\": 1320044400000, \"y\": 2200.0}, {\"x\": 1322640000000, \"y\": 2200.0}, {\"x\": 1325318400000, \"y\": 2200.0}, {\"x\": 1327996800000, \"y\": 2250.0}, {\"x\": 1330502400000, \"y\": 2250.0}, {\"x\": 1333177200000, \"y\": 2250.0}, {\"x\": 1335769200000, \"y\": 2250.0}, {\"x\": 1338447600000, \"y\": 2300.0}, {\"x\": 1341039600000, \"y\": 2200.0}, {\"x\": 1343718000000, \"y\": 2211.0}, {\"x\": 1346396400000, \"y\": 2345.0}, {\"x\": 1348988400000, \"y\": 2250.0}, {\"x\": 1351666800000, \"y\": 2300.0}, {\"x\": 1354262400000, \"y\": 2450.0}, {\"x\": 1356940800000, \"y\": 2450.0}, {\"x\": 1359619200000, \"y\": 2400.0}, {\"x\": 1362038400000, \"y\": 2295.0}, {\"x\": 1364713200000, \"y\": 2391.0}, {\"x\": 1367305200000, \"y\": 2300.0}, {\"x\": 1369983600000, \"y\": 2395.0}, {\"x\": 1372575600000, \"y\": 2300.0}, {\"x\": 1375254000000, \"y\": 2450.0}, {\"x\": 1377932400000, \"y\": 2400.0}, {\"x\": 1380524400000, \"y\": 2499.0}, {\"x\": 1383202800000, \"y\": 2495.0}, {\"x\": 1385798400000, \"y\": 2395.0}, {\"x\": 1388476800000, \"y\": 2350.0}, {\"x\": 1391155200000, \"y\": 2300.0}, {\"x\": 1393574400000, \"y\": 2400.0}, {\"x\": 1396249200000, \"y\": 2300.0}, {\"x\": 1398841200000, \"y\": 2300.0}, {\"x\": 1401519600000, \"y\": 2450.0}, {\"x\": 1404111600000, \"y\": 2500.0}, {\"x\": 1406790000000, \"y\": 2500.0}, {\"x\": 1409468400000, \"y\": 2500.0}, {\"x\": 1412060400000, \"y\": 2595.0}, {\"x\": 1414738800000, \"y\": 2495.0}, {\"x\": 1417334400000, \"y\": 2495.0}, {\"x\": 1420012800000, \"y\": 2600.0}, {\"x\": 1422691200000, \"y\": 2575.0}, {\"x\": 1425110400000, \"y\": 2650.0}, {\"x\": 1427785200000, \"y\": 2500.0}, {\"x\": 1430377200000, \"y\": 2450.0}, {\"x\": 1433055600000, \"y\": 2950.0}, {\"x\": 1435647600000, \"y\": 2850.0}, {\"x\": 1438326000000, \"y\": 2695.0}, {\"x\": 1441004400000, \"y\": 2750.0}, {\"x\": 1443596400000, \"y\": 2800.0}, {\"x\": 1446274800000, \"y\": 2795.0}, {\"x\": 1448870400000, \"y\": 2645.0}, {\"x\": 1451548800000, \"y\": 2600.0}, {\"x\": 1454227200000, \"y\": 2700.0}, {\"x\": 1456732800000, \"y\": 2700.0}, {\"x\": 1459407600000, \"y\": 2850.0}, {\"x\": 1461999600000, \"y\": 2695.0}, {\"x\": 1464678000000, \"y\": 2500.0}, {\"x\": 1467270000000, \"y\": 2600.0}, {\"x\": 1469948400000, \"y\": 2600.0}, {\"x\": 1472626800000, \"y\": 2650.0}, {\"x\": 1475218800000, \"y\": 2800.0}, {\"x\": 1477897200000, \"y\": 2750.0}, {\"x\": 1480492800000, \"y\": 2700.0}, {\"x\": 1483171200000, \"y\": 2700.0}, {\"x\": 1485849600000, \"y\": 2800.0}, {\"x\": 1488268800000, \"y\": 2850.0}, {\"x\": 1490943600000, \"y\": 2800.0}, {\"x\": 1493535600000, \"y\": 2800.0}, {\"x\": 1495695600000, \"y\": 2850.0}], \"name\": \"This home\", \"id\": 16842300, \"regionType\": \"Home\"}\n"
     ]
    }
   ],
   "source": [
    "# get the homeValue with x as the time of purchase and y as the price per month\n",
    "homeValue = df.loc[df['zpid'] == 16842300]['data'][0]['HomeValueChartData']\n",
    "print(homeValue)"
   ]
  },
  {
   "cell_type": "code",
   "execution_count": 4,
   "metadata": {
    "collapsed": false
   },
   "outputs": [
    {
     "name": "stdout",
     "output_type": "stream",
     "text": [
      "University City\n"
     ]
    }
   ],
   "source": [
    "# get the region name from the json data file\n",
    "regionName = df.loc[df['zpid'] == 16842300]['data'][0]['results']['result']['localRealEstate']['region']['@name']\n",
    "print (regionName)"
   ]
  },
  {
   "cell_type": "code",
   "execution_count": 5,
   "metadata": {
    "collapsed": false
   },
   "outputs": [
    {
     "name": "stdout",
     "output_type": "stream",
     "text": [
      "3\n",
      "2.5\n"
     ]
    }
   ],
   "source": [
    "# get bedroom and bathroom of the place\n",
    "bedroom = df.loc[df['zpid'] == 16842300]['data'][0]['results']['result']['bedrooms']['$']\n",
    "bathroom = df.loc[df['zpid'] == 16842300]['data'][0]['results']['result']['bathrooms']['$']\n",
    "print(bedroom)\n",
    "print(bathroom)"
   ]
  },
  {
   "cell_type": "code",
   "execution_count": 6,
   "metadata": {
    "collapsed": true
   },
   "outputs": [],
   "source": [
    "# method to get region name with df as the thing reading from the json file and zpid the exact data point\n",
    "def extract_region(df, zpid):\n",
    "    return  df.loc[df['zpid'] == zpid]['data'][0]['results']['result']['localRealEstate']['region']['@name']\n",
    "\n"
   ]
  },
  {
   "cell_type": "code",
   "execution_count": 7,
   "metadata": {
    "collapsed": false
   },
   "outputs": [
    {
     "name": "stdout",
     "output_type": "stream",
     "text": [
      "University City\n"
     ]
    }
   ],
   "source": [
    "# testing for the function extract_region\n",
    "assert extract_region(df,16842300) == \"University City\"\n",
    "print (extract_region(df,16842300))"
   ]
  },
  {
   "cell_type": "code",
   "execution_count": 8,
   "metadata": {
    "collapsed": false
   },
   "outputs": [
    {
     "name": "stdout",
     "output_type": "stream",
     "text": [
      "1495695600000\n"
     ]
    },
    {
     "data": {
      "text/plain": [
       "'Thu May 25 00:00:00 2017'"
      ]
     },
     "execution_count": 8,
     "metadata": {},
     "output_type": "execute_result"
    }
   ],
   "source": [
    "# get the time from homeValue and the date using the package time\n",
    "import time\n",
    "homeValue = df.loc[df['zpid'] == 16842300]['data'][0]['HomeValueChartData']\n",
    "chart = json.loads(homeValue)\n",
    "x = chart['points'][80]['x']\n",
    "print (x)\n",
    "time.ctime(x / 1000)\n"
   ]
  },
  {
   "cell_type": "code",
   "execution_count": 76,
   "metadata": {
    "collapsed": false
   },
   "outputs": [
    {
     "data": {
      "text/plain": [
       "'Thu Dec 31 00:00:00 2009'"
      ]
     },
     "execution_count": 76,
     "metadata": {},
     "output_type": "execute_result"
    }
   ],
   "source": [
    "# 1483257600 beginning of 2017\n",
    "# 1451635200 beginning of 2016\n",
    "# 1420099200 beginning of 2015\n",
    "# 1388563200 beginning of 2014\n",
    "# 1357027200 beginning of 2013\n",
    "# 1325404800 beginning of 2012\n",
    "# 1293868800 beginning of 2011\n",
    "# 1262332800 beginning of 2010\n",
    "time.ctime(1293868800   - 31622400)\n",
    "\n",
    "# 366: 31622400\n",
    "# 365: 31536000"
   ]
  },
  {
   "cell_type": "code",
   "execution_count": 77,
   "metadata": {
    "collapsed": false
   },
   "outputs": [
    {
     "name": "stdout",
     "output_type": "stream",
     "text": [
      "1262332800\n",
      "1293782400\n"
     ]
    }
   ],
   "source": [
    "print(1293868800   - 31536000)\n",
    "print(1325404800   - 31622400)"
   ]
  },
  {
   "cell_type": "code",
   "execution_count": 9,
   "metadata": {
    "collapsed": false
   },
   "outputs": [
    {
     "name": "stdout",
     "output_type": "stream",
     "text": [
      "2600.0\n"
     ]
    }
   ],
   "source": [
    "# testing for second zpid and what you may need also checks the price instead\n",
    "homeValue2 = df.loc[df['zpid'] == 16842301]['data'][1]['HomeValueChartData']\n",
    "chart = json.loads(homeValue2)\n",
    "y = chart['points'][80]['y']\n",
    "print(y)"
   ]
  },
  {
   "cell_type": "code",
   "execution_count": 10,
   "metadata": {
    "collapsed": false
   },
   "outputs": [
    {
     "name": "stdout",
     "output_type": "stream",
     "text": [
      "2795.0\n"
     ]
    }
   ],
   "source": [
    "# testing for third zpid and what you may need for the fuction to loop trough it all\n",
    "homeValue3 =  df.loc[df['zpid'] == 16842302]['data'][2]['HomeValueChartData']\n",
    "chart = json.loads(homeValue3)\n",
    "y = chart['points'][80]['y']\n",
    "print(y)"
   ]
  },
  {
   "cell_type": "code",
   "execution_count": 27,
   "metadata": {
    "collapsed": false
   },
   "outputs": [],
   "source": [
    "# in work function to \n",
    "df = pd.read_json('data.json',lines=True)\n",
    "\n",
    "bedroom1_bathroom1 = {}\n",
    "bedroom1_bathroom15 = {}\n",
    "bedroom2_bathroom1 = {}\n",
    "bedroom2_bathroom15 = {}\n",
    "bedroom2_bathroom2 = {}\n",
    "bedroom2_bathroom25 = {}\n",
    "bedroom3_bathroom2 = {}\n",
    "bedroom3_bathroom25 = {}\n",
    "bedroom4 = {}\n",
    "bedroom5 = {}\n",
    "c = 0\n",
    "for zpid in df['zpid'].tolist():\n",
    "#     try:\n",
    "#         homeValue = df.loc[df['zpid'] == zpid]['data'][c]['HomeValueChartData']\n",
    "#     except KeyError:\n",
    "#         c+1\n",
    "#         continue\n",
    "    homeValue = df.loc[df['zpid'] == zpid]['data'][c]['HomeValueChartData']\n",
    "    try:\n",
    "        bedroom = df.loc[df['zpid'] == zpid]['data'][c]['results']['result']['bedrooms']['$']\n",
    "    except TypeError:\n",
    "        c=c+1\n",
    "        continue\n",
    "#     bedroom = df.loc[df['zpid'] == zpid]['data'][c]['results']['result']['bedrooms']['$']\n",
    "\n",
    "\n",
    "    try:\n",
    "        bathroom = df.loc[df['zpid'] == zpid]['data'][c]['results']['result']['bathrooms']['$']\n",
    "    except KeyError:\n",
    "        c=c+1\n",
    "        continue\n",
    "#     bathroom = df.loc[df['zpid'] == zpid]['data'][c]['results']['result']['bathrooms']['$']\n",
    "\n",
    "    \n",
    "    c = c + 1\n",
    "    chart = json.loads(homeValue)\n",
    "    y = chart['points'][-1]['y']\n",
    "    if bedroom == 1:\n",
    "        \n",
    "        if bathroom == 1.0:\n",
    "            bedroom1_bathroom1[zpid] = y\n",
    "        if bathroom == 1.5:\n",
    "            bedroom1_bathroom15[zpid] = y\n",
    "    if bedroom == 2:\n",
    "        if bathroom == 1:\n",
    "            bedroom2_bathroom1[zpid] = y\n",
    "        if bathroom == 1.0:\n",
    "            bedroom2_bathroom1[zpid] = y\n",
    "        if bathroom == 1.5:\n",
    "            bedroom2_bathroom15[zpid] = y\n",
    "        if bathroom == 2:\n",
    "            bedroom2_bathroom2[zpid] = y\n",
    "        if bathroom == 2.0:\n",
    "            bedroom2_bathroom2[zpid] = y\n",
    "        if bathroom == 2.5:\n",
    "            bedroom2_bathroom25[zpid] = y\n",
    "    if bedroom == 3:\n",
    "        if bathroom == 2:\n",
    "            bedroom3_bathroom2[zpid] = y\n",
    "        if bathroom == 2.0:\n",
    "            bedroom3_bathroom2[zpid] = y\n",
    "        if bathroom == 2.5:\n",
    "            bedroom3_bathroom25[zpid] = y\n",
    "    if bedroom == 4:\n",
    "        bedroom4[zpid] = y\n",
    "    if bedroom == 5:\n",
    "        bedroom5[zpid] = y\n",
    "# bedroom = df.loc[df['zpid'] == 16842300]['data'][0]['results']['result']['bedrooms']['$']\n",
    "# bathroom = df.loc[df['zpid'] == 16842300]['data'][0]['results']['result']['bathrooms']['$']\n"
   ]
  },
  {
   "cell_type": "code",
   "execution_count": 28,
   "metadata": {
    "collapsed": false
   },
   "outputs": [],
   "source": [
    "df = pd.read_json('data.json',lines=True)\n",
    "dict = {}\n",
    "c = 0\n",
    "for zpid in df['zpid'].tolist():    \n",
    "    homeValue = df.loc[df['zpid'] == zpid]['data'][c]['HomeValueChartData']\n",
    "    chart = json.loads(homeValue)\n",
    "    \n",
    "    y = chart['points'][-1]['y']\n",
    "    try:\n",
    "        bedroom = df.loc[df['zpid'] == zpid]['data'][c]['results']['result']['bedrooms']['$']\n",
    "    except TypeError:\n",
    "        c= c+1\n",
    "        continue\n",
    "    c = c +1\n",
    "    if bedroom == 5:\n",
    "        dict[zpid] = y\n",
    "    else:\n",
    "        continue\n",
    "#     dict[zpid] = y\n",
    "\n",
    "# number of dict\n",
    "sum = 0\n",
    "number = 0\n",
    "for key, value in dict.items():\n",
    "    sum = sum + value\n",
    "    number = number + 1\n",
    "print (number)"
   ]
  },
  {
   "cell_type": "code",
   "execution_count": 30,
   "metadata": {
    "collapsed": false
   },
   "outputs": [
    {
     "name": "stdout",
     "output_type": "stream",
     "text": [
      "1 bedroom 1 bathrooms\n",
      "number:\n",
      "609\n",
      "sum:\n",
      "1083721.0\n",
      "average:\n",
      "1779.5090311986864\n",
      "\n",
      "1 bedroom 1.5 bathrooms\n",
      "number:\n",
      "37\n",
      "sum:\n",
      "84178.0\n",
      "average:\n",
      "2275.0810810810813\n"
     ]
    }
   ],
   "source": [
    "print(\"1 bedroom 1 bathrooms\")\n",
    "sum = 0\n",
    "number = 0\n",
    "for key, value in bedroom1_bathroom1.items():\n",
    "    sum = sum + value\n",
    "    number = number + 1\n",
    "print(\"number:\")\n",
    "print(number)\n",
    "print (\"sum:\") \n",
    "print(sum)\n",
    "average = sum / number\n",
    "print(\"average:\")\n",
    "print (average)\n",
    "\n",
    "print(\"\\n1 bedroom 1.5 bathrooms\")\n",
    "sum = 0\n",
    "number = 0\n",
    "for key, value in bedroom1_bathroom15.items():\n",
    "    sum = sum + value\n",
    "    number = number + 1\n",
    "print(\"number:\")\n",
    "print(number)\n",
    "print (\"sum:\") \n",
    "print(sum)\n",
    "average = sum / number\n",
    "print(\"average:\")\n",
    "print (average)\n",
    "\n"
   ]
  },
  {
   "cell_type": "code",
   "execution_count": 31,
   "metadata": {
    "collapsed": false
   },
   "outputs": [
    {
     "name": "stdout",
     "output_type": "stream",
     "text": [
      "2 bedroom 1 bathrooms\n",
      "number:\n",
      "501\n",
      "sum:\n",
      "1047575.0\n",
      "average:\n",
      "2090.9680638722557\n",
      "\n",
      "2 bedroom 1.5 bathrooms\n",
      "number:\n",
      "248\n",
      "sum:\n",
      "547541.0\n",
      "average:\n",
      "2207.826612903226\n",
      "\n",
      "2 bedroom 2 bathrooms\n",
      "number:\n",
      "1310\n",
      "sum:\n",
      "3161835.0\n",
      "average:\n",
      "2413.614503816794\n",
      "\n",
      "2 bedroom 2.5 bathrooms\n",
      "number:\n",
      "567\n",
      "sum:\n",
      "1588890.0\n",
      "average:\n",
      "2802.2751322751324\n"
     ]
    }
   ],
   "source": [
    "print(\"2 bedroom 1 bathrooms\")\n",
    "sum = 0\n",
    "number = 0\n",
    "for key, value in bedroom2_bathroom1.items():\n",
    "    sum = sum + value\n",
    "    number = number + 1\n",
    "print(\"number:\")\n",
    "print(number)\n",
    "print (\"sum:\") \n",
    "print(sum)\n",
    "average = sum / number\n",
    "print(\"average:\")\n",
    "print (average)\n",
    "\n",
    "print(\"\\n2 bedroom 1.5 bathrooms\")\n",
    "sum = 0\n",
    "number = 0\n",
    "for key, value in bedroom2_bathroom15.items():\n",
    "    sum = sum + value\n",
    "    number = number + 1\n",
    "print(\"number:\")\n",
    "print(number)\n",
    "print (\"sum:\") \n",
    "print(sum)\n",
    "average = sum / number\n",
    "print(\"average:\")\n",
    "print (average)\n",
    "\n",
    "print(\"\\n2 bedroom 2 bathrooms\")\n",
    "sum = 0\n",
    "number = 0\n",
    "for key, value in bedroom2_bathroom2.items():\n",
    "    sum = sum + value\n",
    "    number = number + 1\n",
    "print(\"number:\")\n",
    "print(number)\n",
    "print (\"sum:\") \n",
    "print(sum)\n",
    "average = sum / number\n",
    "print(\"average:\")\n",
    "print (average)\n",
    "\n",
    "print(\"\\n2 bedroom 2.5 bathrooms\")\n",
    "sum = 0\n",
    "number = 0\n",
    "for key, value in bedroom2_bathroom25.items():\n",
    "    sum = sum + value\n",
    "    number = number + 1\n",
    "print(\"number:\")\n",
    "print(number)\n",
    "print (\"sum:\") \n",
    "print(sum)\n",
    "average = sum / number\n",
    "print(\"average:\")\n",
    "print (average)\n",
    "# print(bedroom2)"
   ]
  },
  {
   "cell_type": "code",
   "execution_count": 32,
   "metadata": {
    "collapsed": false,
    "scrolled": true
   },
   "outputs": [
    {
     "name": "stdout",
     "output_type": "stream",
     "text": [
      "3 bedroom 2 bathrooms\n",
      "number:\n",
      "963\n",
      "sum:\n",
      "3007447.0\n",
      "average:\n",
      "3122.997923156802\n",
      "\n",
      "3 bedroom 2.5 bathrooms\n",
      "number:\n",
      "694\n",
      "sum:\n",
      "2138816.0\n",
      "average:\n",
      "3081.8674351585014\n"
     ]
    }
   ],
   "source": [
    "print(\"3 bedroom 2 bathrooms\")\n",
    "sum = 0\n",
    "number = 0\n",
    "for key, value in bedroom3_bathroom2.items():\n",
    "    sum = sum + value\n",
    "    number = number + 1\n",
    "print(\"number:\")\n",
    "print(number)\n",
    "print (\"sum:\") \n",
    "print(sum)\n",
    "average = sum / number\n",
    "print(\"average:\")\n",
    "print (average)\n",
    "\n",
    "print(\"\\n3 bedroom 2.5 bathrooms\")\n",
    "sum = 0\n",
    "number = 0\n",
    "for key, value in bedroom3_bathroom25.items():\n",
    "    sum = sum + value\n",
    "    number = number + 1\n",
    "print(\"number:\")\n",
    "print(number)\n",
    "print (\"sum:\") \n",
    "print(sum)\n",
    "average = sum / number\n",
    "print(\"average:\")\n",
    "print (average)"
   ]
  },
  {
   "cell_type": "code",
   "execution_count": 33,
   "metadata": {
    "collapsed": false
   },
   "outputs": [
    {
     "name": "stdout",
     "output_type": "stream",
     "text": [
      "4 bedroom \n",
      "number:\n",
      "1007\n",
      "sum:\n",
      "4103418.0\n",
      "average:\n",
      "4074.893743793446\n",
      "\n",
      "5 bedroom \n",
      "number:\n",
      "415\n",
      "sum:\n",
      "2145480.0\n",
      "average:\n",
      "5169.831325301205\n"
     ]
    }
   ],
   "source": [
    "print(\"4 bedroom \")\n",
    "sum = 0\n",
    "number = 0\n",
    "for key, value in bedroom4.items():\n",
    "    sum = sum + value\n",
    "    number = number + 1\n",
    "print(\"number:\")\n",
    "print(number)\n",
    "print (\"sum:\") \n",
    "print(sum)\n",
    "average = sum / number\n",
    "print(\"average:\")\n",
    "print (average)\n",
    "\n",
    "print(\"\\n5 bedroom \")\n",
    "sum = 0\n",
    "number = 0\n",
    "for key, value in bedroom5.items():\n",
    "    sum = sum + value\n",
    "    number = number + 1\n",
    "print(\"number:\")\n",
    "print(number)\n",
    "print (\"sum:\") \n",
    "print(sum)\n",
    "average = sum / number\n",
    "print(\"average:\")\n",
    "print (average)"
   ]
  },
  {
   "cell_type": "code",
   "execution_count": null,
   "metadata": {
    "collapsed": true
   },
   "outputs": [],
   "source": [
    "# homeValue = df.loc[df['zpid'] == 16842300]['data'][0]['HomeValueChartData']\n",
    "# fuction to get date from homevalue\n",
    "def extract_date(homeValue, index):\n",
    "    date = json.loads(homeValue)\n",
    "    x = date['points'][index]['x']\n",
    "    return time.ctime(x / 1000)"
   ]
  },
  {
   "cell_type": "code",
   "execution_count": null,
   "metadata": {
    "collapsed": true
   },
   "outputs": [],
   "source": []
  },
  {
   "cell_type": "code",
   "execution_count": null,
   "metadata": {
    "collapsed": true
   },
   "outputs": [],
   "source": []
  }
 ],
 "metadata": {
  "kernelspec": {
   "display_name": "Python 3",
   "language": "python",
   "name": "python3"
  },
  "language_info": {
   "codemirror_mode": {
    "name": "ipython",
    "version": 3
   },
   "file_extension": ".py",
   "mimetype": "text/x-python",
   "name": "python",
   "nbconvert_exporter": "python",
   "pygments_lexer": "ipython3",
   "version": "3.6.0"
  }
 },
 "nbformat": 4,
 "nbformat_minor": 2
}
